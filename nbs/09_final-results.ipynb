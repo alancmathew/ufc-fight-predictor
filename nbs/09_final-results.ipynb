{
 "cells": [
  {
   "cell_type": "markdown",
   "id": "59084a4d-1823-41ce-b50d-131772169bad",
   "metadata": {
    "tags": []
   },
   "source": [
    "## Final Results"
   ]
  },
  {
   "cell_type": "code",
   "execution_count": 1,
   "id": "9d187cf9-82ed-4834-b11e-613400e6a256",
   "metadata": {},
   "outputs": [],
   "source": [
    "import os\n",
    "import sys\n",
    "import json\n",
    "import time\n",
    "import joblib\n",
    "import warnings\n",
    "import numpy as np\n",
    "import pandas as pd\n",
    "from tqdm import tqdm\n",
    "import matplotlib.pyplot as plt\n",
    "from multiprocessing import Pool, cpu_count"
   ]
  },
  {
   "cell_type": "code",
   "execution_count": 2,
   "id": "bd42dd25-b44f-4c90-b738-8a0590798c86",
   "metadata": {},
   "outputs": [],
   "source": [
    "sys.path.append(\"../src/\")"
   ]
  },
  {
   "cell_type": "code",
   "execution_count": 3,
   "id": "b6bdccfd-3c4e-4343-ad86-f00b6405ff9f",
   "metadata": {},
   "outputs": [],
   "source": [
    "from utilities import *"
   ]
  },
  {
   "cell_type": "code",
   "execution_count": 4,
   "id": "17b0099d-9727-4752-ba14-ccf2e994f355",
   "metadata": {},
   "outputs": [],
   "source": [
    "pd.set_option(\"display.max_columns\", None)"
   ]
  },
  {
   "cell_type": "code",
   "execution_count": 5,
   "id": "49ed281c-9f9e-47f5-89ec-74b878ef4cab",
   "metadata": {},
   "outputs": [],
   "source": [
    "from sklearn.model_selection import cross_val_score"
   ]
  },
  {
   "cell_type": "markdown",
   "id": "98c27cb1-34e4-4428-a404-e115688b16e9",
   "metadata": {},
   "source": [
    "### Load Data"
   ]
  },
  {
   "cell_type": "code",
   "execution_count": 6,
   "id": "22b8ef9a-19b6-4165-95bf-9795d879c4a8",
   "metadata": {},
   "outputs": [],
   "source": [
    "filepath = os.path.join(dir_dict[\"train_test\"], f\"train.parquet\")\n",
    "train = pd.read_parquet(filepath)\n",
    "filepath = os.path.join(dir_dict[\"train_test\"], f\"test.parquet\")\n",
    "test = pd.read_parquet(filepath)\n",
    "\n",
    "df = pd.concat([train, test], axis=0)\n",
    "to_drop = [\"event_date\", \"fight_id\", \"fighter_id\", \"opponent_id\"]\n",
    "df = df.drop(to_drop, axis=1)\n",
    "\n",
    "target = \"fight_fighter_win\"\n",
    "X, y = df.drop(target, axis=1), df[target]"
   ]
  },
  {
   "cell_type": "markdown",
   "id": "3b305130-88fc-4f97-b968-43a034c72199",
   "metadata": {},
   "source": [
    "### Load Pipelines"
   ]
  },
  {
   "cell_type": "code",
   "execution_count": 7,
   "id": "3499f927-da41-4037-af0f-7f6e8ce5a387",
   "metadata": {},
   "outputs": [],
   "source": [
    "pipe = joblib.load(\"../assets/model_training/trained_pipeline_final.joblib\")"
   ]
  },
  {
   "cell_type": "markdown",
   "id": "da052189-8d58-46e3-bb0f-a717a555150a",
   "metadata": {},
   "source": [
    "## Feature Importances"
   ]
  },
  {
   "cell_type": "code",
   "execution_count": 8,
   "id": "bcb09bc2-3d7e-4c7a-8949-6012a48fb560",
   "metadata": {},
   "outputs": [],
   "source": [
    "selector = pipe.named_steps[\"selector\"]"
   ]
  },
  {
   "cell_type": "code",
   "execution_count": 9,
   "id": "2e655ff9-fde0-4557-94ca-e27f3ccbe127",
   "metadata": {},
   "outputs": [],
   "source": [
    "_ = selector.fit_transform(X, y)"
   ]
  },
  {
   "cell_type": "code",
   "execution_count": 10,
   "id": "88b5543b-f3c9-4ff4-9a93-1c88f890c376",
   "metadata": {},
   "outputs": [],
   "source": [
    "final_features = selector.get_feature_names_out()"
   ]
  },
  {
   "cell_type": "code",
   "execution_count": 11,
   "id": "6303ee0e-28bf-416e-8f00-e39d1caf0435",
   "metadata": {},
   "outputs": [],
   "source": [
    "model = pipe.named_steps[\"model\"]"
   ]
  },
  {
   "cell_type": "code",
   "execution_count": 12,
   "id": "4c3a4358-ba54-415c-84de-849cde6c19a8",
   "metadata": {},
   "outputs": [],
   "source": [
    "coefs = model.coef_[0]"
   ]
  },
  {
   "cell_type": "code",
   "execution_count": 13,
   "id": "7f333b4c-d911-4593-a24c-e72239f27ff4",
   "metadata": {},
   "outputs": [],
   "source": [
    "feature_coefs = pd.Series(coefs, index=final_features)"
   ]
  },
  {
   "cell_type": "code",
   "execution_count": 14,
   "id": "9f1e7fd7-0921-46e1-ab52-332279c031a4",
   "metadata": {},
   "outputs": [],
   "source": [
    "simple_features = [col for col in feature_coefs.index if \"cummean\" not in col]\n",
    "feature_coefs = feature_coefs[simple_features]"
   ]
  },
  {
   "cell_type": "code",
   "execution_count": 15,
   "id": "a902286d-8207-45c3-968d-76fa3ba06924",
   "metadata": {},
   "outputs": [],
   "source": [
    "pos_features = feature_coefs.sort_values(ascending=False)[:10]\n",
    "empty_row = pd.Series([\"...\"], index=[\"...\"])\n",
    "neg_features = feature_coefs.sort_values()[:10].sort_values(ascending=False)\n",
    "imp_features = pd.DataFrame(pd.concat([pos_features, empty_row, neg_features]), columns=[\"feature_coef\"])"
   ]
  },
  {
   "cell_type": "code",
   "execution_count": 16,
   "id": "4f4c3e8b-aab5-465c-938a-472ce155d2a0",
   "metadata": {},
   "outputs": [],
   "source": [
    "imp_features.index.name = \"feature\""
   ]
  },
  {
   "cell_type": "code",
   "execution_count": 17,
   "id": "78489b08-139b-46c4-ba39-dc72142f20ba",
   "metadata": {},
   "outputs": [
    {
     "data": {
      "text/html": [
       "<div>\n",
       "<style scoped>\n",
       "    .dataframe tbody tr th:only-of-type {\n",
       "        vertical-align: middle;\n",
       "    }\n",
       "\n",
       "    .dataframe tbody tr th {\n",
       "        vertical-align: top;\n",
       "    }\n",
       "\n",
       "    .dataframe thead th {\n",
       "        text-align: right;\n",
       "    }\n",
       "</style>\n",
       "<table border=\"1\" class=\"dataframe\">\n",
       "  <thead>\n",
       "    <tr style=\"text-align: right;\">\n",
       "      <th></th>\n",
       "      <th>feature_coef</th>\n",
       "    </tr>\n",
       "    <tr>\n",
       "      <th>feature</th>\n",
       "      <th></th>\n",
       "    </tr>\n",
       "  </thead>\n",
       "  <tbody>\n",
       "    <tr>\n",
       "      <th>opponent_age</th>\n",
       "      <td>1.499032</td>\n",
       "    </tr>\n",
       "    <tr>\n",
       "      <th>fighter_reach_inches</th>\n",
       "      <td>1.068637</td>\n",
       "    </tr>\n",
       "    <tr>\n",
       "      <th>fighter_win_streak</th>\n",
       "      <td>0.85252</td>\n",
       "    </tr>\n",
       "    <tr>\n",
       "      <th>fighter_rollsum10_wins</th>\n",
       "      <td>0.828116</td>\n",
       "    </tr>\n",
       "    <tr>\n",
       "      <th>opponent_method_decision_split_wins</th>\n",
       "      <td>0.779593</td>\n",
       "    </tr>\n",
       "    <tr>\n",
       "      <th>opponent_rollsum3_losses</th>\n",
       "      <td>0.658653</td>\n",
       "    </tr>\n",
       "    <tr>\n",
       "      <th>opponent_rollsum3_wins</th>\n",
       "      <td>0.631909</td>\n",
       "    </tr>\n",
       "    <tr>\n",
       "      <th>fighter_cumsum_winrate</th>\n",
       "      <td>0.516765</td>\n",
       "    </tr>\n",
       "    <tr>\n",
       "      <th>fighter_rollsum20_winrate</th>\n",
       "      <td>0.497244</td>\n",
       "    </tr>\n",
       "    <tr>\n",
       "      <th>opponent_cumsum_round3_winrate</th>\n",
       "      <td>0.489205</td>\n",
       "    </tr>\n",
       "    <tr>\n",
       "      <th>...</th>\n",
       "      <td>...</td>\n",
       "    </tr>\n",
       "    <tr>\n",
       "      <th>fighter_cumsum_round3_winrate</th>\n",
       "      <td>-0.489205</td>\n",
       "    </tr>\n",
       "    <tr>\n",
       "      <th>opponent_rollsum20_winrate</th>\n",
       "      <td>-0.497244</td>\n",
       "    </tr>\n",
       "    <tr>\n",
       "      <th>opponent_cumsum_winrate</th>\n",
       "      <td>-0.516765</td>\n",
       "    </tr>\n",
       "    <tr>\n",
       "      <th>fighter_rollsum3_wins</th>\n",
       "      <td>-0.631909</td>\n",
       "    </tr>\n",
       "    <tr>\n",
       "      <th>fighter_rollsum3_losses</th>\n",
       "      <td>-0.658653</td>\n",
       "    </tr>\n",
       "    <tr>\n",
       "      <th>fighter_method_decision_split_wins</th>\n",
       "      <td>-0.779593</td>\n",
       "    </tr>\n",
       "    <tr>\n",
       "      <th>opponent_rollsum10_wins</th>\n",
       "      <td>-0.828116</td>\n",
       "    </tr>\n",
       "    <tr>\n",
       "      <th>opponent_win_streak</th>\n",
       "      <td>-0.85252</td>\n",
       "    </tr>\n",
       "    <tr>\n",
       "      <th>opponent_reach_inches</th>\n",
       "      <td>-1.068637</td>\n",
       "    </tr>\n",
       "    <tr>\n",
       "      <th>fighter_age</th>\n",
       "      <td>-1.499032</td>\n",
       "    </tr>\n",
       "  </tbody>\n",
       "</table>\n",
       "</div>"
      ],
      "text/plain": [
       "                                    feature_coef\n",
       "feature                                         \n",
       "opponent_age                            1.499032\n",
       "fighter_reach_inches                    1.068637\n",
       "fighter_win_streak                       0.85252\n",
       "fighter_rollsum10_wins                  0.828116\n",
       "opponent_method_decision_split_wins     0.779593\n",
       "opponent_rollsum3_losses                0.658653\n",
       "opponent_rollsum3_wins                  0.631909\n",
       "fighter_cumsum_winrate                  0.516765\n",
       "fighter_rollsum20_winrate               0.497244\n",
       "opponent_cumsum_round3_winrate          0.489205\n",
       "...                                          ...\n",
       "fighter_cumsum_round3_winrate          -0.489205\n",
       "opponent_rollsum20_winrate             -0.497244\n",
       "opponent_cumsum_winrate                -0.516765\n",
       "fighter_rollsum3_wins                  -0.631909\n",
       "fighter_rollsum3_losses                -0.658653\n",
       "fighter_method_decision_split_wins     -0.779593\n",
       "opponent_rollsum10_wins                -0.828116\n",
       "opponent_win_streak                     -0.85252\n",
       "opponent_reach_inches                  -1.068637\n",
       "fighter_age                            -1.499032"
      ]
     },
     "execution_count": 17,
     "metadata": {},
     "output_type": "execute_result"
    }
   ],
   "source": [
    "imp_features"
   ]
  },
  {
   "cell_type": "markdown",
   "id": "a4c86fa2-ed3f-4511-b4c5-c07fba836bac",
   "metadata": {},
   "source": [
    "#### Younger Fighter"
   ]
  },
  {
   "cell_type": "code",
   "execution_count": 27,
   "id": "e37d8d4a-b9cd-47d1-beff-bb2e185c7508",
   "metadata": {},
   "outputs": [
    {
     "data": {
      "text/plain": [
       "0.5770592400283219"
      ]
     },
     "execution_count": 27,
     "metadata": {},
     "output_type": "execute_result"
    }
   ],
   "source": [
    "younger_fighter_winloss = df.loc[df[\"fighter_age\"] < df[\"opponent_age\"], target]\n",
    "\n",
    "younger_fighter_winloss.sum() / younger_fighter_winloss.shape[0]"
   ]
  },
  {
   "cell_type": "markdown",
   "id": "7c5a4679-2463-469a-811f-207eb77ce78c",
   "metadata": {
    "tags": []
   },
   "source": [
    "#### Reach"
   ]
  },
  {
   "cell_type": "code",
   "execution_count": 28,
   "id": "873ba443-6a8e-4a6a-b8a7-fae72d723306",
   "metadata": {},
   "outputs": [
    {
     "data": {
      "text/plain": [
       "0.5247674126225799"
      ]
     },
     "execution_count": 28,
     "metadata": {},
     "output_type": "execute_result"
    }
   ],
   "source": [
    "reach_adv_fighter_winloss = df.loc[df[\"fighter_reach_inches\"] > df[\"opponent_reach_inches\"], target]\n",
    "\n",
    "reach_adv_fighter_winloss.sum() / reach_adv_fighter_winloss.shape[0]"
   ]
  },
  {
   "cell_type": "code",
   "execution_count": 31,
   "id": "19557f25-5ede-43bc-a68b-572edd4dda42",
   "metadata": {},
   "outputs": [],
   "source": [
    "corrs = df.corr()[target]"
   ]
  },
  {
   "cell_type": "code",
   "execution_count": 34,
   "id": "f05d8ca9-4db0-44d6-944e-451334c6de4e",
   "metadata": {},
   "outputs": [
    {
     "data": {
      "text/plain": [
       "0.06328622801525526"
      ]
     },
     "execution_count": 34,
     "metadata": {},
     "output_type": "execute_result"
    }
   ],
   "source": [
    "corrs.sort_values(ascending=False)[\"fighter_win_streak\"]"
   ]
  },
  {
   "cell_type": "code",
   "execution_count": null,
   "id": "2da07bcf-e328-4ea5-8c92-98958d95f6dd",
   "metadata": {},
   "outputs": [],
   "source": []
  }
 ],
 "metadata": {
  "kernelspec": {
   "display_name": "Python 3 (ipykernel)",
   "language": "python",
   "name": "python3"
  },
  "language_info": {
   "codemirror_mode": {
    "name": "ipython",
    "version": 3
   },
   "file_extension": ".py",
   "mimetype": "text/x-python",
   "name": "python",
   "nbconvert_exporter": "python",
   "pygments_lexer": "ipython3",
   "version": "3.9.13"
  }
 },
 "nbformat": 4,
 "nbformat_minor": 5
}
