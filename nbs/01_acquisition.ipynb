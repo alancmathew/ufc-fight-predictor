{
 "cells": [
  {
   "cell_type": "markdown",
   "id": "4b529969-d1f5-49b5-bea8-f36f33bf66d0",
   "metadata": {},
   "source": [
    "## Data Collection"
   ]
  },
  {
   "cell_type": "code",
   "execution_count": 1,
   "id": "f86d6700-e4e7-463d-b00e-5fe7771b30f1",
   "metadata": {},
   "outputs": [],
   "source": [
    "import os\n",
    "import time\n",
    "import httpx\n",
    "import random\n",
    "import pandas as pd\n",
    "from tqdm import tqdm\n",
    "from bs4 import BeautifulSoup"
   ]
  },
  {
   "cell_type": "code",
   "execution_count": 2,
   "id": "8c0e6e3a-d9f6-4105-8155-a0a8a17c79f1",
   "metadata": {},
   "outputs": [],
   "source": [
    "lmap = lambda funcion, iterable: list(map(funcion, iterable))\n",
    "lfilter = lambda funcion, iterable: list(filter(funcion, iterable))"
   ]
  },
  {
   "cell_type": "code",
   "execution_count": 3,
   "id": "0926e55c-745b-491b-921c-c71591c98333",
   "metadata": {},
   "outputs": [],
   "source": [
    "data_dir = \"../data/\"\n",
    "raw_dir = os.path.join(data_dir, \"raw\")\n",
    "raw_csv_dir = os.path.join(raw_dir, \"csv\")\n",
    "html_dir = os.path.join(raw_dir, \"html\")\n",
    "completed_html_dir = os.path.join(html_dir, \"completed\")\n",
    "upcoming_html_dir = os.path.join(html_dir, \"upcoming\")\n",
    "fighterlist_html_dir = os.path.join(html_dir, \"fighterlist\")\n",
    "fighters_html_dir = os.path.join(html_dir, \"fighters\")\n",
    "completed_eventlist_html_dir = os.path.join(completed_html_dir, \"eventlist\")\n",
    "completed_events_html_dir = os.path.join(completed_html_dir, \"events\")\n",
    "completed_fights_html_dir = os.path.join(completed_html_dir, \"fights\")\n",
    "upcoming_eventlist_html_dir = os.path.join(upcoming_html_dir, \"eventlist\")\n",
    "upcoming_events_html_dir = os.path.join(upcoming_html_dir, \"events\")\n",
    "upcoming_fights_html_dir = os.path.join(upcoming_html_dir, \"fights\")"
   ]
  },
  {
   "cell_type": "code",
   "execution_count": 4,
   "id": "fb843a33-40a1-43df-b2d1-8f0b67641258",
   "metadata": {},
   "outputs": [],
   "source": [
    "dirs = [raw_csv_dir, fighters_html_dir, fighterlist_html_dir,\n",
    "        completed_eventlist_html_dir, \n",
    "        completed_events_html_dir,\n",
    "        upcoming_eventlist_html_dir, upcoming_events_html_dir,\n",
    "       completed_fights_html_dir, upcoming_fights_html_dir]\n",
    "\n",
    "for folderpath in dirs:\n",
    "    os.makedirs(folderpath, exist_ok=True)"
   ]
  },
  {
   "cell_type": "code",
   "execution_count": 5,
   "id": "debac4c1-8ec4-42dc-85a0-e9c679af2cc3",
   "metadata": {},
   "outputs": [],
   "source": [
    "def save_html(html_str: str, filename: str, folderpath: str = html_dir) -> None:\n",
    "    os.makedirs(folderpath, exist_ok=True)\n",
    "    \n",
    "    filepath = os.path.join(folderpath, filename)\n",
    "    with open(filepath, \"w\") as f:\n",
    "        f.write(html_str)"
   ]
  },
  {
   "cell_type": "code",
   "execution_count": 6,
   "id": "2528cdd8-bed1-4b60-9c6d-e68b5b08ede9",
   "metadata": {},
   "outputs": [],
   "source": [
    "def download_get_html(url: str, filename: str, folderpath: str = html_dir, session=None) -> str:\n",
    "    if session:\n",
    "        r = session.get(url)\n",
    "    else:\n",
    "        r = httpx.get(url)\n",
    "        \n",
    "    if r.status_code == 200:\n",
    "        html_str = r.text\n",
    "        save_html(html_str, filename, folderpath)\n",
    "        return html_str\n",
    "    else:\n",
    "        print(f\"Unable to get: {url}\")"
   ]
  },
  {
   "cell_type": "code",
   "execution_count": 7,
   "id": "c95aa9f5-d388-4305-9466-7c3a29017c7f",
   "metadata": {},
   "outputs": [],
   "source": [
    " def download_sequential_pages(first_url:str, folderpath: str = html_dir) -> None:\n",
    "    with httpx.Client() as session:\n",
    "        html = download_get_html(first_url, \"page01.html\", folderpath, session)\n",
    "        soup = BeautifulSoup(html)\n",
    "\n",
    "        page_links = soup.find_all(\"a\", class_=\"b-statistics__paginate-link\")\n",
    "\n",
    "        page_nums = [a.text.strip() for a in page_links]\n",
    "        \n",
    "        for idx, num in enumerate(page_nums):\n",
    "            try:\n",
    "                page_nums[idx] = int(num)\n",
    "            except ValueError:\n",
    "                page_nums.remove(num)\n",
    "\n",
    "        num_pages = max(page_nums)\n",
    "        \n",
    "        if num_pages != 1:\n",
    "            for page_num in tqdm(range(2, num_pages+1)):\n",
    "                url = f\"{first_url}?page={page_num}\"\n",
    "                _ = download_get_html(url, f\"page{page_num:02}.html\", folderpath, session)\n",
    "                time.sleep(random.randint(1, 3))"
   ]
  },
  {
   "cell_type": "code",
   "execution_count": 8,
   "id": "dbc8c856-da15-46af-a06e-53898a735b92",
   "metadata": {},
   "outputs": [],
   "source": [
    "def save_pages(urls: list[str], outfolderdir: str) -> None:\n",
    "    fail_score = 0\n",
    "    reached_not_downloaded = False\n",
    "    session = httpx.Client()\n",
    "    for idx, url in enumerate(tqdm(urls)):\n",
    "        if reached_not_downloaded and (idx != 0) and (idx%25 == 0):\n",
    "            session.close()\n",
    "            time.sleep(random.randint(60000, 300000)/1000)\n",
    "            print(\"Switching session\")\n",
    "            session = httpx.Client()\n",
    "        unique_id = os.path.split(url)[1]\n",
    "        if not os.path.exists(os.path.join(outfolderdir, f\"{unique_id}.html\")):\n",
    "            reached_not_downloaded = True\n",
    "            try:\n",
    "                download_get_html(url, f\"{unique_id}.html\", outfolderdir, session)\n",
    "                if fail_score > 0:\n",
    "                    fail_score -= 1\n",
    "            except:\n",
    "                fail_score += 2\n",
    "                print(f\"Network request unsuccessful. Fail score: {fail_score}\")\n",
    "                session.close()\n",
    "                \n",
    "                if fail_score >= 20:\n",
    "                    break\n",
    "                session = httpx.Client()\n",
    "            finally:\n",
    "                time.sleep(random.randint(10000, 20000)/1000)\n",
    "        else:\n",
    "            reached_not_downloaded = False"
   ]
  },
  {
   "cell_type": "markdown",
   "id": "6ea6d7b4-fb18-490c-a059-4ab8db491625",
   "metadata": {},
   "source": [
    "### Get Events list"
   ]
  },
  {
   "cell_type": "markdown",
   "id": "c7ee0574-d0b8-46d0-99b7-e2bf05cbee93",
   "metadata": {},
   "source": [
    "#### Completed"
   ]
  },
  {
   "cell_type": "code",
   "execution_count": null,
   "id": "6c163a67-c788-44e7-96bf-02725d0ea741",
   "metadata": {},
   "outputs": [],
   "source": [
    "completed_first_url = \"http://ufcstats.com/statistics/events/completed\"\n",
    "download_sequential_pages(completed_first_url, completed_eventlist_html_dir)"
   ]
  },
  {
   "cell_type": "markdown",
   "id": "5dd3919d-daff-4a18-a7f2-23ca9821d7ea",
   "metadata": {},
   "source": [
    "#### Upcoming"
   ]
  },
  {
   "cell_type": "code",
   "execution_count": null,
   "id": "e5ad09cf-d8ad-4eee-b728-ddf291f45a5a",
   "metadata": {},
   "outputs": [],
   "source": [
    "upcoming_first_url = \"http://ufcstats.com/statistics/events/upcoming\"\n",
    "download_sequential_pages(upcoming_first_url, upcoming_eventlist_html_dir)"
   ]
  },
  {
   "cell_type": "markdown",
   "id": "77c6f6db-614e-4085-ae3a-903bdb1bd0f0",
   "metadata": {},
   "source": [
    "### Parse Events list"
   ]
  },
  {
   "cell_type": "code",
   "execution_count": null,
   "id": "4b5a1bcc-30b1-4d5e-b670-673bb5ef7f37",
   "metadata": {},
   "outputs": [],
   "source": [
    "def get_events_list(eventlist_html_dir: str) -> list[str]:\n",
    "    \n",
    "    def extract_event_data(row):\n",
    "        features = {\n",
    "            \"name\": None,\n",
    "            \"date\": None,\n",
    "            \"location\": None,\n",
    "            \"url\": None\n",
    "        }\n",
    "        \n",
    "        a_elem = row.find(\"a\", class_=\"b-link b-link_style_black\")\n",
    "        features[\"name\"], features[\"url\"] = a_elem.text.strip(), a_elem[\"href\"]\n",
    "        features[\"date\"] = row.find(\"span\", class_=\"b-statistics__date\").text.strip()\n",
    "        features[\"location\"] = row.find_all(\"td\")[1].text.strip()\n",
    "            \n",
    "        return features\n",
    "    \n",
    "    events_list = []\n",
    "    page_files = sorted(lfilter(lambda s: s.endswith(\".html\"), os.listdir(eventlist_html_dir)))\n",
    "    for file in page_files:\n",
    "        filepath = os.path.join(eventlist_html_dir, file)\n",
    "        with open(filepath, \"r\") as f:\n",
    "            eventlistpage_html = f.read()\n",
    "            assert eventlistpage_html != \"\"\n",
    "            soup = BeautifulSoup(eventlistpage_html)\n",
    "            row_elems = soup.find(\"tbody\").find_all(\"tr\", class_=\"b-statistics__table-row\")\n",
    "            row_elems = lfilter(lambda r: len(r.find_all(\"a\", class_=\"b-link b-link_style_black\")) != 0, row_elems)\n",
    "            events_sublist = lmap(extract_event_data, row_elems)\n",
    "            events_list.extend(events_sublist)\n",
    "            \n",
    "    return events_list"
   ]
  },
  {
   "cell_type": "code",
   "execution_count": 9,
   "id": "fbe8c77a-3c72-46a7-a8c8-d45b87b3cb2b",
   "metadata": {},
   "outputs": [],
   "source": [
    "def write_list_to_file(thelist: list[str], filepath: str) -> None:\n",
    "    with open(filepath, \"w\") as f:\n",
    "        for item in thelist:\n",
    "            f.write(f\"{item}\\n\")"
   ]
  },
  {
   "cell_type": "code",
   "execution_count": 10,
   "id": "000bc69a-ef0f-497d-ba4f-09e772087c08",
   "metadata": {},
   "outputs": [],
   "source": [
    "def read_list_from_file(filepath: str) -> list[str]:\n",
    "    with open(filepath, \"r\") as f:\n",
    "        return f.read().splitlines()"
   ]
  },
  {
   "cell_type": "code",
   "execution_count": null,
   "id": "e79afaf2-632b-45e6-85ae-8841220e25ed",
   "metadata": {},
   "outputs": [],
   "source": [
    "def save_events_df(eventlist_html_dir: str, outfilename: str) -> pd.DataFrame:\n",
    "    events_list = get_events_list(eventlist_html_dir)\n",
    "    print(f\"Event list length: {len(events_list)}\")\n",
    "    events_df = pd.DataFrame(events_list)\n",
    "    filepath = os.path.join(raw_csv_dir, outfilename)\n",
    "    events_df.to_csv(filepath, index=False)\n",
    "    return events_df"
   ]
  },
  {
   "cell_type": "markdown",
   "id": "263513dc-559a-4475-bb3a-bfc358e68255",
   "metadata": {},
   "source": [
    "#### Completed"
   ]
  },
  {
   "cell_type": "code",
   "execution_count": null,
   "id": "baf88b00-43c6-44e9-b0c8-1699b448401b",
   "metadata": {},
   "outputs": [],
   "source": [
    "completed_events_df = save_events_df(completed_eventlist_html_dir, \"completed_events.csv\")"
   ]
  },
  {
   "cell_type": "markdown",
   "id": "b38024ec-c6d6-4671-b909-f2b2e0ec8bb5",
   "metadata": {},
   "source": [
    "#### Upcoming"
   ]
  },
  {
   "cell_type": "code",
   "execution_count": null,
   "id": "d8d73776-18a5-4404-89a7-60b4ca636e45",
   "metadata": {},
   "outputs": [],
   "source": [
    "upcoming_events_df = save_events_df(upcoming_eventlist_html_dir, \"upcoming_event.csv\")"
   ]
  },
  {
   "cell_type": "markdown",
   "id": "496e6701-4889-475f-9206-16b07a4ef6b3",
   "metadata": {},
   "source": [
    "### Get Event pages"
   ]
  },
  {
   "cell_type": "code",
   "execution_count": 11,
   "id": "a4aabe55-513f-4b4f-ac3f-9d4f2a804711",
   "metadata": {},
   "outputs": [],
   "source": [
    "def save_event_pages(event_urls: list[str], outfolderpath: str) -> None:\n",
    "    with httpx.Client() as s:\n",
    "        for url in event_urls:\n",
    "            event_id = os.path.split(url)[1]\n",
    "            if not os.path.exists(os.path.join(outfolderpath, f\"{event_id}.html\")):\n",
    "                download_get_html(url, f\"{event_id}.html\", outfolderpath, s)\n",
    "                time.sleep(random.randint(10000, 20000)/1000)"
   ]
  },
  {
   "cell_type": "markdown",
   "id": "c0f48a08-16e7-4377-bf19-a2c337786e3b",
   "metadata": {
    "tags": []
   },
   "source": [
    "#### Completed"
   ]
  },
  {
   "cell_type": "code",
   "execution_count": null,
   "id": "aed8dede-fb72-4e7a-9def-317ff0726041",
   "metadata": {},
   "outputs": [],
   "source": [
    "completed_event_urls = completed_events_df[\"url\"].to_list()"
   ]
  },
  {
   "cell_type": "code",
   "execution_count": null,
   "id": "872f7ab0-36ff-464f-b796-061db6ee49a5",
   "metadata": {},
   "outputs": [],
   "source": [
    "save_pages(completed_event_urls, completed_events_html_dir)"
   ]
  },
  {
   "cell_type": "markdown",
   "id": "2b8dcd83-a449-42ec-af5c-c2892ef90e20",
   "metadata": {
    "tags": []
   },
   "source": [
    "#### Upcoming"
   ]
  },
  {
   "cell_type": "code",
   "execution_count": null,
   "id": "c65f6022-7b5b-4560-acee-69265fb8999d",
   "metadata": {},
   "outputs": [],
   "source": [
    "upcoming_event_urls = upcoming_events_df[\"url\"].to_list()"
   ]
  },
  {
   "cell_type": "code",
   "execution_count": null,
   "id": "6d2b4e5d-8d3f-4ef3-91e6-745f2662cfb3",
   "metadata": {},
   "outputs": [],
   "source": [
    "save_pages(upcoming_event_urls, upcoming_events_html_dir)"
   ]
  },
  {
   "cell_type": "markdown",
   "id": "caf70345-97fc-4223-a265-1b13faad5df8",
   "metadata": {},
   "source": [
    "### Parse Fights list"
   ]
  },
  {
   "cell_type": "code",
   "execution_count": 15,
   "id": "4f8b90e3-c136-4f8c-b4cf-296725008bbd",
   "metadata": {},
   "outputs": [],
   "source": [
    "def extract_fight_urls(event_html_filepath: str):\n",
    "    \n",
    "    with open(event_html_filepath, \"r\") as f:\n",
    "        html_str = f.read()\n",
    "    \n",
    "    soup = BeautifulSoup(html_str, features=\"lxml\")\n",
    "    table = soup.find(\"table\")\n",
    "    \n",
    "    data_list = []\n",
    "    \n",
    "    headers = [key for key in map(lambda x: x.text.strip(), table.find(\"thead\").find_all(\"th\"))]\n",
    "\n",
    "    rows = table.find(\"tbody\").find_all(\"tr\")\n",
    "\n",
    "    \n",
    "    for row in rows:\n",
    "        for col, elem in zip(headers, row.find_all(\"td\")):\n",
    "            if col == \"Weight class\":\n",
    "                p_elem = elem.find(\"p\")\n",
    "                val = p_elem.text.strip()\n",
    "                data_list.append((row[\"data-link\"], val))\n",
    "    \n",
    "    return data_list"
   ]
  },
  {
   "cell_type": "code",
   "execution_count": 16,
   "id": "0d5d6a2f-fc5d-49b9-9075-3cc65ccb9d7f",
   "metadata": {},
   "outputs": [],
   "source": [
    "events_html_dir = completed_events_html_dir\n",
    "event_files = lfilter(lambda x: x.endswith(\".html\"), os.listdir(events_html_dir))"
   ]
  },
  {
   "cell_type": "code",
   "execution_count": 17,
   "id": "6145be3b-06ec-4175-a4f9-1f59ca9965e0",
   "metadata": {
    "tags": []
   },
   "outputs": [],
   "source": [
    "filename = event_files[0]\n",
    "filepath = os.path.join(events_html_dir, filename)\n",
    "data_list = extract_fight_urls(filepath)"
   ]
  },
  {
   "cell_type": "code",
   "execution_count": 18,
   "id": "0e691ad5-58bb-4318-a02c-4bfc990dbf5d",
   "metadata": {},
   "outputs": [
    {
     "data": {
      "text/plain": [
       "[('http://ufcstats.com/fight-details/81f287d035190506', 'Lightweight'),\n",
       " ('http://ufcstats.com/fight-details/1f0254eeb2025e4f', 'Heavyweight'),\n",
       " ('http://ufcstats.com/fight-details/4942323a5d5a6594', 'Lightweight'),\n",
       " ('http://ufcstats.com/fight-details/95ead23dc0c73285', \"Women's Strawweight\"),\n",
       " ('http://ufcstats.com/fight-details/164f56eb25d6a9b4', 'Featherweight'),\n",
       " ('http://ufcstats.com/fight-details/3fc9fea36fc7ec37', 'Middleweight'),\n",
       " ('http://ufcstats.com/fight-details/b26ec098a5a57401',\n",
       "  \"Women's Bantamweight\"),\n",
       " ('http://ufcstats.com/fight-details/7c883cf0b5eedc59', 'Middleweight'),\n",
       " ('http://ufcstats.com/fight-details/0ad5c6752e679de5', 'Lightweight'),\n",
       " ('http://ufcstats.com/fight-details/b2857e799319f931', 'Featherweight'),\n",
       " ('http://ufcstats.com/fight-details/2f0bfdc3c325662d', 'Welterweight'),\n",
       " ('http://ufcstats.com/fight-details/e1ec8774466db669', 'Welterweight'),\n",
       " ('http://ufcstats.com/fight-details/f7fd4b82e827c9c4', 'Heavyweight')]"
      ]
     },
     "execution_count": 18,
     "metadata": {},
     "output_type": "execute_result"
    }
   ],
   "source": [
    "data_list"
   ]
  },
  {
   "cell_type": "code",
   "execution_count": 19,
   "id": "0bd437dd-2efb-4458-89ad-c6c88c435c1f",
   "metadata": {},
   "outputs": [],
   "source": [
    "def save_fight_urls(events_html_dir: str, outfilename: str) -> list[str]:\n",
    "    event_files = lfilter(lambda x: x.endswith(\".html\"), os.listdir(events_html_dir))\n",
    "    \n",
    "    fight_urls_list = []\n",
    "    for filename in tqdm(event_files):\n",
    "        filepath = os.path.join(events_html_dir, filename)\n",
    "        fight_urls_sublist = extract_fight_urls(filepath)\n",
    "        fight_urls_list.extend(fight_urls_sublist)\n",
    "        \n",
    "    print(f\"Fight urls list length: {len(fight_urls_list)}\")\n",
    "    df = pd.DataFrame(fight_urls_list, columns=[\"Fight Url\", \"Weight Class\"])\n",
    "    filepath = os.path.join(raw_csv_dir, outfilename)\n",
    "    # write_list_to_file(fight_urls_list, filepath)\n",
    "    df.to_csv(filepath, index=False)\n",
    "    return df[\"Fight Url\"].to_list()"
   ]
  },
  {
   "cell_type": "markdown",
   "id": "5cb4c35b-d714-4e51-97b9-d0c5eeb57cd1",
   "metadata": {
    "tags": []
   },
   "source": [
    "#### Completed"
   ]
  },
  {
   "cell_type": "code",
   "execution_count": 24,
   "id": "2d332831-d8bb-4f4e-8ea7-722d238ae42b",
   "metadata": {},
   "outputs": [
    {
     "name": "stderr",
     "output_type": "stream",
     "text": [
      "100%|██████████| 624/624 [00:10<00:00, 58.59it/s]"
     ]
    },
    {
     "name": "stdout",
     "output_type": "stream",
     "text": [
      "Fight urls list length: 6875\n"
     ]
    },
    {
     "name": "stderr",
     "output_type": "stream",
     "text": [
      "\n"
     ]
    }
   ],
   "source": [
    "completed_fight_urls_list = save_fight_urls(completed_events_html_dir, \"completed_fight_urls.csv\")"
   ]
  },
  {
   "cell_type": "markdown",
   "id": "7ef7e6d9-2a72-4785-9650-6a1110840067",
   "metadata": {
    "tags": []
   },
   "source": [
    "#### Upcoming"
   ]
  },
  {
   "cell_type": "code",
   "execution_count": 25,
   "id": "5beb9eae-3ccc-4ab8-9de4-08fe4d9e0152",
   "metadata": {},
   "outputs": [
    {
     "name": "stderr",
     "output_type": "stream",
     "text": [
      "100%|██████████| 10/10 [00:00<00:00, 211.83it/s]"
     ]
    },
    {
     "name": "stdout",
     "output_type": "stream",
     "text": [
      "Fight urls list length: 29\n"
     ]
    },
    {
     "name": "stderr",
     "output_type": "stream",
     "text": [
      "\n"
     ]
    }
   ],
   "source": [
    "upcoming_fight_urls_list = save_fight_urls(upcoming_events_html_dir, \"upcoming_fight_urls.csv\")"
   ]
  },
  {
   "cell_type": "markdown",
   "id": "9bf2a1bf-b6bf-44dc-9dd6-af591bf218f4",
   "metadata": {},
   "source": [
    "### Get Fight pages"
   ]
  },
  {
   "cell_type": "code",
   "execution_count": 22,
   "id": "fd595467-4609-4684-bc76-1c8bd595ec9c",
   "metadata": {},
   "outputs": [],
   "source": [
    "filepath = os.path.join(raw_csv_dir, \"completed_fight_urls.csv\")\n",
    "completed_fight_urls_list = pd.read_csv(filepath)[\"Fight Url\"]\n",
    "\n",
    "filepath = os.path.join(raw_csv_dir, \"upcoming_fight_urls.csv\")\n",
    "upcoming_fight_urls_list = pd.read_csv(filepath)[\"Fight Url\"]"
   ]
  },
  {
   "cell_type": "code",
   "execution_count": 23,
   "id": "8e3134ee-94cc-4441-a3d4-d8f77023b001",
   "metadata": {},
   "outputs": [],
   "source": [
    "def save_fight_pages(fight_urls: list[str], outfolderdir: str) -> None:\n",
    "    fail_score = 0\n",
    "    reached_not_downloaded = False\n",
    "    session = httpx.Client()\n",
    "    for idx, url in enumerate(tqdm(fight_urls)):\n",
    "        if reached_not_downloaded and (idx != 0) and (idx%25 == 0):\n",
    "            session.close()\n",
    "            time.sleep(random.randint(60000, 300000)/1000)\n",
    "            print(\"Switching session\")\n",
    "            session = httpx.Client()\n",
    "        fight_id = os.path.split(url)[1]\n",
    "        if not os.path.exists(os.path.join(outfolderdir, f\"{fight_id}.html\")):\n",
    "            reached_not_downloaded = True\n",
    "            try:\n",
    "                download_get_html(url, f\"{fight_id}.html\", outfolderdir, session)\n",
    "                if fail_score > 0:\n",
    "                    fail_score -= 1\n",
    "            except:\n",
    "                fail_score += 2\n",
    "                print(f\"Network request unsuccessful. Fail score: {fail_score}\")\n",
    "                session.close()\n",
    "                \n",
    "                if fail_score >= 20:\n",
    "                    break\n",
    "                session = httpx.Client()\n",
    "            finally:\n",
    "                time.sleep(random.randint(10000, 20000)/1000)\n",
    "        else:\n",
    "            reached_not_downloaded = False"
   ]
  },
  {
   "cell_type": "code",
   "execution_count": null,
   "id": "8a3ff217-9aac-4091-803f-14a36e6f311d",
   "metadata": {},
   "outputs": [],
   "source": [
    "save_pages(completed_fight_urls_list, completed_fights_html_dir)"
   ]
  },
  {
   "cell_type": "code",
   "execution_count": null,
   "id": "b0623ee1-186a-4262-b33a-8a500d9d0e41",
   "metadata": {},
   "outputs": [],
   "source": [
    "save_pages(upcoming_fight_urls_list, upcoming_fights_html_dir)"
   ]
  },
  {
   "cell_type": "markdown",
   "id": "96c37cc5-bd92-43d2-a4f1-aaf13629251c",
   "metadata": {},
   "source": [
    "### Get Fighter pages"
   ]
  },
  {
   "cell_type": "code",
   "execution_count": null,
   "id": "e1952f68-3aeb-419d-b54b-bcb1d4865c24",
   "metadata": {},
   "outputs": [],
   "source": [
    "fighterlist_page_first_url = \"http://ufcstats.com/statistics/fighters\"\n",
    "download_sequential_pages(fighterlist_page_first_url, fighterlist_html_dir)"
   ]
  },
  {
   "cell_type": "code",
   "execution_count": null,
   "id": "d03867f8-6108-485b-80bd-0cf0d5185637",
   "metadata": {
    "tags": []
   },
   "outputs": [],
   "source": [
    "def extract_fighter_urls(fighterlist_html_filepath: str) -> list[str]:\n",
    "    with open(fighterlist_html_filepath, \"r\") as f:\n",
    "        html_str = f.read()\n",
    "        \n",
    "    soup = BeautifulSoup(html_str)\n",
    "    rows = soup.find(\"tbody\").find_all(\"tr\")\n",
    "    rows = filter(lambda r: r.find(\"a\") != None, rows)\n",
    "    return lmap(lambda r: r.find(\"a\")[\"href\"], rows)"
   ]
  },
  {
   "cell_type": "code",
   "execution_count": null,
   "id": "68aeef6b-f1c7-4424-b16a-4e3f3971c1f7",
   "metadata": {},
   "outputs": [],
   "source": [
    "def save_fighter_urls(fighterlist_html_filepath: str, outfilename: str) -> list[str]:\n",
    "    fighterlist_files = lfilter(lambda x: x.endswith(\".html\"), os.listdir(fighterlist_html_dir))\n",
    "    \n",
    "    fighter_urls_list = []\n",
    "    for filename in tqdm(fighterlist_files):\n",
    "        filepath = os.path.join(fighterlist_html_dir, filename)\n",
    "        fighter_urls_sublist = extract_fighter_urls(filepath)\n",
    "        fighter_urls_list.extend(fighter_urls_sublist)\n",
    "        \n",
    "    print(f\"Fighter urls list length: {len(fighter_urls_list)}\")\n",
    "    filepath = os.path.join(raw_csv_dir, outfilename)\n",
    "    write_list_to_file(fighter_urls_list, filepath)\n",
    "    return fighter_urls_list"
   ]
  },
  {
   "cell_type": "code",
   "execution_count": null,
   "id": "51c6d258-4e29-4e34-9c91-e564aebcd38b",
   "metadata": {},
   "outputs": [],
   "source": [
    "fighter_list = save_fighter_urls(fighterlist_html_dir, \"fighter_urls.txt\")"
   ]
  },
  {
   "cell_type": "code",
   "execution_count": null,
   "id": "ea9415ce-78ae-4373-8424-42c4fb0e77f3",
   "metadata": {},
   "outputs": [],
   "source": [
    "save_pages(fighter_list, fighters_html_dir)"
   ]
  },
  {
   "cell_type": "code",
   "execution_count": null,
   "id": "9090d69e-7198-4178-abd8-db316e96932e",
   "metadata": {},
   "outputs": [],
   "source": []
  }
 ],
 "metadata": {
  "kernelspec": {
   "display_name": "Python 3 (ipykernel)",
   "language": "python",
   "name": "python3"
  },
  "language_info": {
   "codemirror_mode": {
    "name": "ipython",
    "version": 3
   },
   "file_extension": ".py",
   "mimetype": "text/x-python",
   "name": "python",
   "nbconvert_exporter": "python",
   "pygments_lexer": "ipython3",
   "version": "3.9.13"
  }
 },
 "nbformat": 4,
 "nbformat_minor": 5
}
