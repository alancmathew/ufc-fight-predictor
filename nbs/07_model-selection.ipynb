{
 "cells": [
  {
   "cell_type": "code",
   "execution_count": 1,
   "id": "1417bee6-5260-447f-b064-cdfa678241a8",
   "metadata": {},
   "outputs": [],
   "source": [
    "import os\n",
    "import sys\n",
    "import json\n",
    "import time\n",
    "import joblib\n",
    "import warnings\n",
    "import numpy as np\n",
    "import pandas as pd\n",
    "from tqdm import tqdm\n",
    "from multiprocessing import Pool, cpu_count"
   ]
  },
  {
   "cell_type": "code",
   "execution_count": 2,
   "id": "08a4fa9f-936b-47c7-8dca-05d836f01535",
   "metadata": {},
   "outputs": [],
   "source": [
    "sys.path.append(\"../src/\")"
   ]
  },
  {
   "cell_type": "code",
   "execution_count": 3,
   "id": "93bacaad-79bc-48c0-96dc-1ab41ea455b2",
   "metadata": {},
   "outputs": [],
   "source": [
    "from utilities import *"
   ]
  },
  {
   "cell_type": "code",
   "execution_count": 4,
   "id": "e35ae250-7cd3-4635-ad19-f37569c96f82",
   "metadata": {},
   "outputs": [],
   "source": [
    "pd.set_option(\"display.max_columns\", None)\n",
    "\n",
    "os.environ[\"PYTHONWARNINGS\"] = \"ignore\""
   ]
  },
  {
   "cell_type": "code",
   "execution_count": 5,
   "id": "62faa4e6-6cc2-4c34-ba6a-ec56265479fb",
   "metadata": {
    "tags": []
   },
   "outputs": [],
   "source": [
    "from sklearn.model_selection import cross_val_score"
   ]
  },
  {
   "cell_type": "code",
   "execution_count": 6,
   "id": "4e45535a-639a-410f-a05c-4d5af76b5c7e",
   "metadata": {},
   "outputs": [],
   "source": [
    "filepath = os.path.join(dir_dict[\"train_test\"], f\"train.parquet\")\n",
    "df = pd.read_parquet(filepath)\n",
    "\n",
    "to_drop = [\"event_date\", \"fight_id\", \"fighter_id\", \"opponent_id\"]\n",
    "df = df.drop(to_drop, axis=1)"
   ]
  },
  {
   "cell_type": "code",
   "execution_count": 7,
   "id": "4b139cdb-8bb4-4177-a07a-37789c669bc4",
   "metadata": {},
   "outputs": [],
   "source": [
    "target = \"fight_fighter_win\"\n",
    "X, y = df.drop(target, axis=1), df[target]"
   ]
  },
  {
   "cell_type": "code",
   "execution_count": 8,
   "id": "41ca27bc-0515-45f4-8ddf-8f2b1868856f",
   "metadata": {},
   "outputs": [],
   "source": [
    "def cross_validate(estimator, X=X, y=y, cv=5, **kwargs):\n",
    "    return np.mean(cross_val_score(estimator, X, y, cv=cv, **kwargs))"
   ]
  },
  {
   "cell_type": "markdown",
   "id": "5e3ac121-3edc-4909-b370-5ad963935a7c",
   "metadata": {},
   "source": [
    "### Initial Model"
   ]
  },
  {
   "cell_type": "code",
   "execution_count": 9,
   "id": "ae8e06d0-5dc3-4fd1-a26c-483e126bc5a5",
   "metadata": {},
   "outputs": [],
   "source": [
    "from sklearn.linear_model import LogisticRegression"
   ]
  },
  {
   "cell_type": "code",
   "execution_count": 10,
   "id": "d5343cac-5eea-4468-a180-abd0c8f3b8e2",
   "metadata": {},
   "outputs": [],
   "source": [
    "lr = LogisticRegression(random_state=42)"
   ]
  },
  {
   "cell_type": "code",
   "execution_count": 11,
   "id": "44fe3369-582a-4ee5-97ef-b24e643e0c09",
   "metadata": {},
   "outputs": [
    {
     "name": "stderr",
     "output_type": "stream",
     "text": [
      "/home/alancmathew/miniconda3/envs/ufc-fight-predictor/lib/python3.9/site-packages/sklearn/linear_model/_logistic.py:444: ConvergenceWarning: lbfgs failed to converge (status=1):\n",
      "STOP: TOTAL NO. of ITERATIONS REACHED LIMIT.\n",
      "\n",
      "Increase the number of iterations (max_iter) or scale the data as shown in:\n",
      "    https://scikit-learn.org/stable/modules/preprocessing.html\n",
      "Please also refer to the documentation for alternative solver options:\n",
      "    https://scikit-learn.org/stable/modules/linear_model.html#logistic-regression\n",
      "  n_iter_i = _check_optimize_result(\n",
      "/home/alancmathew/miniconda3/envs/ufc-fight-predictor/lib/python3.9/site-packages/sklearn/linear_model/_logistic.py:444: ConvergenceWarning: lbfgs failed to converge (status=1):\n",
      "STOP: TOTAL NO. of ITERATIONS REACHED LIMIT.\n",
      "\n",
      "Increase the number of iterations (max_iter) or scale the data as shown in:\n",
      "    https://scikit-learn.org/stable/modules/preprocessing.html\n",
      "Please also refer to the documentation for alternative solver options:\n",
      "    https://scikit-learn.org/stable/modules/linear_model.html#logistic-regression\n",
      "  n_iter_i = _check_optimize_result(\n",
      "/home/alancmathew/miniconda3/envs/ufc-fight-predictor/lib/python3.9/site-packages/sklearn/linear_model/_logistic.py:444: ConvergenceWarning: lbfgs failed to converge (status=1):\n",
      "STOP: TOTAL NO. of ITERATIONS REACHED LIMIT.\n",
      "\n",
      "Increase the number of iterations (max_iter) or scale the data as shown in:\n",
      "    https://scikit-learn.org/stable/modules/preprocessing.html\n",
      "Please also refer to the documentation for alternative solver options:\n",
      "    https://scikit-learn.org/stable/modules/linear_model.html#logistic-regression\n",
      "  n_iter_i = _check_optimize_result(\n",
      "/home/alancmathew/miniconda3/envs/ufc-fight-predictor/lib/python3.9/site-packages/sklearn/linear_model/_logistic.py:444: ConvergenceWarning: lbfgs failed to converge (status=1):\n",
      "STOP: TOTAL NO. of ITERATIONS REACHED LIMIT.\n",
      "\n",
      "Increase the number of iterations (max_iter) or scale the data as shown in:\n",
      "    https://scikit-learn.org/stable/modules/preprocessing.html\n",
      "Please also refer to the documentation for alternative solver options:\n",
      "    https://scikit-learn.org/stable/modules/linear_model.html#logistic-regression\n",
      "  n_iter_i = _check_optimize_result(\n",
      "/home/alancmathew/miniconda3/envs/ufc-fight-predictor/lib/python3.9/site-packages/sklearn/linear_model/_logistic.py:444: ConvergenceWarning: lbfgs failed to converge (status=1):\n",
      "STOP: TOTAL NO. of ITERATIONS REACHED LIMIT.\n",
      "\n",
      "Increase the number of iterations (max_iter) or scale the data as shown in:\n",
      "    https://scikit-learn.org/stable/modules/preprocessing.html\n",
      "Please also refer to the documentation for alternative solver options:\n",
      "    https://scikit-learn.org/stable/modules/linear_model.html#logistic-regression\n",
      "  n_iter_i = _check_optimize_result(\n"
     ]
    },
    {
     "data": {
      "text/plain": [
       "0.576530612244898"
      ]
     },
     "execution_count": 11,
     "metadata": {},
     "output_type": "execute_result"
    }
   ],
   "source": [
    "cross_validate(lr)"
   ]
  },
  {
   "cell_type": "markdown",
   "id": "a69bb58f-8f8d-4208-8131-aac458aca452",
   "metadata": {},
   "source": [
    "### Scale Data"
   ]
  },
  {
   "cell_type": "code",
   "execution_count": 12,
   "id": "f7180ae9-7746-4a27-a6ed-d23fa71b9e40",
   "metadata": {},
   "outputs": [],
   "source": [
    "from sklearn.pipeline import Pipeline\n",
    "from sklearn.preprocessing import MinMaxScaler"
   ]
  },
  {
   "cell_type": "code",
   "execution_count": 13,
   "id": "ebff2e66-1630-40a8-916c-6d5eda8c17e8",
   "metadata": {},
   "outputs": [
    {
     "data": {
      "text/plain": [
       "0.6074344023323615"
      ]
     },
     "execution_count": 13,
     "metadata": {},
     "output_type": "execute_result"
    }
   ],
   "source": [
    "pipe = Pipeline([\n",
    "    (\"scaler\", MinMaxScaler()),\n",
    "    (\"lr\", LogisticRegression(max_iter=500, random_state=42))\n",
    "])\n",
    "cross_validate(pipe)"
   ]
  },
  {
   "cell_type": "markdown",
   "id": "10a0ac04-a970-4b3b-86b4-41f1562944e0",
   "metadata": {},
   "source": [
    "## Model Selection (Hyperparameter Tuning & Feature Selection)"
   ]
  },
  {
   "cell_type": "code",
   "execution_count": 14,
   "id": "4df1e389-2aae-4009-bdfd-cc0877a89f97",
   "metadata": {},
   "outputs": [],
   "source": [
    "from sklearn.feature_selection import SelectKBest, f_regression"
   ]
  },
  {
   "cell_type": "code",
   "execution_count": 15,
   "id": "4dc7349f-f637-4889-ad83-10934fc50d3d",
   "metadata": {},
   "outputs": [],
   "source": [
    "from sklearn.model_selection import RandomizedSearchCV, GridSearchCV"
   ]
  },
  {
   "cell_type": "code",
   "execution_count": 16,
   "id": "bc8dd689-ad9f-45b4-8723-edf0dfbe9c26",
   "metadata": {},
   "outputs": [],
   "source": [
    "sys.path.append(\"../assets/model_training\")"
   ]
  },
  {
   "cell_type": "code",
   "execution_count": 17,
   "id": "878ea3e1-3891-444c-840b-1311676ee945",
   "metadata": {},
   "outputs": [],
   "source": [
    "from clf_param_grid_list import clfs"
   ]
  },
  {
   "cell_type": "code",
   "execution_count": 18,
   "id": "8ddefa4a-8cc3-452b-9a96-2fc1cb50f8dc",
   "metadata": {},
   "outputs": [],
   "source": [
    "# search_results = dict()\n",
    "# for name, est_dict in tqdm(clfs.items()):\n",
    "#     pipe = Pipeline([\n",
    "#         (\"scaler\", MinMaxScaler()),\n",
    "#         (\"selector\", SelectKBest(f_regression)),\n",
    "#         (\"model\", est_dict[\"model\"])\n",
    "#     ])\n",
    "    \n",
    "#     param_grid = {f\"model__{k}\":v for k, v in est_dict[\"param_grid\"].items()}\n",
    "#     param_grid[\"selector__k\"] = [i*10 for i in range(20,57)]\n",
    "    \n",
    "#     search = RandomizedSearchCV(estimator=pipe, param_distributions=param_grid, n_iter=500, \n",
    "#                                 cv=3, n_jobs=int(cpu_count() / 2), scoring =\"accuracy\", verbose=5)\n",
    "    \n",
    "#     search.fit(X, y)\n",
    "#     search_results[name] = {\n",
    "#         \"best_params\": search.best_params_,\n",
    "#         \"best_score\": search.best_score_\n",
    "#     }\n",
    "    \n",
    "#     with open(\"../assets/model_training/search_results.json\", \"w\") as fh:\n",
    "#         json.dump(search_results, fh)\n",
    "        \n",
    "#     time.sleep(120)"
   ]
  },
  {
   "cell_type": "markdown",
   "id": "c7158583-a57b-4e4a-b5fb-8b3919a25c03",
   "metadata": {},
   "source": [
    "## Saving Models"
   ]
  },
  {
   "cell_type": "code",
   "execution_count": 22,
   "id": "74c491ea-6230-40b1-801c-06bbc9cfb8a3",
   "metadata": {},
   "outputs": [],
   "source": [
    "with open(\"../assets/model_training/search_results.json\", \"r\") as fh:\n",
    "    search_results = json.load(fh)"
   ]
  },
  {
   "cell_type": "code",
   "execution_count": 23,
   "id": "ae6b671b-5b41-4f6f-8763-4b47cd2d8dac",
   "metadata": {},
   "outputs": [
    {
     "name": "stdout",
     "output_type": "stream",
     "text": [
      "accuracy: 0.6088921282798834\n"
     ]
    }
   ],
   "source": [
    "best_model_name, best_result = max(search_results.items(), key=lambda x: x[1][\"best_score\"])\n",
    "best_model = clfs[best_model_name][\"model\"]\n",
    "best_params = best_result[\"best_params\"]\n",
    "\n",
    "pipe = Pipeline([\n",
    "    (\"scaler\", MinMaxScaler()),\n",
    "    (\"selector\", SelectKBest(f_regression)),\n",
    "    (\"model\", best_model)\n",
    "])\n",
    "pipe.set_params(**best_params)\n",
    "print(\"accuracy:\", cross_validate(pipe, cv=5, n_jobs=cpu_count()))"
   ]
  },
  {
   "cell_type": "code",
   "execution_count": 21,
   "id": "b3cbff23-cce0-4127-a978-5bdd49b687a9",
   "metadata": {},
   "outputs": [
    {
     "data": {
      "text/plain": [
       "['../assets/model_training/trained_pipeline.joblib']"
      ]
     },
     "execution_count": 21,
     "metadata": {},
     "output_type": "execute_result"
    }
   ],
   "source": [
    "pipe.fit(X, y)\n",
    "joblib.dump(pipe, \"../assets/model_training/trained_pipeline.joblib\")"
   ]
  },
  {
   "cell_type": "code",
   "execution_count": null,
   "id": "5bb11f0b-3c48-41a6-8a94-dfdee5fcf567",
   "metadata": {},
   "outputs": [],
   "source": []
  }
 ],
 "metadata": {
  "kernelspec": {
   "display_name": "Python 3 (ipykernel)",
   "language": "python",
   "name": "python3"
  },
  "language_info": {
   "codemirror_mode": {
    "name": "ipython",
    "version": 3
   },
   "file_extension": ".py",
   "mimetype": "text/x-python",
   "name": "python",
   "nbconvert_exporter": "python",
   "pygments_lexer": "ipython3",
   "version": "3.9.13"
  }
 },
 "nbformat": 4,
 "nbformat_minor": 5
}
