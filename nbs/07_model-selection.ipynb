{
 "cells": [
  {
   "cell_type": "code",
   "execution_count": 2,
   "id": "1417bee6-5260-447f-b064-cdfa678241a8",
   "metadata": {},
   "outputs": [],
   "source": [
    "import os\n",
    "import sys\n",
    "import json\n",
    "import time\n",
    "import warnings\n",
    "import numpy as np\n",
    "import pandas as pd\n",
    "from tqdm import tqdm\n",
    "from multiprocessing import Pool, cpu_count"
   ]
  },
  {
   "cell_type": "code",
   "execution_count": 3,
   "id": "08a4fa9f-936b-47c7-8dca-05d836f01535",
   "metadata": {},
   "outputs": [],
   "source": [
    "sys.path.append(\"../src/\")"
   ]
  },
  {
   "cell_type": "code",
   "execution_count": 4,
   "id": "93bacaad-79bc-48c0-96dc-1ab41ea455b2",
   "metadata": {},
   "outputs": [],
   "source": [
    "from utilities import *"
   ]
  },
  {
   "cell_type": "code",
   "execution_count": 5,
   "id": "e35ae250-7cd3-4635-ad19-f37569c96f82",
   "metadata": {},
   "outputs": [],
   "source": [
    "pd.set_option(\"display.max_columns\", None)\n",
    "\n",
    "os.environ[\"PYTHONWARNINGS\"] = \"ignore\""
   ]
  },
  {
   "cell_type": "code",
   "execution_count": 6,
   "id": "62faa4e6-6cc2-4c34-ba6a-ec56265479fb",
   "metadata": {
    "tags": []
   },
   "outputs": [],
   "source": [
    "from sklearn.model_selection import cross_val_score"
   ]
  },
  {
   "cell_type": "code",
   "execution_count": 7,
   "id": "4e45535a-639a-410f-a05c-4d5af76b5c7e",
   "metadata": {},
   "outputs": [],
   "source": [
    "filepath = os.path.join(dir_dict[\"train_test\"], f\"train.parquet\")\n",
    "df = pd.read_parquet(filepath)\n",
    "\n",
    "to_drop = [\"event_date\", \"fight_id\", \"fighter_id\", \"opponent_id\"]\n",
    "df = df.drop(to_drop, axis=1)"
   ]
  },
  {
   "cell_type": "code",
   "execution_count": 8,
   "id": "4b139cdb-8bb4-4177-a07a-37789c669bc4",
   "metadata": {},
   "outputs": [],
   "source": [
    "target = \"fight_fighter_win\"\n",
    "X, y = df.drop(target, axis=1), df[target]"
   ]
  },
  {
   "cell_type": "code",
   "execution_count": 9,
   "id": "41ca27bc-0515-45f4-8ddf-8f2b1868856f",
   "metadata": {},
   "outputs": [],
   "source": [
    "def cross_validate(estimator, X=X, y=y):\n",
    "    return np.mean(cross_val_score(estimator, X, y, cv=5, n_jobs=5))"
   ]
  },
  {
   "cell_type": "markdown",
   "id": "5e3ac121-3edc-4909-b370-5ad963935a7c",
   "metadata": {},
   "source": [
    "### Initial Model"
   ]
  },
  {
   "cell_type": "code",
   "execution_count": 10,
   "id": "ae8e06d0-5dc3-4fd1-a26c-483e126bc5a5",
   "metadata": {},
   "outputs": [],
   "source": [
    "from sklearn.linear_model import LogisticRegression"
   ]
  },
  {
   "cell_type": "code",
   "execution_count": 10,
   "id": "d5343cac-5eea-4468-a180-abd0c8f3b8e2",
   "metadata": {},
   "outputs": [],
   "source": [
    "lr = LogisticRegression(random_state=42)"
   ]
  },
  {
   "cell_type": "code",
   "execution_count": 11,
   "id": "44fe3369-582a-4ee5-97ef-b24e643e0c09",
   "metadata": {},
   "outputs": [
    {
     "data": {
      "text/plain": [
       "0.5762390670553936"
      ]
     },
     "execution_count": 11,
     "metadata": {},
     "output_type": "execute_result"
    }
   ],
   "source": [
    "cross_validate(lr)"
   ]
  },
  {
   "cell_type": "markdown",
   "id": "a69bb58f-8f8d-4208-8131-aac458aca452",
   "metadata": {},
   "source": [
    "### Scale Data"
   ]
  },
  {
   "cell_type": "code",
   "execution_count": 11,
   "id": "f7180ae9-7746-4a27-a6ed-d23fa71b9e40",
   "metadata": {},
   "outputs": [],
   "source": [
    "from sklearn.pipeline import Pipeline\n",
    "from sklearn.preprocessing import MinMaxScaler"
   ]
  },
  {
   "cell_type": "code",
   "execution_count": 13,
   "id": "ebff2e66-1630-40a8-916c-6d5eda8c17e8",
   "metadata": {},
   "outputs": [
    {
     "data": {
      "text/plain": [
       "0.6077259475218659"
      ]
     },
     "execution_count": 13,
     "metadata": {},
     "output_type": "execute_result"
    }
   ],
   "source": [
    "pipe = Pipeline([\n",
    "    (\"scaler\", MinMaxScaler()),\n",
    "    (\"lr\", LogisticRegression(max_iter=500, random_state=42))\n",
    "])\n",
    "cross_validate(pipe)"
   ]
  },
  {
   "cell_type": "markdown",
   "id": "10a0ac04-a970-4b3b-86b4-41f1562944e0",
   "metadata": {},
   "source": [
    "### Model Selection (Hyperparameter Tuning & Feature Selection)"
   ]
  },
  {
   "cell_type": "code",
   "execution_count": 12,
   "id": "4df1e389-2aae-4009-bdfd-cc0877a89f97",
   "metadata": {},
   "outputs": [],
   "source": [
    "from sklearn.feature_selection import SelectKBest, f_regression"
   ]
  },
  {
   "cell_type": "code",
   "execution_count": 13,
   "id": "4dc7349f-f637-4889-ad83-10934fc50d3d",
   "metadata": {},
   "outputs": [],
   "source": [
    "from sklearn.model_selection import RandomizedSearchCV"
   ]
  },
  {
   "cell_type": "code",
   "execution_count": 14,
   "id": "bc8dd689-ad9f-45b4-8723-edf0dfbe9c26",
   "metadata": {},
   "outputs": [],
   "source": [
    "sys.path.append(\"../misc/\")"
   ]
  },
  {
   "cell_type": "code",
   "execution_count": 15,
   "id": "878ea3e1-3891-444c-840b-1311676ee945",
   "metadata": {},
   "outputs": [],
   "source": [
    "from clf_param_grid_list_generator import clfs"
   ]
  },
  {
   "cell_type": "code",
   "execution_count": null,
   "id": "8ddefa4a-8cc3-452b-9a96-2fc1cb50f8dc",
   "metadata": {},
   "outputs": [
    {
     "name": "stderr",
     "output_type": "stream",
     "text": [
      "  0%|                                                                                                                                                                                         | 0/10 [00:00<?, ?it/s]"
     ]
    },
    {
     "name": "stdout",
     "output_type": "stream",
     "text": [
      "Fitting 3 folds for each of 200 candidates, totalling 600 fits\n"
     ]
    }
   ],
   "source": [
    "search_results = dict()\n",
    "for name, est_dict in tqdm(clfs.items()):\n",
    "    pipe = Pipeline([\n",
    "        (\"scaler\", MinMaxScaler()),\n",
    "        (\"selector\", SelectKBest(f_regression)),\n",
    "        (\"model\", est_dict[\"model\"])\n",
    "    ])\n",
    "    \n",
    "    param_grid = {f\"model__{k}\":v for k, v in est_dict[\"param_grid\"].items()}\n",
    "    param_grid[\"selector__k\"] = [i*10 for i in range(20,57)]\n",
    "    \n",
    "    search = RandomizedSearchCV(estimator=pipe, param_distributions=param_grid, n_iter=500, \n",
    "                                cv=3, n_jobs=int(cpu_count() / 2), scoring =\"accuracy\", verbose=5)\n",
    "    \n",
    "    search.fit(X, y)\n",
    "    search_results[name] = {\n",
    "        \"best_params\": search.best_params_,\n",
    "        \"best_score\": search.best_score_\n",
    "    }\n",
    "    \n",
    "    with open(\"../assets/search_results.json\", \"w\") as fh:\n",
    "        json.dump(search_results, fh)\n",
    "        \n",
    "    time.sleep(120)"
   ]
  },
  {
   "cell_type": "code",
   "execution_count": 39,
   "id": "d9359e13-aa2a-4ae0-ba6e-db89b50bb3a1",
   "metadata": {},
   "outputs": [],
   "source": [
    "with open(\"../assets/search_results.json\", \"r\") as fh:\n",
    "    search_results = json.load(fh)"
   ]
  },
  {
   "cell_type": "code",
   "execution_count": 40,
   "id": "4bf7e7c8-947b-48fa-837d-e3bd06fbfed3",
   "metadata": {},
   "outputs": [
    {
     "data": {
      "text/plain": [
       "('LogisticRegression',\n",
       " {'best_params': {'selector__k': 360,\n",
       "   'model__solver': 'liblinear',\n",
       "   'model__max_iter': 1000,\n",
       "   'model__C': 1},\n",
       "  'best_score': 0.6109297826621695})"
      ]
     },
     "execution_count": 40,
     "metadata": {},
     "output_type": "execute_result"
    }
   ],
   "source": [
    "name, best_result = max(search_results.items(), key=lambda x: x[1][\"best_score\"])\n",
    "name, best_result"
   ]
  },
  {
   "cell_type": "code",
   "execution_count": 41,
   "id": "2cb806d9-a87e-40e7-8973-51532c48c2e8",
   "metadata": {},
   "outputs": [],
   "source": [
    "best_params = best_result[\"best_params\"]"
   ]
  },
  {
   "cell_type": "code",
   "execution_count": 32,
   "id": "648e2979-c669-4aa1-8af6-d9be73a418c6",
   "metadata": {},
   "outputs": [
    {
     "ename": "TypeError",
     "evalue": "__init__() takes from 1 to 2 positional arguments but 3 were given",
     "output_type": "error",
     "traceback": [
      "\u001b[0;31m---------------------------------------------------------------------------\u001b[0m",
      "\u001b[0;31mTypeError\u001b[0m                                 Traceback (most recent call last)",
      "Input \u001b[0;32mIn [32]\u001b[0m, in \u001b[0;36m<cell line: 1>\u001b[0;34m()\u001b[0m\n\u001b[0;32m----> 1\u001b[0m selector \u001b[38;5;241m=\u001b[39m \u001b[43mSelectKBest\u001b[49m\u001b[43m(\u001b[49m\u001b[43mf_regression\u001b[49m\u001b[43m,\u001b[49m\u001b[43m \u001b[49m\u001b[43mbest_params\u001b[49m\u001b[38;5;241;43m.\u001b[39;49m\u001b[43mpop\u001b[49m\u001b[43m(\u001b[49m\u001b[38;5;124;43m\"\u001b[39;49m\u001b[38;5;124;43mselector__k\u001b[39;49m\u001b[38;5;124;43m\"\u001b[39;49m\u001b[43m)\u001b[49m\u001b[43m)\u001b[49m\n",
      "\u001b[0;31mTypeError\u001b[0m: __init__() takes from 1 to 2 positional arguments but 3 were given"
     ]
    }
   ],
   "source": [
    "selector = SelectKBest(f_regression, best_params.pop(\"selector__k\"))"
   ]
  },
  {
   "cell_type": "code",
   "execution_count": 28,
   "id": "da474485-511d-414a-819e-972580595c25",
   "metadata": {},
   "outputs": [
    {
     "ename": "ValueError",
     "evalue": "Invalid parameter 'selector' for estimator LogisticRegression(max_iter=500, random_state=42). Valid parameters are: ['C', 'class_weight', 'dual', 'fit_intercept', 'intercept_scaling', 'l1_ratio', 'max_iter', 'multi_class', 'n_jobs', 'penalty', 'random_state', 'solver', 'tol', 'verbose', 'warm_start'].",
     "output_type": "error",
     "traceback": [
      "\u001b[0;31m---------------------------------------------------------------------------\u001b[0m",
      "\u001b[0;31mValueError\u001b[0m                                Traceback (most recent call last)",
      "Input \u001b[0;32mIn [28]\u001b[0m, in \u001b[0;36m<cell line: 1>\u001b[0;34m()\u001b[0m\n\u001b[0;32m----> 1\u001b[0m \u001b[43mclfs\u001b[49m\u001b[43m[\u001b[49m\u001b[43mname\u001b[49m\u001b[43m]\u001b[49m\u001b[43m[\u001b[49m\u001b[38;5;124;43m\"\u001b[39;49m\u001b[38;5;124;43mmodel\u001b[39;49m\u001b[38;5;124;43m\"\u001b[39;49m\u001b[43m]\u001b[49m\u001b[38;5;241;43m.\u001b[39;49m\u001b[43mset_params\u001b[49m\u001b[43m(\u001b[49m\u001b[38;5;241;43m*\u001b[39;49m\u001b[38;5;241;43m*\u001b[39;49m\u001b[43mbest_result\u001b[49m\u001b[43m[\u001b[49m\u001b[38;5;124;43m\"\u001b[39;49m\u001b[38;5;124;43mbest_params\u001b[39;49m\u001b[38;5;124;43m\"\u001b[39;49m\u001b[43m]\u001b[49m\u001b[43m)\u001b[49m\n",
      "File \u001b[0;32m~/miniconda3/envs/ufc-fight-predictor/lib/python3.9/site-packages/sklearn/base.py:246\u001b[0m, in \u001b[0;36mBaseEstimator.set_params\u001b[0;34m(self, **params)\u001b[0m\n\u001b[1;32m    244\u001b[0m \u001b[38;5;28;01mif\u001b[39;00m key \u001b[38;5;129;01mnot\u001b[39;00m \u001b[38;5;129;01min\u001b[39;00m valid_params:\n\u001b[1;32m    245\u001b[0m     local_valid_params \u001b[38;5;241m=\u001b[39m \u001b[38;5;28mself\u001b[39m\u001b[38;5;241m.\u001b[39m_get_param_names()\n\u001b[0;32m--> 246\u001b[0m     \u001b[38;5;28;01mraise\u001b[39;00m \u001b[38;5;167;01mValueError\u001b[39;00m(\n\u001b[1;32m    247\u001b[0m         \u001b[38;5;124mf\u001b[39m\u001b[38;5;124m\"\u001b[39m\u001b[38;5;124mInvalid parameter \u001b[39m\u001b[38;5;132;01m{\u001b[39;00mkey\u001b[38;5;132;01m!r}\u001b[39;00m\u001b[38;5;124m for estimator \u001b[39m\u001b[38;5;132;01m{\u001b[39;00m\u001b[38;5;28mself\u001b[39m\u001b[38;5;132;01m}\u001b[39;00m\u001b[38;5;124m. \u001b[39m\u001b[38;5;124m\"\u001b[39m\n\u001b[1;32m    248\u001b[0m         \u001b[38;5;124mf\u001b[39m\u001b[38;5;124m\"\u001b[39m\u001b[38;5;124mValid parameters are: \u001b[39m\u001b[38;5;132;01m{\u001b[39;00mlocal_valid_params\u001b[38;5;132;01m!r}\u001b[39;00m\u001b[38;5;124m.\u001b[39m\u001b[38;5;124m\"\u001b[39m\n\u001b[1;32m    249\u001b[0m     )\n\u001b[1;32m    251\u001b[0m \u001b[38;5;28;01mif\u001b[39;00m delim:\n\u001b[1;32m    252\u001b[0m     nested_params[key][sub_key] \u001b[38;5;241m=\u001b[39m value\n",
      "\u001b[0;31mValueError\u001b[0m: Invalid parameter 'selector' for estimator LogisticRegression(max_iter=500, random_state=42). Valid parameters are: ['C', 'class_weight', 'dual', 'fit_intercept', 'intercept_scaling', 'l1_ratio', 'max_iter', 'multi_class', 'n_jobs', 'penalty', 'random_state', 'solver', 'tol', 'verbose', 'warm_start']."
     ]
    }
   ],
   "source": [
    "clfs[name][\"model\"].set_params(**best_result[\"best_params\"])"
   ]
  },
  {
   "cell_type": "code",
   "execution_count": null,
   "id": "caf8a927-1081-4dc6-9873-76d86f0b3114",
   "metadata": {},
   "outputs": [],
   "source": []
  }
 ],
 "metadata": {
  "kernelspec": {
   "display_name": "Python 3 (ipykernel)",
   "language": "python",
   "name": "python3"
  },
  "language_info": {
   "codemirror_mode": {
    "name": "ipython",
    "version": 3
   },
   "file_extension": ".py",
   "mimetype": "text/x-python",
   "name": "python",
   "nbconvert_exporter": "python",
   "pygments_lexer": "ipython3",
   "version": "3.9.13"
  }
 },
 "nbformat": 4,
 "nbformat_minor": 5
}
