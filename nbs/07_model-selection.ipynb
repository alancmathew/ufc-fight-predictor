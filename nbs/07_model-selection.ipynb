{
 "cells": [
  {
   "cell_type": "code",
   "execution_count": 91,
   "id": "1417bee6-5260-447f-b064-cdfa678241a8",
   "metadata": {},
   "outputs": [],
   "source": [
    "import os\n",
    "import sys\n",
    "import json\n",
    "import time\n",
    "import joblib\n",
    "import warnings\n",
    "import numpy as np\n",
    "import pandas as pd\n",
    "from tqdm import tqdm\n",
    "from multiprocessing import Pool, cpu_count"
   ]
  },
  {
   "cell_type": "code",
   "execution_count": 3,
   "id": "08a4fa9f-936b-47c7-8dca-05d836f01535",
   "metadata": {},
   "outputs": [],
   "source": [
    "sys.path.append(\"../src/\")"
   ]
  },
  {
   "cell_type": "code",
   "execution_count": 4,
   "id": "93bacaad-79bc-48c0-96dc-1ab41ea455b2",
   "metadata": {},
   "outputs": [],
   "source": [
    "from utilities import *"
   ]
  },
  {
   "cell_type": "code",
   "execution_count": 5,
   "id": "e35ae250-7cd3-4635-ad19-f37569c96f82",
   "metadata": {},
   "outputs": [],
   "source": [
    "pd.set_option(\"display.max_columns\", None)\n",
    "\n",
    "os.environ[\"PYTHONWARNINGS\"] = \"ignore\""
   ]
  },
  {
   "cell_type": "code",
   "execution_count": 6,
   "id": "62faa4e6-6cc2-4c34-ba6a-ec56265479fb",
   "metadata": {
    "tags": []
   },
   "outputs": [],
   "source": [
    "from sklearn.model_selection import cross_val_score"
   ]
  },
  {
   "cell_type": "code",
   "execution_count": 7,
   "id": "4e45535a-639a-410f-a05c-4d5af76b5c7e",
   "metadata": {},
   "outputs": [],
   "source": [
    "filepath = os.path.join(dir_dict[\"train_test\"], f\"train.parquet\")\n",
    "df = pd.read_parquet(filepath)\n",
    "\n",
    "to_drop = [\"event_date\", \"fight_id\", \"fighter_id\", \"opponent_id\"]\n",
    "df = df.drop(to_drop, axis=1)"
   ]
  },
  {
   "cell_type": "code",
   "execution_count": 8,
   "id": "4b139cdb-8bb4-4177-a07a-37789c669bc4",
   "metadata": {},
   "outputs": [],
   "source": [
    "target = \"fight_fighter_win\"\n",
    "X, y = df.drop(target, axis=1), df[target]"
   ]
  },
  {
   "cell_type": "code",
   "execution_count": 78,
   "id": "41ca27bc-0515-45f4-8ddf-8f2b1868856f",
   "metadata": {},
   "outputs": [],
   "source": [
    "def cross_validate(estimator, X=X, y=y, cv=5, **kwargs):\n",
    "    return np.mean(cross_val_score(estimator, X, y, cv=cv, **kwargs))"
   ]
  },
  {
   "cell_type": "markdown",
   "id": "5e3ac121-3edc-4909-b370-5ad963935a7c",
   "metadata": {},
   "source": [
    "### Initial Model"
   ]
  },
  {
   "cell_type": "code",
   "execution_count": 10,
   "id": "ae8e06d0-5dc3-4fd1-a26c-483e126bc5a5",
   "metadata": {},
   "outputs": [],
   "source": [
    "from sklearn.linear_model import LogisticRegression"
   ]
  },
  {
   "cell_type": "code",
   "execution_count": 10,
   "id": "d5343cac-5eea-4468-a180-abd0c8f3b8e2",
   "metadata": {},
   "outputs": [],
   "source": [
    "lr = LogisticRegression(random_state=42)"
   ]
  },
  {
   "cell_type": "code",
   "execution_count": 11,
   "id": "44fe3369-582a-4ee5-97ef-b24e643e0c09",
   "metadata": {},
   "outputs": [
    {
     "data": {
      "text/plain": [
       "0.5762390670553936"
      ]
     },
     "execution_count": 11,
     "metadata": {},
     "output_type": "execute_result"
    }
   ],
   "source": [
    "cross_validate(lr)"
   ]
  },
  {
   "cell_type": "markdown",
   "id": "a69bb58f-8f8d-4208-8131-aac458aca452",
   "metadata": {},
   "source": [
    "### Scale Data"
   ]
  },
  {
   "cell_type": "code",
   "execution_count": 11,
   "id": "f7180ae9-7746-4a27-a6ed-d23fa71b9e40",
   "metadata": {},
   "outputs": [],
   "source": [
    "from sklearn.pipeline import Pipeline\n",
    "from sklearn.preprocessing import MinMaxScaler"
   ]
  },
  {
   "cell_type": "code",
   "execution_count": 13,
   "id": "ebff2e66-1630-40a8-916c-6d5eda8c17e8",
   "metadata": {},
   "outputs": [
    {
     "data": {
      "text/plain": [
       "0.6077259475218659"
      ]
     },
     "execution_count": 13,
     "metadata": {},
     "output_type": "execute_result"
    }
   ],
   "source": [
    "pipe = Pipeline([\n",
    "    (\"scaler\", MinMaxScaler()),\n",
    "    (\"lr\", LogisticRegression(max_iter=500, random_state=42))\n",
    "])\n",
    "cross_validate(pipe)"
   ]
  },
  {
   "cell_type": "markdown",
   "id": "10a0ac04-a970-4b3b-86b4-41f1562944e0",
   "metadata": {},
   "source": [
    "### Model Selection (Hyperparameter Tuning & Feature Selection)"
   ]
  },
  {
   "cell_type": "code",
   "execution_count": 12,
   "id": "4df1e389-2aae-4009-bdfd-cc0877a89f97",
   "metadata": {},
   "outputs": [],
   "source": [
    "from sklearn.feature_selection import SelectKBest, f_regression"
   ]
  },
  {
   "cell_type": "code",
   "execution_count": 13,
   "id": "4dc7349f-f637-4889-ad83-10934fc50d3d",
   "metadata": {},
   "outputs": [],
   "source": [
    "from sklearn.model_selection import RandomizedSearchCV"
   ]
  },
  {
   "cell_type": "code",
   "execution_count": 14,
   "id": "bc8dd689-ad9f-45b4-8723-edf0dfbe9c26",
   "metadata": {},
   "outputs": [],
   "source": [
    "sys.path.append(\"../assets/model_training\")"
   ]
  },
  {
   "cell_type": "code",
   "execution_count": 15,
   "id": "878ea3e1-3891-444c-840b-1311676ee945",
   "metadata": {},
   "outputs": [],
   "source": [
    "from clf_param_grid_list import clfs"
   ]
  },
  {
   "cell_type": "code",
   "execution_count": null,
   "id": "8ddefa4a-8cc3-452b-9a96-2fc1cb50f8dc",
   "metadata": {},
   "outputs": [
    {
     "name": "stderr",
     "output_type": "stream",
     "text": [
      "  0%|                                                                                                                                                                                         | 0/10 [00:00<?, ?it/s]"
     ]
    },
    {
     "name": "stdout",
     "output_type": "stream",
     "text": [
      "Fitting 3 folds for each of 200 candidates, totalling 600 fits\n"
     ]
    }
   ],
   "source": [
    "search_results = dict()\n",
    "for name, est_dict in tqdm(clfs.items()):\n",
    "    pipe = Pipeline([\n",
    "        (\"scaler\", MinMaxScaler()),\n",
    "        (\"selector\", SelectKBest(f_regression)),\n",
    "        (\"model\", est_dict[\"model\"])\n",
    "    ])\n",
    "    \n",
    "    param_grid = {f\"model__{k}\":v for k, v in est_dict[\"param_grid\"].items()}\n",
    "    param_grid[\"selector__k\"] = [i*10 for i in range(20,57)]\n",
    "    \n",
    "    search = RandomizedSearchCV(estimator=pipe, param_distributions=param_grid, n_iter=500, \n",
    "                                cv=3, n_jobs=int(cpu_count() / 2), scoring =\"accuracy\", verbose=5)\n",
    "    \n",
    "    search.fit(X, y)\n",
    "    search_results[name] = {\n",
    "        \"best_params\": search.best_params_,\n",
    "        \"best_score\": search.best_score_\n",
    "    }\n",
    "    \n",
    "    with open(\"../assets/model_training/search_results.json\", \"w\") as fh:\n",
    "        json.dump(search_results, fh)\n",
    "        \n",
    "    time.sleep(120)"
   ]
  },
  {
   "cell_type": "code",
   "execution_count": 89,
   "id": "ae6b671b-5b41-4f6f-8763-4b47cd2d8dac",
   "metadata": {},
   "outputs": [
    {
     "name": "stdout",
     "output_type": "stream",
     "text": [
      "LogisticRegression(C=1, max_iter=1000, random_state=42, solver='liblinear')\n",
      "accuracy: 0.6088921282798834\n"
     ]
    }
   ],
   "source": [
    "with open(\"../assets/model_training/search_results.json\", \"r\") as fh:\n",
    "    search_results = json.load(fh)\n",
    "\n",
    "name, best_result = max(search_results.items(), key=lambda x: x[1][\"best_score\"])\n",
    "best_model = clfs[name][\"model\"]\n",
    "best_params = best_result[\"best_params\"]\n",
    "print(best_model)\n",
    "\n",
    "pipe = Pipeline([\n",
    "    (\"scaler\", MinMaxScaler()),\n",
    "    (\"selector\", SelectKBest(f_regression)),\n",
    "    (\"model\", best_model)\n",
    "])\n",
    "pipe.set_params(**best_params)\n",
    "print(\"accuracy:\", cross_validate(pipe, n_jobs=cpu_count()))"
   ]
  },
  {
   "cell_type": "code",
   "execution_count": 90,
   "id": "caf8a927-1081-4dc6-9873-76d86f0b3114",
   "metadata": {},
   "outputs": [
    {
     "data": {
      "text/html": [
       "<style>#sk-container-id-8 {color: black;background-color: white;}#sk-container-id-8 pre{padding: 0;}#sk-container-id-8 div.sk-toggleable {background-color: white;}#sk-container-id-8 label.sk-toggleable__label {cursor: pointer;display: block;width: 100%;margin-bottom: 0;padding: 0.3em;box-sizing: border-box;text-align: center;}#sk-container-id-8 label.sk-toggleable__label-arrow:before {content: \"▸\";float: left;margin-right: 0.25em;color: #696969;}#sk-container-id-8 label.sk-toggleable__label-arrow:hover:before {color: black;}#sk-container-id-8 div.sk-estimator:hover label.sk-toggleable__label-arrow:before {color: black;}#sk-container-id-8 div.sk-toggleable__content {max-height: 0;max-width: 0;overflow: hidden;text-align: left;background-color: #f0f8ff;}#sk-container-id-8 div.sk-toggleable__content pre {margin: 0.2em;color: black;border-radius: 0.25em;background-color: #f0f8ff;}#sk-container-id-8 input.sk-toggleable__control:checked~div.sk-toggleable__content {max-height: 200px;max-width: 100%;overflow: auto;}#sk-container-id-8 input.sk-toggleable__control:checked~label.sk-toggleable__label-arrow:before {content: \"▾\";}#sk-container-id-8 div.sk-estimator input.sk-toggleable__control:checked~label.sk-toggleable__label {background-color: #d4ebff;}#sk-container-id-8 div.sk-label input.sk-toggleable__control:checked~label.sk-toggleable__label {background-color: #d4ebff;}#sk-container-id-8 input.sk-hidden--visually {border: 0;clip: rect(1px 1px 1px 1px);clip: rect(1px, 1px, 1px, 1px);height: 1px;margin: -1px;overflow: hidden;padding: 0;position: absolute;width: 1px;}#sk-container-id-8 div.sk-estimator {font-family: monospace;background-color: #f0f8ff;border: 1px dotted black;border-radius: 0.25em;box-sizing: border-box;margin-bottom: 0.5em;}#sk-container-id-8 div.sk-estimator:hover {background-color: #d4ebff;}#sk-container-id-8 div.sk-parallel-item::after {content: \"\";width: 100%;border-bottom: 1px solid gray;flex-grow: 1;}#sk-container-id-8 div.sk-label:hover label.sk-toggleable__label {background-color: #d4ebff;}#sk-container-id-8 div.sk-serial::before {content: \"\";position: absolute;border-left: 1px solid gray;box-sizing: border-box;top: 0;bottom: 0;left: 50%;z-index: 0;}#sk-container-id-8 div.sk-serial {display: flex;flex-direction: column;align-items: center;background-color: white;padding-right: 0.2em;padding-left: 0.2em;position: relative;}#sk-container-id-8 div.sk-item {position: relative;z-index: 1;}#sk-container-id-8 div.sk-parallel {display: flex;align-items: stretch;justify-content: center;background-color: white;position: relative;}#sk-container-id-8 div.sk-item::before, #sk-container-id-8 div.sk-parallel-item::before {content: \"\";position: absolute;border-left: 1px solid gray;box-sizing: border-box;top: 0;bottom: 0;left: 50%;z-index: -1;}#sk-container-id-8 div.sk-parallel-item {display: flex;flex-direction: column;z-index: 1;position: relative;background-color: white;}#sk-container-id-8 div.sk-parallel-item:first-child::after {align-self: flex-end;width: 50%;}#sk-container-id-8 div.sk-parallel-item:last-child::after {align-self: flex-start;width: 50%;}#sk-container-id-8 div.sk-parallel-item:only-child::after {width: 0;}#sk-container-id-8 div.sk-dashed-wrapped {border: 1px dashed gray;margin: 0 0.4em 0.5em 0.4em;box-sizing: border-box;padding-bottom: 0.4em;background-color: white;}#sk-container-id-8 div.sk-label label {font-family: monospace;font-weight: bold;display: inline-block;line-height: 1.2em;}#sk-container-id-8 div.sk-label-container {text-align: center;}#sk-container-id-8 div.sk-container {/* jupyter's `normalize.less` sets `[hidden] { display: none; }` but bootstrap.min.css set `[hidden] { display: none !important; }` so we also need the `!important` here to be able to override the default hidden behavior on the sphinx rendered scikit-learn.org. See: https://github.com/scikit-learn/scikit-learn/issues/21755 */display: inline-block !important;position: relative;}#sk-container-id-8 div.sk-text-repr-fallback {display: none;}</style><div id=\"sk-container-id-8\" class=\"sk-top-container\"><div class=\"sk-text-repr-fallback\"><pre>Pipeline(steps=[(&#x27;scaler&#x27;, MinMaxScaler()),\n",
       "                (&#x27;selector&#x27;,\n",
       "                 SelectKBest(k=360,\n",
       "                             score_func=&lt;function f_regression at 0x7fd5e8680af0&gt;)),\n",
       "                (&#x27;model&#x27;,\n",
       "                 LogisticRegression(C=1, max_iter=1000, random_state=42,\n",
       "                                    solver=&#x27;liblinear&#x27;))])</pre><b>In a Jupyter environment, please rerun this cell to show the HTML representation or trust the notebook. <br />On GitHub, the HTML representation is unable to render, please try loading this page with nbviewer.org.</b></div><div class=\"sk-container\" hidden><div class=\"sk-item sk-dashed-wrapped\"><div class=\"sk-label-container\"><div class=\"sk-label sk-toggleable\"><input class=\"sk-toggleable__control sk-hidden--visually\" id=\"sk-estimator-id-17\" type=\"checkbox\" ><label for=\"sk-estimator-id-17\" class=\"sk-toggleable__label sk-toggleable__label-arrow\">Pipeline</label><div class=\"sk-toggleable__content\"><pre>Pipeline(steps=[(&#x27;scaler&#x27;, MinMaxScaler()),\n",
       "                (&#x27;selector&#x27;,\n",
       "                 SelectKBest(k=360,\n",
       "                             score_func=&lt;function f_regression at 0x7fd5e8680af0&gt;)),\n",
       "                (&#x27;model&#x27;,\n",
       "                 LogisticRegression(C=1, max_iter=1000, random_state=42,\n",
       "                                    solver=&#x27;liblinear&#x27;))])</pre></div></div></div><div class=\"sk-serial\"><div class=\"sk-item\"><div class=\"sk-estimator sk-toggleable\"><input class=\"sk-toggleable__control sk-hidden--visually\" id=\"sk-estimator-id-18\" type=\"checkbox\" ><label for=\"sk-estimator-id-18\" class=\"sk-toggleable__label sk-toggleable__label-arrow\">MinMaxScaler</label><div class=\"sk-toggleable__content\"><pre>MinMaxScaler()</pre></div></div></div><div class=\"sk-item\"><div class=\"sk-estimator sk-toggleable\"><input class=\"sk-toggleable__control sk-hidden--visually\" id=\"sk-estimator-id-19\" type=\"checkbox\" ><label for=\"sk-estimator-id-19\" class=\"sk-toggleable__label sk-toggleable__label-arrow\">SelectKBest</label><div class=\"sk-toggleable__content\"><pre>SelectKBest(k=360, score_func=&lt;function f_regression at 0x7fd5e8680af0&gt;)</pre></div></div></div><div class=\"sk-item\"><div class=\"sk-estimator sk-toggleable\"><input class=\"sk-toggleable__control sk-hidden--visually\" id=\"sk-estimator-id-20\" type=\"checkbox\" ><label for=\"sk-estimator-id-20\" class=\"sk-toggleable__label sk-toggleable__label-arrow\">LogisticRegression</label><div class=\"sk-toggleable__content\"><pre>LogisticRegression(C=1, max_iter=1000, random_state=42, solver=&#x27;liblinear&#x27;)</pre></div></div></div></div></div></div></div>"
      ],
      "text/plain": [
       "Pipeline(steps=[('scaler', MinMaxScaler()),\n",
       "                ('selector',\n",
       "                 SelectKBest(k=360,\n",
       "                             score_func=<function f_regression at 0x7fd5e8680af0>)),\n",
       "                ('model',\n",
       "                 LogisticRegression(C=1, max_iter=1000, random_state=42,\n",
       "                                    solver='liblinear'))])"
      ]
     },
     "execution_count": 90,
     "metadata": {},
     "output_type": "execute_result"
    }
   ],
   "source": [
    "pipe.fit(X, y)"
   ]
  },
  {
   "cell_type": "code",
   "execution_count": 93,
   "id": "2db0af25-bb47-459c-b2fc-2167ad348934",
   "metadata": {},
   "outputs": [
    {
     "data": {
      "text/plain": [
       "['../assets/trained_pipeline.joblib']"
      ]
     },
     "execution_count": 93,
     "metadata": {},
     "output_type": "execute_result"
    }
   ],
   "source": [
    "joblib.dump(pipe, \"../assets/model_training/trained_pipeline.joblib\")"
   ]
  }
 ],
 "metadata": {
  "kernelspec": {
   "display_name": "Python 3 (ipykernel)",
   "language": "python",
   "name": "python3"
  },
  "language_info": {
   "codemirror_mode": {
    "name": "ipython",
    "version": 3
   },
   "file_extension": ".py",
   "mimetype": "text/x-python",
   "name": "python",
   "nbconvert_exporter": "python",
   "pygments_lexer": "ipython3",
   "version": "3.9.13"
  }
 },
 "nbformat": 4,
 "nbformat_minor": 5
}
