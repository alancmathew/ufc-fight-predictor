{
 "cells": [
  {
   "cell_type": "code",
   "execution_count": 1,
   "id": "60cd99af-1cfd-4ff7-8b07-d6b43c9bc953",
   "metadata": {},
   "outputs": [],
   "source": [
    "import os\n",
    "import sys\n",
    "import pandas as pd\n",
    "from tqdm import tqdm\n",
    "from multiprocessing import Pool, cpu_count"
   ]
  },
  {
   "cell_type": "code",
   "execution_count": 2,
   "id": "2d6ceabd-086d-4bf3-8489-115ca4b328b1",
   "metadata": {},
   "outputs": [],
   "source": [
    "sys.path.append(\"../src/\")"
   ]
  },
  {
   "cell_type": "code",
   "execution_count": 3,
   "id": "a911c3f2-42ac-4234-a45c-ec12ad2b7345",
   "metadata": {},
   "outputs": [],
   "source": [
    "from utilities import *"
   ]
  },
  {
   "cell_type": "code",
   "execution_count": 4,
   "id": "fcf4a892-e7e4-4817-bbe9-7faefe83227b",
   "metadata": {},
   "outputs": [],
   "source": [
    "pd.set_option(\"display.max_columns\", None)"
   ]
  },
  {
   "cell_type": "code",
   "execution_count": 5,
   "id": "a2bc9dc0-8c1e-44d4-8c7e-adef8f90a72d",
   "metadata": {},
   "outputs": [],
   "source": [
    "def read_parquet(identifier):\n",
    "    filepath = os.path.join(dir_dict[\"clean\"], f\"{identifier}.parquet\")\n",
    "    return pd.read_parquet(filepath)"
   ]
  },
  {
   "cell_type": "code",
   "execution_count": 6,
   "id": "f2f8ee7e-f7f9-44a9-b0ca-9d0ca65e17a0",
   "metadata": {},
   "outputs": [],
   "source": [
    "def merge_datasets(identifier):\n",
    "    events = read_parquet(f\"{identifier}_events\")\n",
    "    fights = read_parquet(f\"{identifier}_fights\")\n",
    "    fighters = read_parquet(\"fighters\")\n",
    "    \n",
    "    fighters = fighters.drop(fighters.iloc[0,5:16].index, axis=1)\n",
    "    fighters = fighters.drop(\"fighter_weight_lbs\", axis=1)\n",
    "    \n",
    "    df = events.merge(fights, on=\"event_id\", how=\"right\").merge(fighters, on=\"fighter_id\", how=\"left\")\n",
    "    df = df.drop([\"event_id\"], axis=1)\n",
    "\n",
    "    general_cols = [col for col in df.columns \\\n",
    "                    if not (col.startswith(\"fight_fighter_\") or col.startswith(\"fighter_\") or col == \"fight_id\")]\n",
    "\n",
    "    opponent_rename_dict = {col:col.replace(\"fighter\", \"opponent\") for col in df.columns}\n",
    "    df = df.merge(df.drop(general_cols, axis=1).rename(opponent_rename_dict, axis=1), on=\"fight_id\")\n",
    "\n",
    "    df = df.loc[df[\"fighter_id\"] != df[\"opponent_id\"]].reset_index(drop=True)\n",
    "\n",
    "    # if identifier == \"completed\":\n",
    "    #     df[\"fight_winner\"] = df[\"fight_fighter_won_B\"]\n",
    "    #     df = df.drop([\"fight_fighter_won_A\", \"fight_fighter_won_B\"], axis=1)\n",
    "\n",
    "    df = df.sort_values(\"event_date\").reset_index(drop=True)  \n",
    "        \n",
    "    filepath = os.path.join(dir_dict[\"clean\"], f\"{identifier}_merged.parquet\")\n",
    "    df.to_parquet(filepath)\n",
    "    \n",
    "    return df"
   ]
  },
  {
   "cell_type": "code",
   "execution_count": 7,
   "id": "cf41a9c9-f55a-41f9-860c-9b42015a8cd6",
   "metadata": {},
   "outputs": [],
   "source": [
    "def merge():\n",
    "    completed = merge_datasets(\"completed\")\n",
    "    upcoming = merge_datasets(\"upcoming\")"
   ]
  },
  {
   "cell_type": "code",
   "execution_count": null,
   "id": "64750dbe-1f52-4a48-9e7c-1a4cfe69786a",
   "metadata": {},
   "outputs": [],
   "source": [
    "def main():        \n",
    "    merge()"
   ]
  },
  {
   "cell_type": "code",
   "execution_count": null,
   "id": "a075cb95-b08b-44f8-a066-c9c82602b6c8",
   "metadata": {},
   "outputs": [],
   "source": [
    "if __name__ == \"__main__\":\n",
    "    main()"
   ]
  }
 ],
 "metadata": {
  "kernelspec": {
   "display_name": "Python [conda env:ufc-fight-predictor]",
   "language": "python",
   "name": "conda-env-ufc-fight-predictor-py"
  },
  "language_info": {
   "codemirror_mode": {
    "name": "ipython",
    "version": 3
   },
   "file_extension": ".py",
   "mimetype": "text/x-python",
   "name": "python",
   "nbconvert_exporter": "python",
   "pygments_lexer": "ipython3",
   "version": "3.9.13"
  }
 },
 "nbformat": 4,
 "nbformat_minor": 5
}
