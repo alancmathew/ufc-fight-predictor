{
 "cells": [
  {
   "cell_type": "markdown",
   "id": "2acaa6bc-4319-4387-abf3-eefe596dd1c1",
   "metadata": {},
   "source": [
    "# Preprocessing "
   ]
  },
  {
   "cell_type": "code",
   "execution_count": 1,
   "id": "730414a8-9def-4075-9f2b-980e2ce3a3c1",
   "metadata": {},
   "outputs": [],
   "source": [
    "import os\n",
    "import sys\n",
    "import numpy as np\n",
    "import pandas as pd\n",
    "from tqdm import tqdm\n",
    "from multiprocessing import Pool, cpu_count"
   ]
  },
  {
   "cell_type": "code",
   "execution_count": 2,
   "id": "8bed5c68-210c-470c-afc6-92e4d7aecb60",
   "metadata": {},
   "outputs": [],
   "source": [
    "sys.path.append(\"../src/\")"
   ]
  },
  {
   "cell_type": "code",
   "execution_count": 3,
   "id": "65f2513f-475e-46d7-b37d-7c4ae719b39c",
   "metadata": {},
   "outputs": [],
   "source": [
    "from utilities import *"
   ]
  },
  {
   "cell_type": "code",
   "execution_count": 4,
   "id": "6861bc8b-9993-4fba-846a-54a5682b9433",
   "metadata": {},
   "outputs": [],
   "source": [
    "pd.set_option(\"display.max_columns\", None)"
   ]
  },
  {
   "cell_type": "code",
   "execution_count": 5,
   "id": "ebad7c4c-1bc1-4a3a-b471-532d5538dc32",
   "metadata": {},
   "outputs": [],
   "source": [
    "filepath = os.path.join(dir_dict[\"feature_engineered\"], f\"completed_feateng.parquet\")\n",
    "df = pd.read_parquet(filepath)"
   ]
  },
  {
   "cell_type": "code",
   "execution_count": 6,
   "id": "bd617262-4630-482e-a322-214fff0c2cd2",
   "metadata": {},
   "outputs": [],
   "source": [
    "df[\"fighter_name\"] = df[\"fighter_name\"].astype(\"category\")"
   ]
  },
  {
   "cell_type": "code",
   "execution_count": 7,
   "id": "8df14313-5270-46fa-825c-27d0f4c05db3",
   "metadata": {},
   "outputs": [
    {
     "data": {
      "text/html": [
       "<div>\n",
       "<style scoped>\n",
       "    .dataframe tbody tr th:only-of-type {\n",
       "        vertical-align: middle;\n",
       "    }\n",
       "\n",
       "    .dataframe tbody tr th {\n",
       "        vertical-align: top;\n",
       "    }\n",
       "\n",
       "    .dataframe thead th {\n",
       "        text-align: right;\n",
       "    }\n",
       "</style>\n",
       "<table border=\"1\" class=\"dataframe\">\n",
       "  <thead>\n",
       "    <tr style=\"text-align: right;\">\n",
       "      <th></th>\n",
       "      <th>event_name</th>\n",
       "      <th>event_date</th>\n",
       "      <th>event_city</th>\n",
       "      <th>event_state</th>\n",
       "      <th>event_country</th>\n",
       "      <th>fight_bout</th>\n",
       "      <th>fight_method</th>\n",
       "      <th>fight_time_format</th>\n",
       "      <th>fight_referee</th>\n",
       "      <th>fight_details</th>\n",
       "      <th>fight_weight_class</th>\n",
       "      <th>fighter_name</th>\n",
       "      <th>fighter_nickname</th>\n",
       "      <th>fighter_stance</th>\n",
       "      <th>fighter_dob</th>\n",
       "    </tr>\n",
       "  </thead>\n",
       "  <tbody>\n",
       "    <tr>\n",
       "      <th>0</th>\n",
       "      <td>UFC - Ultimate Ultimate '95</td>\n",
       "      <td>1995-12-16</td>\n",
       "      <td>Denver</td>\n",
       "      <td>Colorado</td>\n",
       "      <td>USA</td>\n",
       "      <td>open_weight_bout</td>\n",
       "      <td>decision_unanimous</td>\n",
       "      <td>1 Rnd (18)</td>\n",
       "      <td>John McCarthy</td>\n",
       "      <td>&lt;NA&gt;</td>\n",
       "      <td>open_weight</td>\n",
       "      <td>Dan Severn</td>\n",
       "      <td>The Beast</td>\n",
       "      <td>southpaw</td>\n",
       "      <td>1958-06-08</td>\n",
       "    </tr>\n",
       "    <tr>\n",
       "      <th>1</th>\n",
       "      <td>UFC - Ultimate Ultimate '95</td>\n",
       "      <td>1995-12-16</td>\n",
       "      <td>Denver</td>\n",
       "      <td>Colorado</td>\n",
       "      <td>USA</td>\n",
       "      <td>ultimate_ultimate_95_tournament_title_bout</td>\n",
       "      <td>decision_unanimous</td>\n",
       "      <td>1 Rnd + OT (27-3)</td>\n",
       "      <td>John McCarthy</td>\n",
       "      <td>&lt;NA&gt;</td>\n",
       "      <td>open_weight</td>\n",
       "      <td>Dan Severn</td>\n",
       "      <td>The Beast</td>\n",
       "      <td>southpaw</td>\n",
       "      <td>1958-06-08</td>\n",
       "    </tr>\n",
       "    <tr>\n",
       "      <th>2</th>\n",
       "      <td>UFC - Ultimate Ultimate '95</td>\n",
       "      <td>1995-12-16</td>\n",
       "      <td>Denver</td>\n",
       "      <td>Colorado</td>\n",
       "      <td>USA</td>\n",
       "      <td>open_weight_bout</td>\n",
       "      <td>submission</td>\n",
       "      <td>1 Rnd (15)</td>\n",
       "      <td>John McCarthy</td>\n",
       "      <td>Ankle Lock From Inoki-Ali Position</td>\n",
       "      <td>open_weight</td>\n",
       "      <td>Dave Beneteau</td>\n",
       "      <td>Dangerous</td>\n",
       "      <td>orthodox</td>\n",
       "      <td>NaT</td>\n",
       "    </tr>\n",
       "    <tr>\n",
       "      <th>3</th>\n",
       "      <td>UFC - Ultimate Ultimate '95</td>\n",
       "      <td>1995-12-16</td>\n",
       "      <td>Denver</td>\n",
       "      <td>Colorado</td>\n",
       "      <td>USA</td>\n",
       "      <td>open_weight_bout</td>\n",
       "      <td>submission</td>\n",
       "      <td>1 Rnd (15)</td>\n",
       "      <td>John McCarthy</td>\n",
       "      <td>Rear Naked Choke</td>\n",
       "      <td>open_weight</td>\n",
       "      <td>Keith Hackney</td>\n",
       "      <td>The Giant Killer</td>\n",
       "      <td>sideways</td>\n",
       "      <td>NaT</td>\n",
       "    </tr>\n",
       "    <tr>\n",
       "      <th>4</th>\n",
       "      <td>UFC - Ultimate Ultimate '95</td>\n",
       "      <td>1995-12-16</td>\n",
       "      <td>Denver</td>\n",
       "      <td>Colorado</td>\n",
       "      <td>USA</td>\n",
       "      <td>ultimate_ultimate_95_tournament_title_bout</td>\n",
       "      <td>decision_unanimous</td>\n",
       "      <td>1 Rnd + OT (27-3)</td>\n",
       "      <td>John McCarthy</td>\n",
       "      <td>&lt;NA&gt;</td>\n",
       "      <td>open_weight</td>\n",
       "      <td>Oleg Taktarov</td>\n",
       "      <td>The Russian Bear</td>\n",
       "      <td>orthodox</td>\n",
       "      <td>1967-08-26</td>\n",
       "    </tr>\n",
       "    <tr>\n",
       "      <th>...</th>\n",
       "      <td>...</td>\n",
       "      <td>...</td>\n",
       "      <td>...</td>\n",
       "      <td>...</td>\n",
       "      <td>...</td>\n",
       "      <td>...</td>\n",
       "      <td>...</td>\n",
       "      <td>...</td>\n",
       "      <td>...</td>\n",
       "      <td>...</td>\n",
       "      <td>...</td>\n",
       "      <td>...</td>\n",
       "      <td>...</td>\n",
       "      <td>...</td>\n",
       "      <td>...</td>\n",
       "    </tr>\n",
       "    <tr>\n",
       "      <th>13475</th>\n",
       "      <td>UFC Fight Night: Cannonier vs. Strickland</td>\n",
       "      <td>2022-12-17</td>\n",
       "      <td>Las Vegas</td>\n",
       "      <td>Nevada</td>\n",
       "      <td>USA</td>\n",
       "      <td>middleweight_bout</td>\n",
       "      <td>decision_split</td>\n",
       "      <td>5 Rnd (5-5-5-5-5)</td>\n",
       "      <td>Herb Dean</td>\n",
       "      <td>Derek Cleary                                  ...</td>\n",
       "      <td>middleweight</td>\n",
       "      <td>Sean Strickland</td>\n",
       "      <td>&lt;NA&gt;</td>\n",
       "      <td>orthodox</td>\n",
       "      <td>1991-02-27</td>\n",
       "    </tr>\n",
       "    <tr>\n",
       "      <th>13476</th>\n",
       "      <td>UFC Fight Night: Cannonier vs. Strickland</td>\n",
       "      <td>2022-12-17</td>\n",
       "      <td>Las Vegas</td>\n",
       "      <td>Nevada</td>\n",
       "      <td>USA</td>\n",
       "      <td>flyweight_bout</td>\n",
       "      <td>ko_tko</td>\n",
       "      <td>3 Rnd (5-5-5)</td>\n",
       "      <td>Keith Peterson</td>\n",
       "      <td>Punch to Head At Distance</td>\n",
       "      <td>flyweight</td>\n",
       "      <td>Alessandro Costa</td>\n",
       "      <td>Nono</td>\n",
       "      <td>orthodox</td>\n",
       "      <td>1996-01-28</td>\n",
       "    </tr>\n",
       "    <tr>\n",
       "      <th>13477</th>\n",
       "      <td>UFC Fight Night: Cannonier vs. Strickland</td>\n",
       "      <td>2022-12-17</td>\n",
       "      <td>Las Vegas</td>\n",
       "      <td>Nevada</td>\n",
       "      <td>USA</td>\n",
       "      <td>welterweight_bout</td>\n",
       "      <td>decision_unanimous</td>\n",
       "      <td>3 Rnd (5-5-5)</td>\n",
       "      <td>Herb Dean</td>\n",
       "      <td>Adalaide Byrd                                 ...</td>\n",
       "      <td>welterweight</td>\n",
       "      <td>Bryan Battle</td>\n",
       "      <td>Pooh Bear</td>\n",
       "      <td>orthodox</td>\n",
       "      <td>1994-09-21</td>\n",
       "    </tr>\n",
       "    <tr>\n",
       "      <th>13478</th>\n",
       "      <td>UFC Fight Night: Cannonier vs. Strickland</td>\n",
       "      <td>2022-12-17</td>\n",
       "      <td>Las Vegas</td>\n",
       "      <td>Nevada</td>\n",
       "      <td>USA</td>\n",
       "      <td>lightweight_bout</td>\n",
       "      <td>decision_unanimous</td>\n",
       "      <td>3 Rnd (5-5-5)</td>\n",
       "      <td>Mark Smith</td>\n",
       "      <td>Mike Bell                                     ...</td>\n",
       "      <td>lightweight</td>\n",
       "      <td>Damir Ismagulov</td>\n",
       "      <td>Qazaq</td>\n",
       "      <td>orthodox</td>\n",
       "      <td>1991-02-03</td>\n",
       "    </tr>\n",
       "    <tr>\n",
       "      <th>13479</th>\n",
       "      <td>UFC Fight Night: Cannonier vs. Strickland</td>\n",
       "      <td>2022-12-17</td>\n",
       "      <td>Las Vegas</td>\n",
       "      <td>Nevada</td>\n",
       "      <td>USA</td>\n",
       "      <td>lightweight_bout</td>\n",
       "      <td>decision_unanimous</td>\n",
       "      <td>3 Rnd (5-5-5)</td>\n",
       "      <td>Mark Smith</td>\n",
       "      <td>Mike Bell                                     ...</td>\n",
       "      <td>lightweight</td>\n",
       "      <td>Rafa Garcia</td>\n",
       "      <td>Gifted</td>\n",
       "      <td>orthodox</td>\n",
       "      <td>1994-08-05</td>\n",
       "    </tr>\n",
       "  </tbody>\n",
       "</table>\n",
       "<p>13480 rows × 15 columns</p>\n",
       "</div>"
      ],
      "text/plain": [
       "                                      event_name event_date event_city  \\\n",
       "0                    UFC - Ultimate Ultimate '95 1995-12-16     Denver   \n",
       "1                    UFC - Ultimate Ultimate '95 1995-12-16     Denver   \n",
       "2                    UFC - Ultimate Ultimate '95 1995-12-16     Denver   \n",
       "3                    UFC - Ultimate Ultimate '95 1995-12-16     Denver   \n",
       "4                    UFC - Ultimate Ultimate '95 1995-12-16     Denver   \n",
       "...                                          ...        ...        ...   \n",
       "13475  UFC Fight Night: Cannonier vs. Strickland 2022-12-17  Las Vegas   \n",
       "13476  UFC Fight Night: Cannonier vs. Strickland 2022-12-17  Las Vegas   \n",
       "13477  UFC Fight Night: Cannonier vs. Strickland 2022-12-17  Las Vegas   \n",
       "13478  UFC Fight Night: Cannonier vs. Strickland 2022-12-17  Las Vegas   \n",
       "13479  UFC Fight Night: Cannonier vs. Strickland 2022-12-17  Las Vegas   \n",
       "\n",
       "      event_state event_country                                  fight_bout  \\\n",
       "0        Colorado           USA                            open_weight_bout   \n",
       "1        Colorado           USA  ultimate_ultimate_95_tournament_title_bout   \n",
       "2        Colorado           USA                            open_weight_bout   \n",
       "3        Colorado           USA                            open_weight_bout   \n",
       "4        Colorado           USA  ultimate_ultimate_95_tournament_title_bout   \n",
       "...           ...           ...                                         ...   \n",
       "13475      Nevada           USA                           middleweight_bout   \n",
       "13476      Nevada           USA                              flyweight_bout   \n",
       "13477      Nevada           USA                           welterweight_bout   \n",
       "13478      Nevada           USA                            lightweight_bout   \n",
       "13479      Nevada           USA                            lightweight_bout   \n",
       "\n",
       "             fight_method  fight_time_format   fight_referee  \\\n",
       "0      decision_unanimous         1 Rnd (18)   John McCarthy   \n",
       "1      decision_unanimous  1 Rnd + OT (27-3)   John McCarthy   \n",
       "2              submission         1 Rnd (15)   John McCarthy   \n",
       "3              submission         1 Rnd (15)   John McCarthy   \n",
       "4      decision_unanimous  1 Rnd + OT (27-3)   John McCarthy   \n",
       "...                   ...                ...             ...   \n",
       "13475      decision_split  5 Rnd (5-5-5-5-5)       Herb Dean   \n",
       "13476              ko_tko      3 Rnd (5-5-5)  Keith Peterson   \n",
       "13477  decision_unanimous      3 Rnd (5-5-5)       Herb Dean   \n",
       "13478  decision_unanimous      3 Rnd (5-5-5)      Mark Smith   \n",
       "13479  decision_unanimous      3 Rnd (5-5-5)      Mark Smith   \n",
       "\n",
       "                                           fight_details fight_weight_class  \\\n",
       "0                                                   <NA>        open_weight   \n",
       "1                                                   <NA>        open_weight   \n",
       "2                     Ankle Lock From Inoki-Ali Position        open_weight   \n",
       "3                                       Rear Naked Choke        open_weight   \n",
       "4                                                   <NA>        open_weight   \n",
       "...                                                  ...                ...   \n",
       "13475  Derek Cleary                                  ...       middleweight   \n",
       "13476                          Punch to Head At Distance          flyweight   \n",
       "13477  Adalaide Byrd                                 ...       welterweight   \n",
       "13478  Mike Bell                                     ...        lightweight   \n",
       "13479  Mike Bell                                     ...        lightweight   \n",
       "\n",
       "           fighter_name  fighter_nickname fighter_stance fighter_dob  \n",
       "0            Dan Severn         The Beast       southpaw  1958-06-08  \n",
       "1            Dan Severn         The Beast       southpaw  1958-06-08  \n",
       "2         Dave Beneteau         Dangerous       orthodox         NaT  \n",
       "3         Keith Hackney  The Giant Killer       sideways         NaT  \n",
       "4         Oleg Taktarov  The Russian Bear       orthodox  1967-08-26  \n",
       "...                 ...               ...            ...         ...  \n",
       "13475   Sean Strickland              <NA>       orthodox  1991-02-27  \n",
       "13476  Alessandro Costa              Nono       orthodox  1996-01-28  \n",
       "13477      Bryan Battle         Pooh Bear       orthodox  1994-09-21  \n",
       "13478   Damir Ismagulov             Qazaq       orthodox  1991-02-03  \n",
       "13479       Rafa Garcia            Gifted       orthodox  1994-08-05  \n",
       "\n",
       "[13480 rows x 15 columns]"
      ]
     },
     "execution_count": 7,
     "metadata": {},
     "output_type": "execute_result"
    }
   ],
   "source": [
    "df.select_dtypes(exclude=[\"number\", \"bool\"])"
   ]
  },
  {
   "cell_type": "code",
   "execution_count": 8,
   "id": "bd9a545c-09a3-478d-b54a-2e5abd7e4f69",
   "metadata": {},
   "outputs": [],
   "source": [
    "to_drop = [\"event_name\", \"event_city\", \"event_state\", \"event_country\",\n",
    "           \"fight_bout\", \"fight_details\", \"fighter_dob\",  \n",
    "           \"fighter_name\", \"fighter_nickname\"]"
   ]
  },
  {
   "cell_type": "code",
   "execution_count": 9,
   "id": "e1931179-156c-43c3-81c1-ec61b46735ef",
   "metadata": {},
   "outputs": [],
   "source": [
    "df = df.drop(to_drop, axis=1)"
   ]
  },
  {
   "cell_type": "markdown",
   "id": "28320548-17c5-4095-9b11-7d3613f56d99",
   "metadata": {},
   "source": [
    "### One Hot Encoding "
   ]
  },
  {
   "cell_type": "code",
   "execution_count": 10,
   "id": "01421353-4fe3-42fe-a74e-79ef225708b5",
   "metadata": {},
   "outputs": [
    {
     "data": {
      "text/plain": [
       "['fight_method',\n",
       " 'fight_time_format',\n",
       " 'fight_referee',\n",
       " 'fight_weight_class',\n",
       " 'fighter_stance']"
      ]
     },
     "execution_count": 10,
     "metadata": {},
     "output_type": "execute_result"
    }
   ],
   "source": [
    "cat_cols = df.select_dtypes(exclude=[\"number\", \"bool\"]).columns.to_list()\n",
    "cat_cols.remove(\"event_date\")\n",
    "cat_cols"
   ]
  },
  {
   "cell_type": "code",
   "execution_count": 11,
   "id": "57dbf100-37d5-4953-aa2a-c86b2fe0c931",
   "metadata": {},
   "outputs": [],
   "source": [
    "df[cat_cols] = df[cat_cols].astype(\"category\")"
   ]
  },
  {
   "cell_type": "code",
   "execution_count": 12,
   "id": "d602028a-63d4-461b-8bc5-f66d6194c874",
   "metadata": {},
   "outputs": [],
   "source": [
    "df = pd.concat([df, pd.get_dummies(df[cat_cols])], axis=1)"
   ]
  },
  {
   "cell_type": "code",
   "execution_count": 13,
   "id": "ca2f590a-9007-4055-a65d-f22a63804a79",
   "metadata": {},
   "outputs": [],
   "source": [
    "df = df.drop(cat_cols, axis=1)"
   ]
  },
  {
   "cell_type": "code",
   "execution_count": 14,
   "id": "bcfb815d-cd11-402b-aa49-0ad1b7f56d12",
   "metadata": {},
   "outputs": [],
   "source": [
    "bool_cols = df.select_dtypes(\"bool\").columns\n",
    "df[bool_cols] = df[bool_cols].astype(\"uint8\")"
   ]
  },
  {
   "cell_type": "markdown",
   "id": "79cdcc29-69ac-48f9-9849-a3d65cd10462",
   "metadata": {},
   "source": [
    "### Drop Fight columns"
   ]
  },
  {
   "cell_type": "code",
   "execution_count": 15,
   "id": "da2a3108-e050-4e8b-b309-87893dca4ea4",
   "metadata": {},
   "outputs": [],
   "source": [
    "to_drop = [col for col in df.columns if \"fight_\" in col] \n",
    "to_drop.remove(\"fight_id\")\n",
    "to_drop.remove(\"fight_fighter_win\")\n",
    "df = df.drop(to_drop, axis=1)"
   ]
  },
  {
   "cell_type": "markdown",
   "id": "ee0c77ec-fe16-4f2f-8889-b5a0bbd29f08",
   "metadata": {},
   "source": [
    "### Deal with Null Values"
   ]
  },
  {
   "cell_type": "code",
   "execution_count": 16,
   "id": "63f8e399-f400-4bfc-acf1-9ac58cf44e3d",
   "metadata": {},
   "outputs": [
    {
     "data": {
      "text/plain": [
       "event_date                                             0\n",
       "fighter_opponents_cummean_overall_body_ss_total        0\n",
       "fighter_opponents_cummean_round1_body_ss_landed        0\n",
       "fighter_opponents_cummean_round1_body_ss_total         0\n",
       "fighter_opponents_cummean_overall_leg_ss_landed        0\n",
       "                                                   ...  \n",
       "fighter_opponents_cummean_round5_sig_str_%         11800\n",
       "fighter_opponents_cummean_round4_td_%              12171\n",
       "fighter_cummean_round4_td_%                        12297\n",
       "fighter_opponents_cummean_round5_td_%              12364\n",
       "fighter_cummean_round5_td_%                        12486\n",
       "Length: 394, dtype: int64"
      ]
     },
     "execution_count": 16,
     "metadata": {},
     "output_type": "execute_result"
    }
   ],
   "source": [
    "df.isna().sum().sort_values()"
   ]
  },
  {
   "cell_type": "code",
   "execution_count": 17,
   "id": "1e3fcaad-b2c4-4670-aab3-f4283df9e0fa",
   "metadata": {},
   "outputs": [],
   "source": [
    "null_counter = df.isna().sum()\n",
    "\n",
    "null_pct = null_counter.sort_values() / df.shape[0]"
   ]
  },
  {
   "cell_type": "code",
   "execution_count": 18,
   "id": "f595e00d-febd-4f42-acc3-16e03851020e",
   "metadata": {},
   "outputs": [],
   "source": [
    "too_much_missing = null_pct[null_pct > 0.5].index.to_list()"
   ]
  },
  {
   "cell_type": "code",
   "execution_count": 19,
   "id": "ec3873f4-b08d-4e21-965d-12dff47ee4ec",
   "metadata": {},
   "outputs": [
    {
     "data": {
      "text/plain": [
       "108"
      ]
     },
     "execution_count": 19,
     "metadata": {},
     "output_type": "execute_result"
    }
   ],
   "source": [
    "len(too_much_missing)"
   ]
  },
  {
   "cell_type": "markdown",
   "id": "c091d3f0-f65c-4aa4-9a5d-717a99464241",
   "metadata": {},
   "source": [
    "Round4 or Round5 columns"
   ]
  },
  {
   "cell_type": "code",
   "execution_count": 20,
   "id": "a1b9f503-64fa-462b-a1e5-016bbb07ef3c",
   "metadata": {},
   "outputs": [
    {
     "data": {
      "text/plain": [
       "108"
      ]
     },
     "execution_count": 20,
     "metadata": {},
     "output_type": "execute_result"
    }
   ],
   "source": [
    "round_4_5_cols = [col for col in too_much_missing if \"round4\" in col or \"round5\" in col]\n",
    "len(round_4_5_cols)"
   ]
  },
  {
   "cell_type": "code",
   "execution_count": 21,
   "id": "f90fd641-1a5e-4414-a4e8-6be72130546a",
   "metadata": {},
   "outputs": [],
   "source": [
    "df = df.drop(round_4_5_cols, axis=1)"
   ]
  },
  {
   "cell_type": "code",
   "execution_count": 22,
   "id": "64ad2991-f217-42e7-8d19-0b825bf038de",
   "metadata": {},
   "outputs": [],
   "source": [
    "null_counter = df.isna().sum()\n",
    "\n",
    "null_pct = null_counter.sort_values() / df.shape[0]"
   ]
  },
  {
   "cell_type": "code",
   "execution_count": 23,
   "id": "b6f28430-5fe3-4a72-bc1a-99d11f18698e",
   "metadata": {},
   "outputs": [
    {
     "data": {
      "text/plain": [
       "event_date                                         0.000000\n",
       "fighter_opponents_cummean_overall_body_ss_total    0.000000\n",
       "fighter_opponents_cummean_round1_body_ss_landed    0.000000\n",
       "fighter_opponents_cummean_round1_body_ss_total     0.000000\n",
       "fighter_opponents_cummean_overall_leg_ss_landed    0.000000\n",
       "                                                     ...   \n",
       "fighter_cummean_round1_td_%                        0.177003\n",
       "fighter_opponents_cummean_round2_td_%              0.228858\n",
       "fighter_cummean_round2_td_%                        0.263056\n",
       "fighter_opponents_cummean_round3_td_%              0.298813\n",
       "fighter_cummean_round3_td_%                        0.321810\n",
       "Length: 286, dtype: float64"
      ]
     },
     "execution_count": 23,
     "metadata": {},
     "output_type": "execute_result"
    }
   ],
   "source": [
    "null_pct"
   ]
  },
  {
   "cell_type": "code",
   "execution_count": 24,
   "id": "c7414182-bfd7-4baa-a872-899a1a3d84a5",
   "metadata": {},
   "outputs": [],
   "source": [
    "desc_cols = [\"fighter_height_inches\", \"fighter_age\", \"fighter_reach_inches\"]\n",
    "df = df.loc[df[desc_cols].notna().all(axis=1)].reset_index(drop=True)"
   ]
  },
  {
   "cell_type": "code",
   "execution_count": null,
   "id": "e3b5a110-87b2-4625-8e27-4d964015e087",
   "metadata": {},
   "outputs": [],
   "source": []
  },
  {
   "cell_type": "code",
   "execution_count": 25,
   "id": "98c84e8e-1a46-4d0e-bde9-036a7cd97036",
   "metadata": {},
   "outputs": [],
   "source": [
    "null_counter = df.isna().sum()\n",
    "\n",
    "null_pct = null_counter.sort_values() / df.shape[0]\n",
    "\n",
    "null_cols = null_pct[null_pct > 0].index.to_list()"
   ]
  },
  {
   "cell_type": "code",
   "execution_count": 26,
   "id": "995263ad-c533-4d08-b735-3262b63c4808",
   "metadata": {},
   "outputs": [
    {
     "data": {
      "text/plain": [
       "124"
      ]
     },
     "execution_count": 26,
     "metadata": {},
     "output_type": "execute_result"
    }
   ],
   "source": [
    "len(null_cols)"
   ]
  },
  {
   "cell_type": "code",
   "execution_count": 27,
   "id": "15e64615-325d-4734-9f69-fc36d0ee287e",
   "metadata": {},
   "outputs": [
    {
     "data": {
      "text/plain": [
       "124"
      ]
     },
     "execution_count": 27,
     "metadata": {},
     "output_type": "execute_result"
    }
   ],
   "source": [
    "len([col for col in null_cols if \"cummean\" in col])"
   ]
  },
  {
   "cell_type": "markdown",
   "id": "20ede431-6a2f-4bd4-81a6-0eb64c97ecb1",
   "metadata": {},
   "source": [
    "#### Fighter Stats Columns"
   ]
  },
  {
   "cell_type": "code",
   "execution_count": 28,
   "id": "2f0e26ee-c585-4ec2-a170-18fd24b6bf5c",
   "metadata": {},
   "outputs": [],
   "source": [
    "stat_cols = [col for col in null_cols if \"fighter\" in col]"
   ]
  },
  {
   "cell_type": "code",
   "execution_count": 29,
   "id": "c105bab2-f676-4ce9-891b-c010b1b25ffe",
   "metadata": {},
   "outputs": [],
   "source": [
    "df[stat_cols] = \\\n",
    "    df.groupby(\"fighter_id\")[stat_cols].transform(lambda x: x.fillna(method=\"ffill\")\\\n",
    "                                                                      .fillna(method=\"bfill\"))"
   ]
  },
  {
   "cell_type": "code",
   "execution_count": 30,
   "id": "977404d7-6e6a-40e8-9127-12e61c0d25b6",
   "metadata": {},
   "outputs": [
    {
     "data": {
      "text/plain": [
       "event_date                                             0\n",
       "fighter_opponents_cummean_round1_head_ss_total         0\n",
       "fighter_opponents_cummean_overall_body_ss_landed       0\n",
       "fighter_opponents_cummean_overall_body_ss_total        0\n",
       "fighter_opponents_cummean_round1_body_ss_landed        0\n",
       "                                                    ... \n",
       "fighter_opponents_cummean_round2_td_%                645\n",
       "fighter_cummean_round1_td_%                          738\n",
       "fighter_opponents_cummean_round3_td_%               1135\n",
       "fighter_cummean_round2_td_%                         1251\n",
       "fighter_cummean_round3_td_%                         1631\n",
       "Length: 286, dtype: int64"
      ]
     },
     "execution_count": 30,
     "metadata": {},
     "output_type": "execute_result"
    }
   ],
   "source": [
    "df.isna().sum().sort_values()"
   ]
  },
  {
   "cell_type": "code",
   "execution_count": 31,
   "id": "3b53698d-bedc-43fd-9465-d544d8f1fcd0",
   "metadata": {},
   "outputs": [],
   "source": [
    "df[stat_cols] = df[stat_cols].fillna(df[stat_cols].mean())"
   ]
  },
  {
   "cell_type": "code",
   "execution_count": 32,
   "id": "e38ff423-bb08-4584-bf5c-f3e3fb3dc606",
   "metadata": {},
   "outputs": [
    {
     "data": {
      "text/plain": [
       "event_date                                        0\n",
       "fighter_opponents_cummean_overall_leg_ss_total    0\n",
       "fighter_opponents_cummean_round1_leg_ss_landed    0\n",
       "fighter_opponents_cummean_round1_leg_ss_total     0\n",
       "fighter_opponents_cummean_round2_leg_ss_landed    0\n",
       "                                                 ..\n",
       "fighter_cummean_round1_ground_ss_total            0\n",
       "fighter_cummean_round1_ground_ss_landed           0\n",
       "fighter_cummean_overall_ground_ss_total           0\n",
       "fighter_cummean_round3_sig_str_total              0\n",
       "fighter_stance_switch                             0\n",
       "Length: 286, dtype: int64"
      ]
     },
     "execution_count": 32,
     "metadata": {},
     "output_type": "execute_result"
    }
   ],
   "source": [
    "df.isna().sum().sort_values()"
   ]
  },
  {
   "cell_type": "code",
   "execution_count": 33,
   "id": "588d3111-6d76-4109-b5c4-3cefa2b56e1f",
   "metadata": {},
   "outputs": [],
   "source": [
    "filepath = os.path.join(dir_dict[\"preprocessed\"], f\"agg_processed.parquet\")\n",
    "df.to_parquet(filepath)"
   ]
  }
 ],
 "metadata": {
  "kernelspec": {
   "display_name": "Python 3 (ipykernel)",
   "language": "python",
   "name": "python3"
  },
  "language_info": {
   "codemirror_mode": {
    "name": "ipython",
    "version": 3
   },
   "file_extension": ".py",
   "mimetype": "text/x-python",
   "name": "python",
   "nbconvert_exporter": "python",
   "pygments_lexer": "ipython3",
   "version": "3.9.13"
  }
 },
 "nbformat": 4,
 "nbformat_minor": 5
}
