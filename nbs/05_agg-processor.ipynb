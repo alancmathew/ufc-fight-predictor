{
 "cells": [
  {
   "cell_type": "markdown",
   "id": "2acaa6bc-4319-4387-abf3-eefe596dd1c1",
   "metadata": {},
   "source": [
    "# Preprocessing "
   ]
  },
  {
   "cell_type": "code",
   "execution_count": 1,
   "id": "730414a8-9def-4075-9f2b-980e2ce3a3c1",
   "metadata": {},
   "outputs": [],
   "source": [
    "import os\n",
    "import sys\n",
    "import numpy as np\n",
    "import pandas as pd\n",
    "from tqdm import tqdm\n",
    "from multiprocessing import Pool, cpu_count"
   ]
  },
  {
   "cell_type": "code",
   "execution_count": 2,
   "id": "8bed5c68-210c-470c-afc6-92e4d7aecb60",
   "metadata": {},
   "outputs": [],
   "source": [
    "sys.path.append(\"../src/\")"
   ]
  },
  {
   "cell_type": "code",
   "execution_count": 3,
   "id": "65f2513f-475e-46d7-b37d-7c4ae719b39c",
   "metadata": {},
   "outputs": [],
   "source": [
    "from utilities import *"
   ]
  },
  {
   "cell_type": "code",
   "execution_count": 4,
   "id": "6861bc8b-9993-4fba-846a-54a5682b9433",
   "metadata": {},
   "outputs": [],
   "source": [
    "pd.set_option(\"display.max_columns\", None)"
   ]
  },
  {
   "cell_type": "code",
   "execution_count": 5,
   "id": "ebad7c4c-1bc1-4a3a-b471-532d5538dc32",
   "metadata": {},
   "outputs": [],
   "source": [
    "filepath = os.path.join(dir_dict[\"feature_engineered\"], f\"completed_feateng.parquet\")\n",
    "df = pd.read_parquet(filepath)"
   ]
  },
  {
   "cell_type": "code",
   "execution_count": 6,
   "id": "bd617262-4630-482e-a322-214fff0c2cd2",
   "metadata": {},
   "outputs": [],
   "source": [
    "df[\"fighter_name\"] = df[\"fighter_name\"].astype(\"category\")"
   ]
  },
  {
   "cell_type": "code",
   "execution_count": 7,
   "id": "8df14313-5270-46fa-825c-27d0f4c05db3",
   "metadata": {},
   "outputs": [
    {
     "data": {
      "text/html": [
       "<div>\n",
       "<style scoped>\n",
       "    .dataframe tbody tr th:only-of-type {\n",
       "        vertical-align: middle;\n",
       "    }\n",
       "\n",
       "    .dataframe tbody tr th {\n",
       "        vertical-align: top;\n",
       "    }\n",
       "\n",
       "    .dataframe thead th {\n",
       "        text-align: right;\n",
       "    }\n",
       "</style>\n",
       "<table border=\"1\" class=\"dataframe\">\n",
       "  <thead>\n",
       "    <tr style=\"text-align: right;\">\n",
       "      <th></th>\n",
       "      <th>event_name</th>\n",
       "      <th>event_date</th>\n",
       "      <th>event_city</th>\n",
       "      <th>event_state</th>\n",
       "      <th>event_country</th>\n",
       "      <th>fight_bout</th>\n",
       "      <th>fight_method</th>\n",
       "      <th>fight_time_format</th>\n",
       "      <th>fight_referee</th>\n",
       "      <th>fight_details</th>\n",
       "      <th>fight_weight_class</th>\n",
       "      <th>fighter_name</th>\n",
       "      <th>fighter_nickname</th>\n",
       "      <th>fighter_stance</th>\n",
       "      <th>fighter_dob</th>\n",
       "    </tr>\n",
       "  </thead>\n",
       "  <tbody>\n",
       "    <tr>\n",
       "      <th>0</th>\n",
       "      <td>&lt;NA&gt;</td>\n",
       "      <td>NaT</td>\n",
       "      <td>NaN</td>\n",
       "      <td>NaN</td>\n",
       "      <td>NaN</td>\n",
       "      <td>light_heavyweight_bout</td>\n",
       "      <td>submission</td>\n",
       "      <td>3 Rnd (5-5-5)</td>\n",
       "      <td>Chris Tognoni</td>\n",
       "      <td>Rear Naked Choke</td>\n",
       "      <td>light_heavyweight</td>\n",
       "      <td>NaN</td>\n",
       "      <td>&lt;NA&gt;</td>\n",
       "      <td>NaN</td>\n",
       "      <td>NaT</td>\n",
       "    </tr>\n",
       "    <tr>\n",
       "      <th>1</th>\n",
       "      <td>&lt;NA&gt;</td>\n",
       "      <td>NaT</td>\n",
       "      <td>NaN</td>\n",
       "      <td>NaN</td>\n",
       "      <td>NaN</td>\n",
       "      <td>light_heavyweight_bout</td>\n",
       "      <td>submission</td>\n",
       "      <td>3 Rnd (5-5-5)</td>\n",
       "      <td>Chris Tognoni</td>\n",
       "      <td>Rear Naked Choke</td>\n",
       "      <td>light_heavyweight</td>\n",
       "      <td>NaN</td>\n",
       "      <td>&lt;NA&gt;</td>\n",
       "      <td>NaN</td>\n",
       "      <td>NaT</td>\n",
       "    </tr>\n",
       "    <tr>\n",
       "      <th>2</th>\n",
       "      <td>&lt;NA&gt;</td>\n",
       "      <td>NaT</td>\n",
       "      <td>NaN</td>\n",
       "      <td>NaN</td>\n",
       "      <td>NaN</td>\n",
       "      <td>welterweight_bout</td>\n",
       "      <td>decision_unanimous</td>\n",
       "      <td>3 Rnd (5-5-5)</td>\n",
       "      <td>Yves Lavigne</td>\n",
       "      <td>Patricia Morse-Jarman                         ...</td>\n",
       "      <td>welterweight</td>\n",
       "      <td>NaN</td>\n",
       "      <td>&lt;NA&gt;</td>\n",
       "      <td>NaN</td>\n",
       "      <td>NaT</td>\n",
       "    </tr>\n",
       "    <tr>\n",
       "      <th>3</th>\n",
       "      <td>&lt;NA&gt;</td>\n",
       "      <td>NaT</td>\n",
       "      <td>NaN</td>\n",
       "      <td>NaN</td>\n",
       "      <td>NaN</td>\n",
       "      <td>welterweight_bout</td>\n",
       "      <td>decision_unanimous</td>\n",
       "      <td>3 Rnd (5-5-5)</td>\n",
       "      <td>Yves Lavigne</td>\n",
       "      <td>Patricia Morse-Jarman                         ...</td>\n",
       "      <td>welterweight</td>\n",
       "      <td>NaN</td>\n",
       "      <td>&lt;NA&gt;</td>\n",
       "      <td>NaN</td>\n",
       "      <td>NaT</td>\n",
       "    </tr>\n",
       "    <tr>\n",
       "      <th>4</th>\n",
       "      <td>&lt;NA&gt;</td>\n",
       "      <td>NaT</td>\n",
       "      <td>NaN</td>\n",
       "      <td>NaN</td>\n",
       "      <td>NaN</td>\n",
       "      <td>middleweight_bout</td>\n",
       "      <td>decision_unanimous</td>\n",
       "      <td>3 Rnd (5-5-5)</td>\n",
       "      <td>Herb Dean</td>\n",
       "      <td>Tony Weeks                                    ...</td>\n",
       "      <td>middleweight</td>\n",
       "      <td>NaN</td>\n",
       "      <td>&lt;NA&gt;</td>\n",
       "      <td>NaN</td>\n",
       "      <td>NaT</td>\n",
       "    </tr>\n",
       "    <tr>\n",
       "      <th>...</th>\n",
       "      <td>...</td>\n",
       "      <td>...</td>\n",
       "      <td>...</td>\n",
       "      <td>...</td>\n",
       "      <td>...</td>\n",
       "      <td>...</td>\n",
       "      <td>...</td>\n",
       "      <td>...</td>\n",
       "      <td>...</td>\n",
       "      <td>...</td>\n",
       "      <td>...</td>\n",
       "      <td>...</td>\n",
       "      <td>...</td>\n",
       "      <td>...</td>\n",
       "      <td>...</td>\n",
       "    </tr>\n",
       "    <tr>\n",
       "      <th>13475</th>\n",
       "      <td>&lt;NA&gt;</td>\n",
       "      <td>NaT</td>\n",
       "      <td>NaN</td>\n",
       "      <td>NaN</td>\n",
       "      <td>NaN</td>\n",
       "      <td>heavyweight_bout</td>\n",
       "      <td>ko_tko</td>\n",
       "      <td>3 Rnd (5-5-5)</td>\n",
       "      <td>Gabe Barahona</td>\n",
       "      <td>Kick to Head At Distance      Hook Kick</td>\n",
       "      <td>heavyweight</td>\n",
       "      <td>NaN</td>\n",
       "      <td>&lt;NA&gt;</td>\n",
       "      <td>NaN</td>\n",
       "      <td>NaT</td>\n",
       "    </tr>\n",
       "    <tr>\n",
       "      <th>13476</th>\n",
       "      <td>&lt;NA&gt;</td>\n",
       "      <td>NaT</td>\n",
       "      <td>NaN</td>\n",
       "      <td>NaN</td>\n",
       "      <td>NaN</td>\n",
       "      <td>welterweight_bout</td>\n",
       "      <td>decision_unanimous</td>\n",
       "      <td>3 Rnd (5-5-5)</td>\n",
       "      <td>Jason Herzog</td>\n",
       "      <td>Derek Cleary                                  ...</td>\n",
       "      <td>welterweight</td>\n",
       "      <td>NaN</td>\n",
       "      <td>&lt;NA&gt;</td>\n",
       "      <td>NaN</td>\n",
       "      <td>NaT</td>\n",
       "    </tr>\n",
       "    <tr>\n",
       "      <th>13477</th>\n",
       "      <td>&lt;NA&gt;</td>\n",
       "      <td>NaT</td>\n",
       "      <td>NaN</td>\n",
       "      <td>NaN</td>\n",
       "      <td>NaN</td>\n",
       "      <td>welterweight_bout</td>\n",
       "      <td>decision_unanimous</td>\n",
       "      <td>3 Rnd (5-5-5)</td>\n",
       "      <td>Jason Herzog</td>\n",
       "      <td>Derek Cleary                                  ...</td>\n",
       "      <td>welterweight</td>\n",
       "      <td>NaN</td>\n",
       "      <td>&lt;NA&gt;</td>\n",
       "      <td>NaN</td>\n",
       "      <td>NaT</td>\n",
       "    </tr>\n",
       "    <tr>\n",
       "      <th>13478</th>\n",
       "      <td>&lt;NA&gt;</td>\n",
       "      <td>NaT</td>\n",
       "      <td>NaN</td>\n",
       "      <td>NaN</td>\n",
       "      <td>NaN</td>\n",
       "      <td>lightweight_bout</td>\n",
       "      <td>decision_split</td>\n",
       "      <td>5 Rnd (5-5-5-5-5)</td>\n",
       "      <td>John McCarthy</td>\n",
       "      <td>Gabriel Sabaitis                              ...</td>\n",
       "      <td>lightweight</td>\n",
       "      <td>NaN</td>\n",
       "      <td>&lt;NA&gt;</td>\n",
       "      <td>NaN</td>\n",
       "      <td>NaT</td>\n",
       "    </tr>\n",
       "    <tr>\n",
       "      <th>13479</th>\n",
       "      <td>&lt;NA&gt;</td>\n",
       "      <td>NaT</td>\n",
       "      <td>NaN</td>\n",
       "      <td>NaN</td>\n",
       "      <td>NaN</td>\n",
       "      <td>lightweight_bout</td>\n",
       "      <td>decision_split</td>\n",
       "      <td>5 Rnd (5-5-5-5-5)</td>\n",
       "      <td>John McCarthy</td>\n",
       "      <td>Gabriel Sabaitis                              ...</td>\n",
       "      <td>lightweight</td>\n",
       "      <td>NaN</td>\n",
       "      <td>&lt;NA&gt;</td>\n",
       "      <td>NaN</td>\n",
       "      <td>NaT</td>\n",
       "    </tr>\n",
       "  </tbody>\n",
       "</table>\n",
       "<p>13480 rows × 15 columns</p>\n",
       "</div>"
      ],
      "text/plain": [
       "      event_name event_date event_city event_state event_country  \\\n",
       "0           <NA>        NaT        NaN         NaN           NaN   \n",
       "1           <NA>        NaT        NaN         NaN           NaN   \n",
       "2           <NA>        NaT        NaN         NaN           NaN   \n",
       "3           <NA>        NaT        NaN         NaN           NaN   \n",
       "4           <NA>        NaT        NaN         NaN           NaN   \n",
       "...          ...        ...        ...         ...           ...   \n",
       "13475       <NA>        NaT        NaN         NaN           NaN   \n",
       "13476       <NA>        NaT        NaN         NaN           NaN   \n",
       "13477       <NA>        NaT        NaN         NaN           NaN   \n",
       "13478       <NA>        NaT        NaN         NaN           NaN   \n",
       "13479       <NA>        NaT        NaN         NaN           NaN   \n",
       "\n",
       "                   fight_bout        fight_method  fight_time_format  \\\n",
       "0      light_heavyweight_bout          submission      3 Rnd (5-5-5)   \n",
       "1      light_heavyweight_bout          submission      3 Rnd (5-5-5)   \n",
       "2           welterweight_bout  decision_unanimous      3 Rnd (5-5-5)   \n",
       "3           welterweight_bout  decision_unanimous      3 Rnd (5-5-5)   \n",
       "4           middleweight_bout  decision_unanimous      3 Rnd (5-5-5)   \n",
       "...                       ...                 ...                ...   \n",
       "13475        heavyweight_bout              ko_tko      3 Rnd (5-5-5)   \n",
       "13476       welterweight_bout  decision_unanimous      3 Rnd (5-5-5)   \n",
       "13477       welterweight_bout  decision_unanimous      3 Rnd (5-5-5)   \n",
       "13478        lightweight_bout      decision_split  5 Rnd (5-5-5-5-5)   \n",
       "13479        lightweight_bout      decision_split  5 Rnd (5-5-5-5-5)   \n",
       "\n",
       "       fight_referee                                      fight_details  \\\n",
       "0      Chris Tognoni                                   Rear Naked Choke   \n",
       "1      Chris Tognoni                                   Rear Naked Choke   \n",
       "2       Yves Lavigne  Patricia Morse-Jarman                         ...   \n",
       "3       Yves Lavigne  Patricia Morse-Jarman                         ...   \n",
       "4          Herb Dean  Tony Weeks                                    ...   \n",
       "...              ...                                                ...   \n",
       "13475  Gabe Barahona            Kick to Head At Distance      Hook Kick   \n",
       "13476   Jason Herzog  Derek Cleary                                  ...   \n",
       "13477   Jason Herzog  Derek Cleary                                  ...   \n",
       "13478  John McCarthy  Gabriel Sabaitis                              ...   \n",
       "13479  John McCarthy  Gabriel Sabaitis                              ...   \n",
       "\n",
       "      fight_weight_class fighter_name fighter_nickname fighter_stance  \\\n",
       "0      light_heavyweight          NaN             <NA>            NaN   \n",
       "1      light_heavyweight          NaN             <NA>            NaN   \n",
       "2           welterweight          NaN             <NA>            NaN   \n",
       "3           welterweight          NaN             <NA>            NaN   \n",
       "4           middleweight          NaN             <NA>            NaN   \n",
       "...                  ...          ...              ...            ...   \n",
       "13475        heavyweight          NaN             <NA>            NaN   \n",
       "13476       welterweight          NaN             <NA>            NaN   \n",
       "13477       welterweight          NaN             <NA>            NaN   \n",
       "13478        lightweight          NaN             <NA>            NaN   \n",
       "13479        lightweight          NaN             <NA>            NaN   \n",
       "\n",
       "      fighter_dob  \n",
       "0             NaT  \n",
       "1             NaT  \n",
       "2             NaT  \n",
       "3             NaT  \n",
       "4             NaT  \n",
       "...           ...  \n",
       "13475         NaT  \n",
       "13476         NaT  \n",
       "13477         NaT  \n",
       "13478         NaT  \n",
       "13479         NaT  \n",
       "\n",
       "[13480 rows x 15 columns]"
      ]
     },
     "execution_count": 7,
     "metadata": {},
     "output_type": "execute_result"
    }
   ],
   "source": [
    "df.select_dtypes(exclude=[\"number\", \"bool\"])"
   ]
  },
  {
   "cell_type": "code",
   "execution_count": 8,
   "id": "bd9a545c-09a3-478d-b54a-2e5abd7e4f69",
   "metadata": {},
   "outputs": [],
   "source": [
    "to_drop = [\"event_name\", \"event_city\", \"event_state\", \"event_country\",\n",
    "           \"fight_bout\", \"fight_details\", \"fighter_dob\",  \n",
    "           \"fighter_name\", \"fighter_nickname\"]"
   ]
  },
  {
   "cell_type": "code",
   "execution_count": 9,
   "id": "e1931179-156c-43c3-81c1-ec61b46735ef",
   "metadata": {},
   "outputs": [],
   "source": [
    "df = df.drop(to_drop, axis=1)"
   ]
  },
  {
   "cell_type": "markdown",
   "id": "28320548-17c5-4095-9b11-7d3613f56d99",
   "metadata": {},
   "source": [
    "### One Hot Encoding "
   ]
  },
  {
   "cell_type": "code",
   "execution_count": 10,
   "id": "01421353-4fe3-42fe-a74e-79ef225708b5",
   "metadata": {},
   "outputs": [
    {
     "data": {
      "text/plain": [
       "['fight_method',\n",
       " 'fight_time_format',\n",
       " 'fight_referee',\n",
       " 'fight_weight_class',\n",
       " 'fighter_stance']"
      ]
     },
     "execution_count": 10,
     "metadata": {},
     "output_type": "execute_result"
    }
   ],
   "source": [
    "cat_cols = df.select_dtypes(exclude=[\"number\", \"bool\"]).columns.to_list()\n",
    "cat_cols.remove(\"event_date\")\n",
    "cat_cols"
   ]
  },
  {
   "cell_type": "code",
   "execution_count": 11,
   "id": "57dbf100-37d5-4953-aa2a-c86b2fe0c931",
   "metadata": {},
   "outputs": [],
   "source": [
    "df[cat_cols] = df[cat_cols].astype(\"category\")"
   ]
  },
  {
   "cell_type": "code",
   "execution_count": 12,
   "id": "d602028a-63d4-461b-8bc5-f66d6194c874",
   "metadata": {},
   "outputs": [],
   "source": [
    "df = pd.concat([df, pd.get_dummies(df[cat_cols])], axis=1)"
   ]
  },
  {
   "cell_type": "code",
   "execution_count": 13,
   "id": "ca2f590a-9007-4055-a65d-f22a63804a79",
   "metadata": {},
   "outputs": [],
   "source": [
    "df = df.drop(cat_cols, axis=1)"
   ]
  },
  {
   "cell_type": "code",
   "execution_count": 14,
   "id": "bcfb815d-cd11-402b-aa49-0ad1b7f56d12",
   "metadata": {},
   "outputs": [],
   "source": [
    "bool_cols = df.select_dtypes(\"bool\").columns\n",
    "df[bool_cols] = df[bool_cols].astype(\"uint8\")"
   ]
  },
  {
   "cell_type": "markdown",
   "id": "79cdcc29-69ac-48f9-9849-a3d65cd10462",
   "metadata": {},
   "source": [
    "### Drop Fight columns"
   ]
  },
  {
   "cell_type": "code",
   "execution_count": 15,
   "id": "da2a3108-e050-4e8b-b309-87893dca4ea4",
   "metadata": {},
   "outputs": [],
   "source": [
    "to_drop = [col for col in df.columns if \"fight_\" in col] \n",
    "to_drop.remove(\"fight_id\")\n",
    "to_drop.remove(\"fight_fighter_win\")\n",
    "df = df.drop(to_drop, axis=1)"
   ]
  },
  {
   "cell_type": "markdown",
   "id": "ee0c77ec-fe16-4f2f-8889-b5a0bbd29f08",
   "metadata": {},
   "source": [
    "### Deal with Null Values"
   ]
  },
  {
   "cell_type": "code",
   "execution_count": 16,
   "id": "63f8e399-f400-4bfc-acf1-9ac58cf44e3d",
   "metadata": {},
   "outputs": [
    {
     "data": {
      "text/plain": [
       "fighter_stance_switch                                  0\n",
       "fighter_opponents_cummean_round1_body_ss_landed        0\n",
       "fighter_method_decision_majority_winrate               0\n",
       "fighter_method_decision_majority_losses                0\n",
       "fighter_method_decision_majority_wins                  0\n",
       "                                                   ...  \n",
       "fighter_height_inches                              13473\n",
       "fighter_height_reach_prod                          13474\n",
       "fighter_reach_inches                               13474\n",
       "fighter_age                                        13480\n",
       "event_date                                         13480\n",
       "Length: 394, dtype: int64"
      ]
     },
     "execution_count": 16,
     "metadata": {},
     "output_type": "execute_result"
    }
   ],
   "source": [
    "df.isna().sum().sort_values()"
   ]
  },
  {
   "cell_type": "code",
   "execution_count": 17,
   "id": "1e3fcaad-b2c4-4670-aab3-f4283df9e0fa",
   "metadata": {},
   "outputs": [],
   "source": [
    "null_counter = df.isna().sum()\n",
    "\n",
    "null_pct = null_counter.sort_values() / df.shape[0]"
   ]
  },
  {
   "cell_type": "code",
   "execution_count": 18,
   "id": "f595e00d-febd-4f42-acc3-16e03851020e",
   "metadata": {},
   "outputs": [],
   "source": [
    "too_much_missing = null_pct[null_pct > 0.5].index.to_list()"
   ]
  },
  {
   "cell_type": "code",
   "execution_count": 19,
   "id": "ec3873f4-b08d-4e21-965d-12dff47ee4ec",
   "metadata": {},
   "outputs": [
    {
     "data": {
      "text/plain": [
       "113"
      ]
     },
     "execution_count": 19,
     "metadata": {},
     "output_type": "execute_result"
    }
   ],
   "source": [
    "len(too_much_missing)"
   ]
  },
  {
   "cell_type": "markdown",
   "id": "c091d3f0-f65c-4aa4-9a5d-717a99464241",
   "metadata": {},
   "source": [
    "Round4 or Round5 columns"
   ]
  },
  {
   "cell_type": "code",
   "execution_count": 20,
   "id": "a1b9f503-64fa-462b-a1e5-016bbb07ef3c",
   "metadata": {},
   "outputs": [
    {
     "data": {
      "text/plain": [
       "108"
      ]
     },
     "execution_count": 20,
     "metadata": {},
     "output_type": "execute_result"
    }
   ],
   "source": [
    "round_4_5_cols = [col for col in too_much_missing if \"round4\" in col or \"round5\" in col]\n",
    "len(round_4_5_cols)"
   ]
  },
  {
   "cell_type": "code",
   "execution_count": 21,
   "id": "f90fd641-1a5e-4414-a4e8-6be72130546a",
   "metadata": {},
   "outputs": [],
   "source": [
    "df = df.drop(round_4_5_cols, axis=1)"
   ]
  },
  {
   "cell_type": "code",
   "execution_count": 22,
   "id": "64ad2991-f217-42e7-8d19-0b825bf038de",
   "metadata": {},
   "outputs": [],
   "source": [
    "null_counter = df.isna().sum()\n",
    "\n",
    "null_pct = null_counter.sort_values() / df.shape[0]"
   ]
  },
  {
   "cell_type": "code",
   "execution_count": 23,
   "id": "b6f28430-5fe3-4a72-bc1a-99d11f18698e",
   "metadata": {},
   "outputs": [
    {
     "data": {
      "text/plain": [
       "fighter_stance_switch                       0.000000\n",
       "fighter_opponents_cummean_round1_sub_att    0.000000\n",
       "fighter_opponents_cummean_overall_rev       0.000000\n",
       "fighter_opponents_cummean_round1_rev        0.000000\n",
       "fighter_method_decision_unanimous_wins      0.000000\n",
       "                                              ...   \n",
       "fighter_height_inches                       0.999481\n",
       "fighter_height_reach_prod                   0.999555\n",
       "fighter_reach_inches                        0.999555\n",
       "fighter_age                                 1.000000\n",
       "event_date                                  1.000000\n",
       "Length: 286, dtype: float64"
      ]
     },
     "execution_count": 23,
     "metadata": {},
     "output_type": "execute_result"
    }
   ],
   "source": [
    "null_pct"
   ]
  },
  {
   "cell_type": "code",
   "execution_count": 24,
   "id": "c7414182-bfd7-4baa-a872-899a1a3d84a5",
   "metadata": {},
   "outputs": [],
   "source": [
    "desc_cols = [\"fighter_height_inches\", \"fighter_age\", \"fighter_reach_inches\"]\n",
    "df = df.loc[df[desc_cols].notna().all(axis=1)].reset_index(drop=True)"
   ]
  },
  {
   "cell_type": "code",
   "execution_count": null,
   "id": "e3b5a110-87b2-4625-8e27-4d964015e087",
   "metadata": {},
   "outputs": [],
   "source": []
  },
  {
   "cell_type": "code",
   "execution_count": 25,
   "id": "98c84e8e-1a46-4d0e-bde9-036a7cd97036",
   "metadata": {},
   "outputs": [],
   "source": [
    "null_counter = df.isna().sum()\n",
    "\n",
    "null_pct = null_counter.sort_values() / df.shape[0]\n",
    "\n",
    "null_cols = null_pct[null_pct > 0].index.to_list()"
   ]
  },
  {
   "cell_type": "code",
   "execution_count": 26,
   "id": "995263ad-c533-4d08-b735-3262b63c4808",
   "metadata": {},
   "outputs": [
    {
     "data": {
      "text/plain": [
       "0"
      ]
     },
     "execution_count": 26,
     "metadata": {},
     "output_type": "execute_result"
    }
   ],
   "source": [
    "len(null_cols)"
   ]
  },
  {
   "cell_type": "code",
   "execution_count": 27,
   "id": "15e64615-325d-4734-9f69-fc36d0ee287e",
   "metadata": {},
   "outputs": [
    {
     "data": {
      "text/plain": [
       "0"
      ]
     },
     "execution_count": 27,
     "metadata": {},
     "output_type": "execute_result"
    }
   ],
   "source": [
    "len([col for col in null_cols if \"cummean\" in col])"
   ]
  },
  {
   "cell_type": "markdown",
   "id": "20ede431-6a2f-4bd4-81a6-0eb64c97ecb1",
   "metadata": {},
   "source": [
    "#### Fighter Stats Columns"
   ]
  },
  {
   "cell_type": "code",
   "execution_count": 33,
   "id": "9c599220-054b-49be-ab82-e42c827460cc",
   "metadata": {},
   "outputs": [],
   "source": [
    "if null_cols:\n",
    "    stat_cols = [col for col in null_cols if \"fighter\" in col]\n",
    "\n",
    "    df[stat_cols] = \\\n",
    "        df.groupby(\"fighter_id\")[stat_cols].transform(lambda x: x.fillna(method=\"ffill\")\\\n",
    "                                                                          .fillna(method=\"bfill\"))"
   ]
  },
  {
   "cell_type": "code",
   "execution_count": 34,
   "id": "977404d7-6e6a-40e8-9127-12e61c0d25b6",
   "metadata": {},
   "outputs": [
    {
     "data": {
      "text/plain": [
       "event_date                                        0.0\n",
       "fighter_opponents_cummean_overall_leg_ss_total    0.0\n",
       "fighter_opponents_cummean_round1_leg_ss_landed    0.0\n",
       "fighter_opponents_cummean_round1_leg_ss_total     0.0\n",
       "fighter_opponents_cummean_round2_leg_ss_landed    0.0\n",
       "                                                 ... \n",
       "fighter_cummean_round1_ground_ss_total            0.0\n",
       "fighter_cummean_round1_ground_ss_landed           0.0\n",
       "fighter_cummean_overall_ground_ss_total           0.0\n",
       "fighter_cummean_round3_sig_str_total              0.0\n",
       "fighter_stance_switch                             0.0\n",
       "Length: 286, dtype: float64"
      ]
     },
     "execution_count": 34,
     "metadata": {},
     "output_type": "execute_result"
    }
   ],
   "source": [
    "df.isna().sum().sort_values()"
   ]
  },
  {
   "cell_type": "code",
   "execution_count": 35,
   "id": "3b53698d-bedc-43fd-9465-d544d8f1fcd0",
   "metadata": {},
   "outputs": [],
   "source": [
    "if null_cols:\n",
    "    df[stat_cols] = df[stat_cols].fillna(df[stat_cols].mean())"
   ]
  },
  {
   "cell_type": "code",
   "execution_count": 36,
   "id": "e38ff423-bb08-4584-bf5c-f3e3fb3dc606",
   "metadata": {},
   "outputs": [
    {
     "data": {
      "text/plain": [
       "event_date                                        0.0\n",
       "fighter_opponents_cummean_overall_leg_ss_total    0.0\n",
       "fighter_opponents_cummean_round1_leg_ss_landed    0.0\n",
       "fighter_opponents_cummean_round1_leg_ss_total     0.0\n",
       "fighter_opponents_cummean_round2_leg_ss_landed    0.0\n",
       "                                                 ... \n",
       "fighter_cummean_round1_ground_ss_total            0.0\n",
       "fighter_cummean_round1_ground_ss_landed           0.0\n",
       "fighter_cummean_overall_ground_ss_total           0.0\n",
       "fighter_cummean_round3_sig_str_total              0.0\n",
       "fighter_stance_switch                             0.0\n",
       "Length: 286, dtype: float64"
      ]
     },
     "execution_count": 36,
     "metadata": {},
     "output_type": "execute_result"
    }
   ],
   "source": [
    "df.isna().sum().sort_values()"
   ]
  },
  {
   "cell_type": "code",
   "execution_count": 37,
   "id": "588d3111-6d76-4109-b5c4-3cefa2b56e1f",
   "metadata": {},
   "outputs": [],
   "source": [
    "filepath = os.path.join(dir_dict[\"preprocessed\"], f\"agg_processed.parquet\")\n",
    "df.to_parquet(filepath)"
   ]
  },
  {
   "cell_type": "code",
   "execution_count": null,
   "id": "2403e671-3718-49e1-ac83-412238b9e71e",
   "metadata": {},
   "outputs": [],
   "source": []
  }
 ],
 "metadata": {
  "kernelspec": {
   "display_name": "Python 3 (ipykernel)",
   "language": "python",
   "name": "python3"
  },
  "language_info": {
   "codemirror_mode": {
    "name": "ipython",
    "version": 3
   },
   "file_extension": ".py",
   "mimetype": "text/x-python",
   "name": "python",
   "nbconvert_exporter": "python",
   "pygments_lexer": "ipython3",
   "version": "3.9.13"
  }
 },
 "nbformat": 4,
 "nbformat_minor": 5
}
