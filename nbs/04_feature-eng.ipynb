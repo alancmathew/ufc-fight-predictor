{
 "cells": [
  {
   "cell_type": "code",
   "execution_count": 1,
   "id": "de8d84ab-8c58-4a1a-b132-a73fee2c1cb2",
   "metadata": {},
   "outputs": [],
   "source": [
    "import os\n",
    "import sys\n",
    "import numpy as np\n",
    "import pandas as pd\n",
    "from tqdm import tqdm\n",
    "from multiprocessing import Pool, cpu_count"
   ]
  },
  {
   "cell_type": "code",
   "execution_count": 2,
   "id": "dd4e4c11-7618-4c96-a795-e0c400408d49",
   "metadata": {},
   "outputs": [],
   "source": [
    "sys.path.append(\"../src/\")"
   ]
  },
  {
   "cell_type": "code",
   "execution_count": 3,
   "id": "3e1f193f-dd21-470f-b143-1cee897b05af",
   "metadata": {},
   "outputs": [],
   "source": [
    "from utilities import *"
   ]
  },
  {
   "cell_type": "code",
   "execution_count": 4,
   "id": "e4f58037-a91c-4205-925a-c725b2525e7c",
   "metadata": {},
   "outputs": [],
   "source": [
    "pd.set_option(\"display.max_columns\", None)"
   ]
  },
  {
   "cell_type": "markdown",
   "id": "6bbd7591-7967-4872-83d8-a329afb5581c",
   "metadata": {},
   "source": [
    "### Initial Test"
   ]
  },
  {
   "cell_type": "code",
   "execution_count": 5,
   "id": "4807de1b-deca-43a3-b29b-e5c4dbaf98ad",
   "metadata": {},
   "outputs": [],
   "source": [
    "filepath = os.path.join(dir_dict[\"clean\"], \"completed_merged.parquet\")\n",
    "df = pd.read_parquet(filepath)"
   ]
  },
  {
   "cell_type": "code",
   "execution_count": 6,
   "id": "0df26ea1-c1fa-4160-a386-3b96942461f9",
   "metadata": {},
   "outputs": [],
   "source": [
    "df = df.select_dtypes(\"number\")\n",
    "df = df.fillna(0)"
   ]
  },
  {
   "cell_type": "code",
   "execution_count": 7,
   "id": "016db6c6-ea8d-4b99-b6b7-3153b10fff97",
   "metadata": {},
   "outputs": [],
   "source": [
    "df = df.drop([col for col in df.columns if \"fight_\" in col], axis=1)"
   ]
  },
  {
   "cell_type": "code",
   "execution_count": 8,
   "id": "0c51220c-c42c-4584-ab9e-fc2cd59ed87c",
   "metadata": {},
   "outputs": [],
   "source": [
    "from sklearn.linear_model import LogisticRegression\n",
    "from sklearn.model_selection import cross_val_score"
   ]
  },
  {
   "cell_type": "code",
   "execution_count": 9,
   "id": "c63551b9-f6f7-4505-92b7-ee34aaaa9310",
   "metadata": {},
   "outputs": [],
   "source": [
    "X, y = df.drop(\"winner\", axis=1), df[\"winner\"]"
   ]
  },
  {
   "cell_type": "code",
   "execution_count": 10,
   "id": "d6f36127-cf2e-4bb2-935e-b49f42c1d016",
   "metadata": {},
   "outputs": [
    {
     "data": {
      "text/plain": [
       "0.5073615160349855"
      ]
     },
     "execution_count": 10,
     "metadata": {},
     "output_type": "execute_result"
    }
   ],
   "source": [
    "np.mean(cross_val_score(LogisticRegression(random_state=42), X, y, cv=5, n_jobs=cpu_count()))"
   ]
  },
  {
   "cell_type": "code",
   "execution_count": null,
   "id": "5b0ff79b-e43f-4fab-8061-46caf18c5804",
   "metadata": {},
   "outputs": [],
   "source": []
  }
 ],
 "metadata": {
  "kernelspec": {
   "display_name": "Python [conda env:ufc-fight-predictor]",
   "language": "python",
   "name": "conda-env-ufc-fight-predictor-py"
  },
  "language_info": {
   "codemirror_mode": {
    "name": "ipython",
    "version": 3
   },
   "file_extension": ".py",
   "mimetype": "text/x-python",
   "name": "python",
   "nbconvert_exporter": "python",
   "pygments_lexer": "ipython3",
   "version": "3.9.13"
  }
 },
 "nbformat": 4,
 "nbformat_minor": 5
}
