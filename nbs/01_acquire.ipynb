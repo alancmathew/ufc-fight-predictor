{
 "cells": [
  {
   "cell_type": "markdown",
   "id": "4b529969-d1f5-49b5-bea8-f36f33bf66d0",
   "metadata": {},
   "source": [
    "## Data Collection"
   ]
  },
  {
   "cell_type": "code",
   "execution_count": 1,
   "id": "f86d6700-e4e7-463d-b00e-5fe7771b30f1",
   "metadata": {},
   "outputs": [],
   "source": [
    "import re\n",
    "import os\n",
    "import sys\n",
    "import time\n",
    "import httpx\n",
    "import random\n",
    "import pandas as pd\n",
    "from tqdm import tqdm\n",
    "from bs4 import BeautifulSoup"
   ]
  },
  {
   "cell_type": "code",
   "execution_count": 2,
   "id": "3967c36b-4763-4ac9-95d6-1b6e7933fb68",
   "metadata": {},
   "outputs": [],
   "source": [
    "sys.path.append(\"../src/\")"
   ]
  },
  {
   "cell_type": "code",
   "execution_count": 3,
   "id": "aac3ab9c-f5e1-47e9-a9eb-59ad64e39ef9",
   "metadata": {},
   "outputs": [],
   "source": [
    "from utilities import *"
   ]
  },
  {
   "cell_type": "markdown",
   "id": "6ea6d7b4-fb18-490c-a059-4ab8db491625",
   "metadata": {},
   "source": [
    "### Get Events list"
   ]
  },
  {
   "cell_type": "markdown",
   "id": "c7ee0574-d0b8-46d0-99b7-e2bf05cbee93",
   "metadata": {},
   "source": [
    "#### Completed"
   ]
  },
  {
   "cell_type": "code",
   "execution_count": 4,
   "id": "6c163a67-c788-44e7-96bf-02725d0ea741",
   "metadata": {},
   "outputs": [
    {
     "name": "stderr",
     "output_type": "stream",
     "text": [
      "100%|██████████| 24/24 [00:00<00:00, 19119.33it/s]\n"
     ]
    }
   ],
   "source": [
    "completed_first_url = \"http://ufcstats.com/statistics/events/completed?page=1\"\n",
    "download_sequential_pages(completed_first_url, dir_dict[\"completed_eventlist_html\"])"
   ]
  },
  {
   "cell_type": "markdown",
   "id": "5dd3919d-daff-4a18-a7f2-23ca9821d7ea",
   "metadata": {},
   "source": [
    "#### Upcoming"
   ]
  },
  {
   "cell_type": "code",
   "execution_count": 6,
   "id": "e5ad09cf-d8ad-4eee-b728-ddf291f45a5a",
   "metadata": {},
   "outputs": [],
   "source": [
    "upcoming_first_url = \"http://ufcstats.com/statistics/events/upcoming\"\n",
    "download_sequential_pages(upcoming_first_url, dir_dict[\"upcoming_eventlist_html\"])"
   ]
  },
  {
   "cell_type": "markdown",
   "id": "77c6f6db-614e-4085-ae3a-903bdb1bd0f0",
   "metadata": {},
   "source": [
    "### Parse Events list"
   ]
  },
  {
   "cell_type": "code",
   "execution_count": 7,
   "id": "4b5a1bcc-30b1-4d5e-b670-673bb5ef7f37",
   "metadata": {},
   "outputs": [],
   "source": [
    "def get_events_list(eventlist_html_dir: str) -> list[str]:\n",
    "    \n",
    "    def extract_event_data(row):\n",
    "        features = {\n",
    "            \"name\": None,\n",
    "            \"date\": None,\n",
    "            \"location\": None,\n",
    "            \"url\": None\n",
    "        }\n",
    "        \n",
    "        a_elem = row.find(\"a\", class_=\"b-link b-link_style_black\")\n",
    "        features[\"name\"], features[\"url\"] = a_elem.text.strip(), a_elem[\"href\"]\n",
    "        features[\"date\"] = row.find(\"span\", class_=\"b-statistics__date\").text.strip()\n",
    "        features[\"location\"] = row.find_all(\"td\")[1].text.strip()\n",
    "            \n",
    "        return features\n",
    "    \n",
    "    events_list = []\n",
    "    page_files = sorted(lfilter(lambda s: s.endswith(\".html\"), os.listdir(eventlist_html_dir)))\n",
    "    for file in page_files:\n",
    "        filepath = os.path.join(eventlist_html_dir, file)\n",
    "        with open(filepath, \"r\") as f:\n",
    "            eventlistpage_html = f.read()\n",
    "            assert eventlistpage_html != \"\"\n",
    "            soup = BeautifulSoup(eventlistpage_html, features=\"lxml\")\n",
    "            row_elems = soup.find(\"tbody\").find_all(\"tr\", class_=\"b-statistics__table-row\")\n",
    "            row_elems = lfilter(lambda r: len(r.find_all(\"a\", class_=\"b-link b-link_style_black\")) != 0, row_elems)\n",
    "            events_sublist = lmap(extract_event_data, row_elems)\n",
    "            events_list.extend(events_sublist)\n",
    "            \n",
    "    return events_list"
   ]
  },
  {
   "cell_type": "code",
   "execution_count": 11,
   "id": "e79afaf2-632b-45e6-85ae-8841220e25ed",
   "metadata": {},
   "outputs": [],
   "source": [
    "def save_events_df(eventlist_html_dir: str, outfilename: str) -> pd.DataFrame:\n",
    "    events_list = get_events_list(eventlist_html_dir)\n",
    "    print(f\"Event list length: {len(events_list)}\")\n",
    "    events_df = pd.DataFrame(events_list)\n",
    "    filepath = os.path.join(dir_dict[\"raw_csv\"], outfilename)\n",
    "    events_df.to_csv(filepath, index=False)\n",
    "    return events_df"
   ]
  },
  {
   "cell_type": "markdown",
   "id": "263513dc-559a-4475-bb3a-bfc358e68255",
   "metadata": {},
   "source": [
    "#### Completed"
   ]
  },
  {
   "cell_type": "code",
   "execution_count": 12,
   "id": "baf88b00-43c6-44e9-b0c8-1699b448401b",
   "metadata": {},
   "outputs": [
    {
     "name": "stdout",
     "output_type": "stream",
     "text": [
      "Event list length: 624\n"
     ]
    }
   ],
   "source": [
    "completed_events_df = save_events_df(dir_dict[\"completed_eventlist_html\"], \"completed_events.csv\")"
   ]
  },
  {
   "cell_type": "markdown",
   "id": "b38024ec-c6d6-4671-b909-f2b2e0ec8bb5",
   "metadata": {},
   "source": [
    "#### Upcoming"
   ]
  },
  {
   "cell_type": "code",
   "execution_count": 13,
   "id": "d8d73776-18a5-4404-89a7-60b4ca636e45",
   "metadata": {},
   "outputs": [
    {
     "name": "stdout",
     "output_type": "stream",
     "text": [
      "Event list length: 20\n"
     ]
    }
   ],
   "source": [
    "upcoming_events_df = save_events_df(dir_dict[\"upcoming_eventlist_html\"], \"upcoming_event.csv\")"
   ]
  },
  {
   "cell_type": "markdown",
   "id": "496e6701-4889-475f-9206-16b07a4ef6b3",
   "metadata": {},
   "source": [
    "### Get Event pages"
   ]
  },
  {
   "cell_type": "code",
   "execution_count": 14,
   "id": "a4aabe55-513f-4b4f-ac3f-9d4f2a804711",
   "metadata": {},
   "outputs": [],
   "source": [
    "def save_event_pages(event_urls: list[str], outfolderpath: str) -> None:\n",
    "    with httpx.Client() as s:\n",
    "        for url in event_urls:\n",
    "            event_id = os.path.split(url)[1]\n",
    "            if not os.path.exists(os.path.join(outfolderpath, f\"{event_id}.html\")):\n",
    "                download_get_html(url, f\"{event_id}.html\", outfolderpath, s)\n",
    "                time.sleep(random.randint(10000, 20000)/1000)"
   ]
  },
  {
   "cell_type": "markdown",
   "id": "c0f48a08-16e7-4377-bf19-a2c337786e3b",
   "metadata": {
    "tags": []
   },
   "source": [
    "#### Completed"
   ]
  },
  {
   "cell_type": "code",
   "execution_count": 15,
   "id": "aed8dede-fb72-4e7a-9def-317ff0726041",
   "metadata": {},
   "outputs": [],
   "source": [
    "completed_event_urls = completed_events_df[\"url\"].to_list()"
   ]
  },
  {
   "cell_type": "code",
   "execution_count": 17,
   "id": "872f7ab0-36ff-464f-b796-061db6ee49a5",
   "metadata": {},
   "outputs": [
    {
     "name": "stderr",
     "output_type": "stream",
     "text": [
      "100%|██████████| 624/624 [00:00<00:00, 111145.14it/s]\n"
     ]
    }
   ],
   "source": [
    "save_pages(completed_event_urls, dir_dict[\"completed_events_html\"])"
   ]
  },
  {
   "cell_type": "markdown",
   "id": "2b8dcd83-a449-42ec-af5c-c2892ef90e20",
   "metadata": {
    "tags": []
   },
   "source": [
    "#### Upcoming"
   ]
  },
  {
   "cell_type": "code",
   "execution_count": 18,
   "id": "c65f6022-7b5b-4560-acee-69265fb8999d",
   "metadata": {},
   "outputs": [],
   "source": [
    "upcoming_event_urls = upcoming_events_df[\"url\"].to_list()"
   ]
  },
  {
   "cell_type": "code",
   "execution_count": 19,
   "id": "6d2b4e5d-8d3f-4ef3-91e6-745f2662cfb3",
   "metadata": {},
   "outputs": [
    {
     "name": "stderr",
     "output_type": "stream",
     "text": [
      "100%|██████████| 20/20 [00:00<00:00, 35010.88it/s]\n"
     ]
    }
   ],
   "source": [
    "save_pages(upcoming_event_urls, dir_dict[\"upcoming_events_html\"])"
   ]
  },
  {
   "cell_type": "markdown",
   "id": "caf70345-97fc-4223-a265-1b13faad5df8",
   "metadata": {},
   "source": [
    "### Parse Fights list"
   ]
  },
  {
   "cell_type": "code",
   "execution_count": 20,
   "id": "4f8b90e3-c136-4f8c-b4cf-296725008bbd",
   "metadata": {},
   "outputs": [],
   "source": [
    "def extract_fight_urls(event_html_filepath: str):\n",
    "    \n",
    "    with open(event_html_filepath, \"r\") as f:\n",
    "        html_str = f.read()\n",
    "    \n",
    "    soup = BeautifulSoup(html_str, features=\"lxml\")\n",
    "    table = soup.find(\"table\")\n",
    "    \n",
    "    data_list = []\n",
    "    \n",
    "    headers = [key for key in map(lambda x: x.text.strip(), table.find(\"thead\").find_all(\"th\"))]\n",
    "\n",
    "    rows = table.find(\"tbody\").find_all(\"tr\")\n",
    "\n",
    "    \n",
    "    for row in rows:\n",
    "        for col, elem in zip(headers, row.find_all(\"td\")):\n",
    "            if col == \"Weight class\":\n",
    "                p_elem = elem.find(\"p\")\n",
    "                val = p_elem.text.strip()\n",
    "                data_list.append((row[\"data-link\"], val))\n",
    "    \n",
    "    return data_list"
   ]
  },
  {
   "cell_type": "code",
   "execution_count": 23,
   "id": "0bd437dd-2efb-4458-89ad-c6c88c435c1f",
   "metadata": {},
   "outputs": [],
   "source": [
    "def save_fight_urls(events_html_dir: str, outfilename: str) -> list[str]:\n",
    "    event_files = lfilter(lambda x: x.endswith(\".html\"), os.listdir(events_html_dir))\n",
    "    \n",
    "    fight_urls_list = []\n",
    "    for filename in tqdm(event_files):\n",
    "        filepath = os.path.join(events_html_dir, filename)\n",
    "        fight_urls_sublist = extract_fight_urls(filepath)\n",
    "        fight_urls_list.extend(fight_urls_sublist)\n",
    "        \n",
    "    print(f\"Fight urls list length: {len(fight_urls_list)}\")\n",
    "    df = pd.DataFrame(fight_urls_list, columns=[\"Fight Url\", \"Weight Class\"])\n",
    "    filepath = os.path.join(dir_dict[\"raw_csv\"], outfilename)\n",
    "    # write_list_to_file(fight_urls_list, filepath)\n",
    "    df.to_csv(filepath, index=False)\n",
    "    return df[\"Fight Url\"].to_list()"
   ]
  },
  {
   "cell_type": "markdown",
   "id": "5cb4c35b-d714-4e51-97b9-d0c5eeb57cd1",
   "metadata": {
    "tags": []
   },
   "source": [
    "#### Completed"
   ]
  },
  {
   "cell_type": "code",
   "execution_count": 24,
   "id": "2d332831-d8bb-4f4e-8ea7-722d238ae42b",
   "metadata": {},
   "outputs": [
    {
     "name": "stderr",
     "output_type": "stream",
     "text": [
      "100%|██████████| 624/624 [00:15<00:00, 40.25it/s]"
     ]
    },
    {
     "name": "stdout",
     "output_type": "stream",
     "text": [
      "Fight urls list length: 6875\n"
     ]
    },
    {
     "name": "stderr",
     "output_type": "stream",
     "text": [
      "\n"
     ]
    }
   ],
   "source": [
    "completed_fight_urls_list = save_fight_urls(dir_dict[\"completed_events_html\"], \"completed_fight_urls.csv\")"
   ]
  },
  {
   "cell_type": "markdown",
   "id": "7ef7e6d9-2a72-4785-9650-6a1110840067",
   "metadata": {
    "tags": []
   },
   "source": [
    "#### Upcoming"
   ]
  },
  {
   "cell_type": "code",
   "execution_count": 25,
   "id": "5beb9eae-3ccc-4ab8-9de4-08fe4d9e0152",
   "metadata": {},
   "outputs": [
    {
     "name": "stderr",
     "output_type": "stream",
     "text": [
      "100%|██████████| 10/10 [00:00<00:00, 116.25it/s]"
     ]
    },
    {
     "name": "stdout",
     "output_type": "stream",
     "text": [
      "Fight urls list length: 29\n"
     ]
    },
    {
     "name": "stderr",
     "output_type": "stream",
     "text": [
      "\n"
     ]
    }
   ],
   "source": [
    "upcoming_fight_urls_list = save_fight_urls(dir_dict[\"upcoming_events_html\"], \"upcoming_fight_urls.csv\")"
   ]
  },
  {
   "cell_type": "markdown",
   "id": "9bf2a1bf-b6bf-44dc-9dd6-af591bf218f4",
   "metadata": {},
   "source": [
    "### Get Fight pages"
   ]
  },
  {
   "cell_type": "code",
   "execution_count": 26,
   "id": "fd595467-4609-4684-bc76-1c8bd595ec9c",
   "metadata": {},
   "outputs": [],
   "source": [
    "filepath = os.path.join(dir_dict[\"raw_csv\"], \"completed_fight_urls.csv\")\n",
    "completed_fight_urls_list = pd.read_csv(filepath)[\"Fight Url\"]\n",
    "\n",
    "filepath = os.path.join(dir_dict[\"raw_csv\"], \"upcoming_fight_urls.csv\")\n",
    "upcoming_fight_urls_list = pd.read_csv(filepath)[\"Fight Url\"]"
   ]
  },
  {
   "cell_type": "code",
   "execution_count": 27,
   "id": "8a3ff217-9aac-4091-803f-14a36e6f311d",
   "metadata": {},
   "outputs": [
    {
     "name": "stderr",
     "output_type": "stream",
     "text": [
      "100%|██████████| 6875/6875 [00:00<00:00, 117411.68it/s]\n"
     ]
    }
   ],
   "source": [
    "save_pages(completed_fight_urls_list, dir_dict[\"completed_fights_html\"])"
   ]
  },
  {
   "cell_type": "code",
   "execution_count": 28,
   "id": "b0623ee1-186a-4262-b33a-8a500d9d0e41",
   "metadata": {},
   "outputs": [
    {
     "name": "stderr",
     "output_type": "stream",
     "text": [
      "100%|██████████| 29/29 [00:00<00:00, 39479.01it/s]\n"
     ]
    }
   ],
   "source": [
    "save_pages(upcoming_fight_urls_list, dir_dict[\"upcoming_fights_html\"])"
   ]
  },
  {
   "cell_type": "markdown",
   "id": "96c37cc5-bd92-43d2-a4f1-aaf13629251c",
   "metadata": {},
   "source": [
    "### Get Fighter pages"
   ]
  },
  {
   "cell_type": "code",
   "execution_count": 30,
   "id": "574f86fa-345b-4bfa-9d68-81b87fd0863a",
   "metadata": {},
   "outputs": [
    {
     "name": "stderr",
     "output_type": "stream",
     "text": [
      "  0%|          | 0/26 [00:00<?, ?it/s]\n",
      "100%|██████████| 7/7 [00:00<00:00, 12726.54it/s]\n",
      "  4%|▍         | 1/26 [00:00<00:18,  1.37it/s]\n",
      "100%|██████████| 10/10 [00:00<00:00, 15191.25it/s]\n",
      "  8%|▊         | 2/26 [00:01<00:21,  1.14it/s]\n",
      "100%|██████████| 9/9 [00:00<00:00, 9774.40it/s]\n",
      " 12%|█▏        | 3/26 [00:02<00:23,  1.03s/it]\n",
      "100%|██████████| 6/6 [00:00<00:00, 12958.71it/s]\n",
      " 15%|█▌        | 4/26 [00:03<00:22,  1.00s/it]\n",
      "100%|██████████| 2/2 [00:00<00:00, 9088.42it/s]\n",
      " 19%|█▉        | 5/26 [00:04<00:21,  1.00s/it]\n",
      "100%|██████████| 4/4 [00:00<00:00, 18914.56it/s]\n",
      " 23%|██▎       | 6/26 [00:05<00:20,  1.03s/it]\n",
      "100%|██████████| 7/7 [00:00<00:00, 22378.15it/s]\n",
      " 27%|██▋       | 7/26 [00:06<00:19,  1.01s/it]\n",
      "100%|██████████| 7/7 [00:00<00:00, 12147.34it/s]\n",
      " 35%|███▍      | 9/26 [00:09<00:17,  1.03s/it]\n",
      "100%|██████████| 3/3 [00:00<00:00, 2895.29it/s]\n",
      " 38%|███▊      | 10/26 [00:10<00:16,  1.03s/it]\n",
      "100%|██████████| 5/5 [00:00<00:00, 6186.29it/s]\n",
      " 42%|████▏     | 11/26 [00:11<00:15,  1.02s/it]\n",
      "100%|██████████| 6/6 [00:00<00:00, 10951.19it/s]\n",
      " 46%|████▌     | 12/26 [00:12<00:14,  1.01s/it]\n",
      "100%|██████████| 14/14 [00:00<00:00, 12129.78it/s]\n",
      " 50%|█████     | 13/26 [00:13<00:13,  1.01s/it]\n",
      "100%|██████████| 3/3 [00:00<00:00, 12710.01it/s]\n",
      " 54%|█████▍    | 14/26 [00:14<00:11,  1.00it/s]\n",
      "100%|██████████| 1/1 [00:00<00:00, 1512.55it/s]\n",
      " 58%|█████▊    | 15/26 [00:15<00:10,  1.00it/s]\n",
      "100%|██████████| 7/7 [00:00<00:00, 6837.48it/s]\n",
      " 65%|██████▌   | 17/26 [00:17<00:08,  1.01it/s]\n",
      "100%|██████████| 7/7 [00:00<00:00, 7528.24it/s]\n",
      " 69%|██████▉   | 18/26 [00:18<00:07,  1.00it/s]\n",
      "100%|██████████| 15/15 [00:00<00:00, 12029.55it/s]\n",
      " 73%|███████▎  | 19/26 [00:19<00:07,  1.01s/it]\n",
      "100%|██████████| 4/4 [00:00<00:00, 14290.64it/s]\n",
      " 81%|████████  | 21/26 [00:20<00:04,  1.01it/s]\n",
      "100%|██████████| 2/2 [00:00<00:00, 6278.90it/s]\n",
      " 85%|████████▍ | 22/26 [00:22<00:04,  1.03s/it]\n",
      "100%|██████████| 4/4 [00:00<00:00, 4308.48it/s]\n",
      "100%|██████████| 26/26 [00:31<00:00,  1.19s/it]\n"
     ]
    }
   ],
   "source": [
    "for i in tqdm(range(97,123)):\n",
    "    fighterlist_page_first_url = f\"http://ufcstats.com/statistics/fighters?char={chr(i)}\"\n",
    "    download_sequential_pages(fighterlist_page_first_url, dir_dict[\"fighterlist_html\"])\n",
    "    time.sleep(random.randint(2, 5))"
   ]
  },
  {
   "cell_type": "code",
   "execution_count": 31,
   "id": "d03867f8-6108-485b-80bd-0cf0d5185637",
   "metadata": {
    "tags": []
   },
   "outputs": [],
   "source": [
    "def extract_fighter_urls(fighterlist_html_filepath: str) -> list[str]:\n",
    "    with open(fighterlist_html_filepath, \"r\") as f:\n",
    "        html_str = f.read()\n",
    "        \n",
    "    soup = BeautifulSoup(html_str, features=\"lxml\")\n",
    "    rows = soup.find(\"tbody\").find_all(\"tr\")\n",
    "    rows = filter(lambda r: r.find(\"a\") != None, rows)\n",
    "    return lmap(lambda r: r.find(\"a\")[\"href\"], rows)"
   ]
  },
  {
   "cell_type": "code",
   "execution_count": 36,
   "id": "68aeef6b-f1c7-4424-b16a-4e3f3971c1f7",
   "metadata": {},
   "outputs": [],
   "source": [
    "def save_fighter_urls(fighterlist_html_dir: str, outfilename: str) -> list[str]:\n",
    "    fighterlist_files = lfilter(lambda x: x.endswith(\".html\"), os.listdir(fighterlist_html_dir))\n",
    "    \n",
    "    fighter_urls_list = []\n",
    "    for filename in tqdm(fighterlist_files):\n",
    "        filepath = os.path.join(fighterlist_html_dir, filename)\n",
    "        fighter_urls_sublist = extract_fighter_urls(filepath)\n",
    "        fighter_urls_list.extend(fighter_urls_sublist)\n",
    "        \n",
    "    print(f\"Fighter urls list length: {len(fighter_urls_list)}\")\n",
    "    filepath = os.path.join(dir_dict[\"raw_csv\"], outfilename)\n",
    "    write_list_to_file(fighter_urls_list, filepath)\n",
    "    return fighter_urls_list"
   ]
  },
  {
   "cell_type": "code",
   "execution_count": 37,
   "id": "51c6d258-4e29-4e34-9c91-e564aebcd38b",
   "metadata": {},
   "outputs": [
    {
     "name": "stderr",
     "output_type": "stream",
     "text": [
      "100%|██████████| 175/175 [00:04<00:00, 35.80it/s]"
     ]
    },
    {
     "name": "stdout",
     "output_type": "stream",
     "text": [
      "Fighter urls list length: 4178\n"
     ]
    },
    {
     "name": "stderr",
     "output_type": "stream",
     "text": [
      "\n"
     ]
    }
   ],
   "source": [
    "fighters_url_list = save_fighter_urls(dir_dict[\"fighterlist_html\"], \"fighter_urls.txt\")"
   ]
  },
  {
   "cell_type": "markdown",
   "id": "b1c30179-9de1-4837-9bda-0552d17016bc",
   "metadata": {},
   "source": [
    "### *Fights dataframe comes from future steps*"
   ]
  },
  {
   "cell_type": "code",
   "execution_count": 39,
   "id": "86ea5983-6eab-4a15-af6c-6877cc8c38f6",
   "metadata": {},
   "outputs": [
    {
     "name": "stderr",
     "output_type": "stream",
     "text": [
      "/tmp/ipykernel_319580/277442993.py:2: DtypeWarning: Columns (217,219,220) have mixed types. Specify dtype option on import or set low_memory=False.\n",
      "  fights_df = pd.read_csv(filepath)\n"
     ]
    }
   ],
   "source": [
    "filepath = os.path.join(dir_dict[\"mid\"], \"completed_fights.csv\")\n",
    "fights_df = pd.read_csv(filepath)"
   ]
  },
  {
   "cell_type": "code",
   "execution_count": 42,
   "id": "b32dd79b-e162-4751-ae0e-e38dcd79ce05",
   "metadata": {},
   "outputs": [
    {
     "name": "stdout",
     "output_type": "stream",
     "text": [
      "http://ufcstats.com/fighter-details/cc7040fe76f0ef91\n",
      "1374\n"
     ]
    },
    {
     "name": "stderr",
     "output_type": "stream",
     "text": [
      "0it [00:00, ?it/s]\n",
      "  0%|          | 3/1374 [00:56<7:06:51, 18.68s/it]\n"
     ]
    },
    {
     "ename": "KeyboardInterrupt",
     "evalue": "",
     "output_type": "error",
     "traceback": [
      "\u001b[0;31m---------------------------------------------------------------------------\u001b[0m",
      "\u001b[0;31mKeyboardInterrupt\u001b[0m                         Traceback (most recent call last)",
      "Input \u001b[0;32mIn [42]\u001b[0m, in \u001b[0;36m<cell line: 19>\u001b[0;34m()\u001b[0m\n\u001b[1;32m     13\u001b[0m remaining_fighters_urls \u001b[38;5;241m=\u001b[39m \u001b[38;5;28mlist\u001b[39m(\u001b[38;5;28mset\u001b[39m(fighters_url_list)\u001b[38;5;241m.\u001b[39mdifference(fighters_urls_in_fight_df))\n\u001b[1;32m     17\u001b[0m save_pages(fighters_urls_in_fight_df, dir_dict[\u001b[38;5;124m\"\u001b[39m\u001b[38;5;124mfighters_html\u001b[39m\u001b[38;5;124m\"\u001b[39m])\n\u001b[0;32m---> 19\u001b[0m \u001b[43msave_pages\u001b[49m\u001b[43m(\u001b[49m\u001b[43mremaining_fighters_urls\u001b[49m\u001b[43m,\u001b[49m\u001b[43m \u001b[49m\u001b[43mdir_dict\u001b[49m\u001b[43m[\u001b[49m\u001b[38;5;124;43m\"\u001b[39;49m\u001b[38;5;124;43mfighters_html\u001b[39;49m\u001b[38;5;124;43m\"\u001b[39;49m\u001b[43m]\u001b[49m\u001b[43m)\u001b[49m\n",
      "File \u001b[0;32m~/Projects/16_ufc-fight-predictor/nbs/../src/utilities.py:140\u001b[0m, in \u001b[0;36msave_pages\u001b[0;34m(urls, folderpath)\u001b[0m\n\u001b[1;32m    138\u001b[0m         session \u001b[38;5;241m=\u001b[39m httpx\u001b[38;5;241m.\u001b[39mClient()\n\u001b[1;32m    139\u001b[0m     \u001b[38;5;28;01mfinally\u001b[39;00m:\n\u001b[0;32m--> 140\u001b[0m         \u001b[43mtime\u001b[49m\u001b[38;5;241;43m.\u001b[39;49m\u001b[43msleep\u001b[49m\u001b[43m(\u001b[49m\u001b[43mrandom\u001b[49m\u001b[38;5;241;43m.\u001b[39;49m\u001b[43mrandint\u001b[49m\u001b[43m(\u001b[49m\u001b[38;5;241;43m10000\u001b[39;49m\u001b[43m,\u001b[49m\u001b[43m \u001b[49m\u001b[38;5;241;43m20000\u001b[39;49m\u001b[43m)\u001b[49m\u001b[38;5;241;43m/\u001b[39;49m\u001b[38;5;241;43m1000\u001b[39;49m\u001b[43m)\u001b[49m\n\u001b[1;32m    141\u001b[0m \u001b[38;5;28;01melse\u001b[39;00m:\n\u001b[1;32m    142\u001b[0m     reached_not_downloaded \u001b[38;5;241m=\u001b[39m \u001b[38;5;28;01mFalse\u001b[39;00m\n",
      "\u001b[0;31mKeyboardInterrupt\u001b[0m: "
     ]
    }
   ],
   "source": [
    "fighters_id_in_fight_df = list(set(fights_df[\"Fighter1 ID\"]).union(fights_df[\"Fighter2 ID\"]))\n",
    "\n",
    "fighters_urls_in_fight_df = lmap(lambda s: f\"http://ufcstats.com/fighter-details/{s}\", fighters_id_in_fight_df)\n",
    "\n",
    "alread_downloaded = lmap(lambda s: f\"http://ufcstats.com/fighter-details/{s.replace('.html','')}\", \n",
    "                         os.listdir(dir_dict[\"fighters_html\"]))\n",
    "print(alread_downloaded[0])\n",
    "\n",
    "fighters_url_list = set(fighters_url_list).difference(alread_downloaded)\n",
    "print(len(fighters_url_list))\n",
    "fighters_urls_in_fight_df = set(fighters_urls_in_fight_df).difference(alread_downloaded)\n",
    "\n",
    "remaining_fighters_urls = list(set(fighters_url_list).difference(fighters_urls_in_fight_df))\n",
    "\n",
    "\n",
    "\n",
    "save_pages(fighters_urls_in_fight_df, dir_dict[\"fighters_html\"])\n",
    "\n",
    "save_pages(remaining_fighters_urls, dir_dict[\"fighters_html\"])"
   ]
  }
 ],
 "metadata": {
  "kernelspec": {
   "display_name": "Python [conda env:ufc-fight-predictor]",
   "language": "python",
   "name": "conda-env-ufc-fight-predictor-py"
  },
  "language_info": {
   "codemirror_mode": {
    "name": "ipython",
    "version": 3
   },
   "file_extension": ".py",
   "mimetype": "text/x-python",
   "name": "python",
   "nbconvert_exporter": "python",
   "pygments_lexer": "ipython3",
   "version": "3.9.13"
  }
 },
 "nbformat": 4,
 "nbformat_minor": 5
}
