{
 "cells": [
  {
   "cell_type": "markdown",
   "id": "4fdc4b89-2a23-4f82-a748-fbc01c1a0ad6",
   "metadata": {},
   "source": [
    "# Model Evaluation"
   ]
  },
  {
   "cell_type": "code",
   "execution_count": 1,
   "id": "5a308a6b-d85c-4f7b-8953-14212bcdebcd",
   "metadata": {},
   "outputs": [],
   "source": [
    "import os\n",
    "import sys\n",
    "import json\n",
    "import time\n",
    "import joblib\n",
    "import warnings\n",
    "import numpy as np\n",
    "import pandas as pd\n",
    "from tqdm import tqdm\n",
    "import matplotlib.pyplot as plt\n",
    "from multiprocessing import Pool, cpu_count"
   ]
  },
  {
   "cell_type": "code",
   "execution_count": 2,
   "id": "2b4c8ad5-7c7d-4baa-9351-f6b47eef0273",
   "metadata": {},
   "outputs": [],
   "source": [
    "sys.path.append(\"../src/\")"
   ]
  },
  {
   "cell_type": "code",
   "execution_count": 3,
   "id": "87281eca-9c21-4a69-99b5-e747b9f60ad7",
   "metadata": {},
   "outputs": [],
   "source": [
    "from utilities import *"
   ]
  },
  {
   "cell_type": "code",
   "execution_count": 4,
   "id": "1feed380-2255-4953-8b76-22b2d37bb055",
   "metadata": {},
   "outputs": [],
   "source": [
    "pd.set_option(\"display.max_columns\", None)"
   ]
  },
  {
   "cell_type": "code",
   "execution_count": 5,
   "id": "13473c66-012f-47f0-9bc4-b4b3bee698be",
   "metadata": {},
   "outputs": [],
   "source": [
    "from sklearn.model_selection import cross_val_score"
   ]
  },
  {
   "cell_type": "markdown",
   "id": "776b791b-2866-48c9-a75c-e455e0482f08",
   "metadata": {},
   "source": [
    "### Load Data"
   ]
  },
  {
   "cell_type": "code",
   "execution_count": 6,
   "id": "8c0a55f3-39bc-4c0d-8d38-7211dc8f65c2",
   "metadata": {},
   "outputs": [],
   "source": [
    "filepath = os.path.join(dir_dict[\"train_test\"], f\"train.parquet\")\n",
    "train = pd.read_parquet(filepath)\n",
    "filepath = os.path.join(dir_dict[\"train_test\"], f\"test.parquet\")\n",
    "test = pd.read_parquet(filepath)\n",
    "\n",
    "to_drop = [\"event_date\", \"fight_id\", \"fighter_id\", \"opponent_id\"]\n",
    "train = train.drop(to_drop, axis=1)\n",
    "test = test.drop(to_drop, axis=1)"
   ]
  },
  {
   "cell_type": "code",
   "execution_count": 7,
   "id": "8ca73468-32c5-4b4c-b1ff-7a63caf2ad20",
   "metadata": {},
   "outputs": [],
   "source": [
    "target = \"fight_fighter_win\"\n",
    "X_train, y_train = train.drop(target, axis=1), train[target]\n",
    "X_test, y_test = test.drop(target, axis=1), test[target]"
   ]
  },
  {
   "cell_type": "code",
   "execution_count": 8,
   "id": "c274981e-8d40-479a-8d72-6ad7259c159c",
   "metadata": {},
   "outputs": [],
   "source": [
    "def cross_validate(estimator, X, y, cv=5, **kwargs):\n",
    "    return np.mean(cross_val_score(estimator, X, y, cv=cv, **kwargs))"
   ]
  },
  {
   "cell_type": "markdown",
   "id": "d8f44167-86cd-422c-95fd-6f84cecb14d2",
   "metadata": {},
   "source": [
    "### Load Pipelines"
   ]
  },
  {
   "cell_type": "code",
   "execution_count": 9,
   "id": "63814172-10b0-4b0a-ae44-d0ea374342fa",
   "metadata": {},
   "outputs": [],
   "source": [
    "pipe = joblib.load(\"../assets/model_training/trained_pipeline.joblib\")"
   ]
  },
  {
   "cell_type": "markdown",
   "id": "4e3b04ae-61be-41d6-922b-682aa400ed63",
   "metadata": {},
   "source": [
    "## Evaluation"
   ]
  },
  {
   "cell_type": "code",
   "execution_count": 10,
   "id": "7f9cbcdb-7432-4602-9421-66ac32425fe9",
   "metadata": {},
   "outputs": [],
   "source": [
    "from sklearn.metrics import (\n",
    "    accuracy_score, \n",
    "    confusion_matrix, \n",
    "    f1_score, \n",
    "    precision_score,\n",
    "    recall_score,\n",
    "    roc_auc_score,\n",
    "    ConfusionMatrixDisplay\n",
    ")"
   ]
  },
  {
   "cell_type": "code",
   "execution_count": 11,
   "id": "8c7d19f8-d731-4c8f-9588-c309e03705f2",
   "metadata": {},
   "outputs": [],
   "source": [
    "def get_metrics_dict_and_confusion_matrix(train_test_label):\n",
    "    global metrics_dict, pipe\n",
    "    if train_test_label == \"train\":\n",
    "        X, y = X_train, y_train\n",
    "    elif train_test_label == \"test\":\n",
    "        X, y = X_test, y_test\n",
    "    else:\n",
    "        raise Exception(\"Unknown label\")\n",
    "        \n",
    "    y_pred = pipe.predict(X)\n",
    "    metrics_dict[(train_test_label, \"accuracy\")] = accuracy_score(y, y_pred).round(4)\n",
    "    metrics_dict[(train_test_label, \"precision\")] = precision_score(y, y_pred).round(4)\n",
    "    metrics_dict[(train_test_label, \"recall\")] = recall_score(y, y_pred).round(4)\n",
    "    metrics_dict[(train_test_label, \"f1_score\")] = f1_score(y, y_pred).round(4)\n",
    "    metrics_dict[(train_test_label, \"roc_auc_score\")] = roc_auc_score(y, y_pred).round(4)\n",
    "    \n",
    "    cm = confusion_matrix(y, y_pred)\n",
    "\n",
    "    cm_plot = ConfusionMatrixDisplay(cm, display_labels=pipe.classes_)\n",
    "    cm_plot.plot()\n",
    "    plt.title(\"Confusion Matrix (Train Set)\")\n",
    "    plt.show()"
   ]
  },
  {
   "cell_type": "markdown",
   "id": "ef129dda-6282-4b61-9b5e-0b31ef523a71",
   "metadata": {
    "tags": []
   },
   "source": [
    "### Evaluate on Training Data"
   ]
  },
  {
   "cell_type": "code",
   "execution_count": 12,
   "id": "4e3a06da-32c1-4c2e-9d3e-b02cf7b110a1",
   "metadata": {},
   "outputs": [],
   "source": [
    "metrics_dict = dict()"
   ]
  },
  {
   "cell_type": "markdown",
   "id": "0c7a5201-cb8d-4adf-a9be-226bcc33536c",
   "metadata": {},
   "source": [
    "#### Single Model Pipeline"
   ]
  },
  {
   "cell_type": "code",
   "execution_count": 13,
   "id": "5d59c1dd-535f-4bd7-aafc-bf948ce6e787",
   "metadata": {},
   "outputs": [
    {
     "data": {
      "image/png": "[encoded data removed]",
      "text/plain": [
       "<Figure size 640x480 with 2 Axes>"
      ]
     },
     "metadata": {},
     "output_type": "display_data"
    }
   ],
   "source": [
    "get_metrics_dict_and_confusion_matrix(\"train\")"
   ]
  },
  {
   "cell_type": "markdown",
   "id": "8946d899-f866-4d2c-934e-1f78611fb11c",
   "metadata": {
    "tags": []
   },
   "source": [
    "### Evaluate on Testing Data"
   ]
  },
  {
   "cell_type": "markdown",
   "id": "b23e10cf-5abb-48b0-878a-0bcc2731d2cd",
   "metadata": {},
   "source": [
    "#### Single Model Pipeline"
   ]
  },
  {
   "cell_type": "code",
   "execution_count": 14,
   "id": "f4502d7b-9fd0-4bc9-98a9-8d5bc91100a8",
   "metadata": {},
   "outputs": [
    {
     "data": {
      "image/png": "[encoded data removed]",
      "text/plain": [
       "<Figure size 640x480 with 2 Axes>"
      ]
     },
     "metadata": {},
     "output_type": "display_data"
    }
   ],
   "source": [
    "get_metrics_dict_and_confusion_matrix(\"test\")"
   ]
  },
  {
   "cell_type": "markdown",
   "id": "5025fa30-1aac-47fe-847c-39d3e4fe1b07",
   "metadata": {},
   "source": [
    "### Metrics"
   ]
  },
  {
   "cell_type": "code",
   "execution_count": 15,
   "id": "65d556a6-9345-415a-a684-4e6f6d2d0934",
   "metadata": {},
   "outputs": [
    {
     "data": {
      "text/html": [
       "<div>\n",
       "<style scoped>\n",
       "    .dataframe tbody tr th:only-of-type {\n",
       "        vertical-align: middle;\n",
       "    }\n",
       "\n",
       "    .dataframe tbody tr th {\n",
       "        vertical-align: top;\n",
       "    }\n",
       "\n",
       "    .dataframe thead th {\n",
       "        text-align: right;\n",
       "    }\n",
       "</style>\n",
       "<table border=\"1\" class=\"dataframe\">\n",
       "  <thead>\n",
       "    <tr style=\"text-align: right;\">\n",
       "      <th></th>\n",
       "      <th>accuracy</th>\n",
       "      <th>f1_score</th>\n",
       "      <th>precision</th>\n",
       "      <th>recall</th>\n",
       "      <th>roc_auc_score</th>\n",
       "    </tr>\n",
       "  </thead>\n",
       "  <tbody>\n",
       "    <tr>\n",
       "      <th>train</th>\n",
       "      <td>0.6531</td>\n",
       "      <td>0.6531</td>\n",
       "      <td>0.6529</td>\n",
       "      <td>0.6533</td>\n",
       "      <td>0.6531</td>\n",
       "    </tr>\n",
       "    <tr>\n",
       "      <th>test</th>\n",
       "      <td>0.6234</td>\n",
       "      <td>0.6144</td>\n",
       "      <td>0.6299</td>\n",
       "      <td>0.5997</td>\n",
       "      <td>0.6234</td>\n",
       "    </tr>\n",
       "  </tbody>\n",
       "</table>\n",
       "</div>"
      ],
      "text/plain": [
       "       accuracy  f1_score  precision  recall  roc_auc_score\n",
       "train    0.6531    0.6531     0.6529  0.6533         0.6531\n",
       "test     0.6234    0.6144     0.6299  0.5997         0.6234"
      ]
     },
     "execution_count": 15,
     "metadata": {},
     "output_type": "execute_result"
    }
   ],
   "source": [
    "metrics_df = pd.DataFrame(metrics_dict, index=[0]).stack(level=0).reset_index(0, drop=True).sort_index(ascending=False)\n",
    "metrics_df"
   ]
  },
  {
   "cell_type": "code",
   "execution_count": null,
   "id": "28fb75f4-99c9-4d46-9704-2704c2cf7086",
   "metadata": {},
   "outputs": [],
   "source": []
  }
 ],
 "metadata": {
  "kernelspec": {
   "display_name": "Python 3 (ipykernel)",
   "language": "python",
   "name": "python3"
  },
  "language_info": {
   "codemirror_mode": {
    "name": "ipython",
    "version": 3
   },
   "file_extension": ".py",
   "mimetype": "text/x-python",
   "name": "python",
   "nbconvert_exporter": "python",
   "pygments_lexer": "ipython3",
   "version": "3.9.13"
  }
 },
 "nbformat": 4,
 "nbformat_minor": 5
}
