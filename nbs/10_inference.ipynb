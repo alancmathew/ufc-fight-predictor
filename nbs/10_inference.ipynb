{
 "cells": [
  {
   "cell_type": "code",
   "execution_count": 1,
   "id": "187e4306-4882-453b-b72a-f449647d37aa",
   "metadata": {},
   "outputs": [],
   "source": [
    "import os\n",
    "import sys\n",
    "import json\n",
    "import time\n",
    "import joblib\n",
    "import warnings\n",
    "import numpy as np\n",
    "import pandas as pd\n",
    "from tqdm import tqdm\n",
    "import matplotlib.pyplot as plt\n",
    "from multiprocessing import Pool, cpu_count"
   ]
  },
  {
   "cell_type": "code",
   "execution_count": 2,
   "id": "65a6ab8d-baf6-48b9-8aff-97241cedeb4e",
   "metadata": {},
   "outputs": [],
   "source": [
    "sys.path.append(\"../src/\")"
   ]
  },
  {
   "cell_type": "code",
   "execution_count": 3,
   "id": "3984d024-e2a0-42be-b7a7-f8548d3c1b20",
   "metadata": {},
   "outputs": [],
   "source": [
    "from utilities import *"
   ]
  },
  {
   "cell_type": "code",
   "execution_count": 4,
   "id": "f8ead2b3-93d0-41a1-9cbf-8fc75f5095fe",
   "metadata": {},
   "outputs": [],
   "source": [
    "pd.set_option(\"display.max_columns\", None)"
   ]
  },
  {
   "cell_type": "markdown",
   "id": "91d02238-cb3f-456b-947e-8d56c25faed5",
   "metadata": {},
   "source": [
    "### Load Pipelines"
   ]
  },
  {
   "cell_type": "code",
   "execution_count": 5,
   "id": "ad9375cd-d57a-46fc-ac50-0dcd566d4386",
   "metadata": {},
   "outputs": [],
   "source": [
    "pipe = joblib.load(\"../assets/model_training/trained_pipeline.joblib\")"
   ]
  },
  {
   "cell_type": "markdown",
   "id": "69a57068-3d9e-4f48-942a-e2368dab340d",
   "metadata": {},
   "source": [
    "### Load Data"
   ]
  },
  {
   "cell_type": "code",
   "execution_count": 50,
   "id": "b1548196-aceb-4b30-9969-a473a3110d96",
   "metadata": {},
   "outputs": [
    {
     "name": "stdout",
     "output_type": "stream",
     "text": [
      "(48, 564)\n"
     ]
    }
   ],
   "source": [
    "filepath = os.path.join(dir_dict[\"preprocessed\"], f\"upcoming_processed.parquet\")\n",
    "df = pd.read_parquet(filepath)\n",
    "print(df.shape)\n",
    "\n",
    "to_drop = [\"event_date\", \"fight_id\", \"fighter_id\", \"opponent_id\"]\n",
    "identifiers = df[to_drop]\n",
    "df = df.drop(to_drop, axis=1)"
   ]
  },
  {
   "cell_type": "code",
   "execution_count": 51,
   "id": "fb306b96-76b6-4df0-b933-bc097244f3b1",
   "metadata": {},
   "outputs": [],
   "source": [
    "y_pred = pipe.predict(df)"
   ]
  },
  {
   "cell_type": "code",
   "execution_count": 52,
   "id": "25c1aae7-22f4-4451-aa0b-117afb814321",
   "metadata": {},
   "outputs": [],
   "source": [
    "df[\"predicted_win\"] = y_pred\n",
    "df = pd.concat([identifiers, df], axis=1)"
   ]
  },
  {
   "cell_type": "code",
   "execution_count": 53,
   "id": "2f21acec-7932-4c8c-8143-bf525ed2c581",
   "metadata": {},
   "outputs": [],
   "source": [
    "df = df.drop_duplicates(\"fight_id\", ignore_index=True)\n",
    "df = df.sort_values(\"event_date\")"
   ]
  },
  {
   "cell_type": "code",
   "execution_count": 54,
   "id": "813316a3-8efb-49a5-a39c-5303005878ff",
   "metadata": {},
   "outputs": [],
   "source": [
    "filepath = os.path.join(dir_dict[\"clean\"], f\"fighters.parquet\")\n",
    "fighters = pd.read_parquet(filepath)"
   ]
  },
  {
   "cell_type": "code",
   "execution_count": 55,
   "id": "4453c4f1-a727-44ae-ab83-93f26aef2d1e",
   "metadata": {},
   "outputs": [],
   "source": [
    "df = df.merge(fighters[[\"fighter_id\", \"fighter_name\"]])\n",
    "df = df.merge(fighters[[\"fighter_id\", \"fighter_name\"]].rename(lambda s: s.replace(\"fighter\", \"opponent\"), axis=1))"
   ]
  },
  {
   "cell_type": "code",
   "execution_count": 57,
   "id": "8df742f4-330b-4bef-b898-8dffb006e6bc",
   "metadata": {},
   "outputs": [
    {
     "data": {
      "text/html": [
       "<div>\n",
       "<style scoped>\n",
       "    .dataframe tbody tr th:only-of-type {\n",
       "        vertical-align: middle;\n",
       "    }\n",
       "\n",
       "    .dataframe tbody tr th {\n",
       "        vertical-align: top;\n",
       "    }\n",
       "\n",
       "    .dataframe thead th {\n",
       "        text-align: right;\n",
       "    }\n",
       "</style>\n",
       "<table border=\"1\" class=\"dataframe\">\n",
       "  <thead>\n",
       "    <tr style=\"text-align: right;\">\n",
       "      <th></th>\n",
       "      <th>fighter_name</th>\n",
       "      <th>opponent_name</th>\n",
       "      <th>predicted_win</th>\n",
       "    </tr>\n",
       "  </thead>\n",
       "  <tbody>\n",
       "    <tr>\n",
       "      <th>0</th>\n",
       "      <td>Punahele Soriano</td>\n",
       "      <td>Roman Kopylov</td>\n",
       "      <td>0</td>\n",
       "    </tr>\n",
       "    <tr>\n",
       "      <th>1</th>\n",
       "      <td>Shavkat Rakhmonov</td>\n",
       "      <td>Geoff Neal</td>\n",
       "      <td>1</td>\n",
       "    </tr>\n",
       "    <tr>\n",
       "      <th>2</th>\n",
       "      <td>Zhalgas Zhumagulov</td>\n",
       "      <td>Charles Johnson</td>\n",
       "      <td>0</td>\n",
       "    </tr>\n",
       "    <tr>\n",
       "      <th>3</th>\n",
       "      <td>Damon Jackson</td>\n",
       "      <td>Dan Ige</td>\n",
       "      <td>1</td>\n",
       "    </tr>\n",
       "    <tr>\n",
       "      <th>4</th>\n",
       "      <td>Kelvin Gastelum</td>\n",
       "      <td>Nassourdine Imavov</td>\n",
       "      <td>0</td>\n",
       "    </tr>\n",
       "    <tr>\n",
       "      <th>5</th>\n",
       "      <td>Johnny Walker</td>\n",
       "      <td>Paul Craig</td>\n",
       "      <td>1</td>\n",
       "    </tr>\n",
       "    <tr>\n",
       "      <th>6</th>\n",
       "      <td>Shamil Abdurakhimov</td>\n",
       "      <td>Jailton Almeida</td>\n",
       "      <td>0</td>\n",
       "    </tr>\n",
       "    <tr>\n",
       "      <th>7</th>\n",
       "      <td>Deiveson Figueiredo</td>\n",
       "      <td>Brandon Moreno</td>\n",
       "      <td>0</td>\n",
       "    </tr>\n",
       "    <tr>\n",
       "      <th>8</th>\n",
       "      <td>Mauricio Rua</td>\n",
       "      <td>Ihor Potieria</td>\n",
       "      <td>0</td>\n",
       "    </tr>\n",
       "    <tr>\n",
       "      <th>9</th>\n",
       "      <td>Gilbert Burns</td>\n",
       "      <td>Neil Magny</td>\n",
       "      <td>0</td>\n",
       "    </tr>\n",
       "    <tr>\n",
       "      <th>10</th>\n",
       "      <td>Guram Kutateladze</td>\n",
       "      <td>Thiago Moises</td>\n",
       "      <td>1</td>\n",
       "    </tr>\n",
       "    <tr>\n",
       "      <th>11</th>\n",
       "      <td>Josiane Nunes</td>\n",
       "      <td>Zarah Fairn</td>\n",
       "      <td>1</td>\n",
       "    </tr>\n",
       "    <tr>\n",
       "      <th>12</th>\n",
       "      <td>Glover Teixeira</td>\n",
       "      <td>Jamahal Hill</td>\n",
       "      <td>0</td>\n",
       "    </tr>\n",
       "    <tr>\n",
       "      <th>13</th>\n",
       "      <td>Brad Tavares</td>\n",
       "      <td>Gregory Rodrigues</td>\n",
       "      <td>0</td>\n",
       "    </tr>\n",
       "    <tr>\n",
       "      <th>14</th>\n",
       "      <td>Lauren Murphy</td>\n",
       "      <td>Jessica Andrade</td>\n",
       "      <td>0</td>\n",
       "    </tr>\n",
       "    <tr>\n",
       "      <th>15</th>\n",
       "      <td>Nicolas Dalby</td>\n",
       "      <td>Warlley Alves</td>\n",
       "      <td>0</td>\n",
       "    </tr>\n",
       "    <tr>\n",
       "      <th>16</th>\n",
       "      <td>Derrick Lewis</td>\n",
       "      <td>Serghei Spivac</td>\n",
       "      <td>0</td>\n",
       "    </tr>\n",
       "    <tr>\n",
       "      <th>17</th>\n",
       "      <td>Melsik Baghdasaryan</td>\n",
       "      <td>Josh Culibao</td>\n",
       "      <td>1</td>\n",
       "    </tr>\n",
       "    <tr>\n",
       "      <th>18</th>\n",
       "      <td>Parker Porter</td>\n",
       "      <td>Justin Tafa</td>\n",
       "      <td>0</td>\n",
       "    </tr>\n",
       "    <tr>\n",
       "      <th>19</th>\n",
       "      <td>Yair Rodriguez</td>\n",
       "      <td>Josh Emmett</td>\n",
       "      <td>0</td>\n",
       "    </tr>\n",
       "    <tr>\n",
       "      <th>20</th>\n",
       "      <td>Alex Perez</td>\n",
       "      <td>Kai Kara-France</td>\n",
       "      <td>0</td>\n",
       "    </tr>\n",
       "    <tr>\n",
       "      <th>21</th>\n",
       "      <td>Paulo Costa</td>\n",
       "      <td>Robert Whittaker</td>\n",
       "      <td>0</td>\n",
       "    </tr>\n",
       "    <tr>\n",
       "      <th>22</th>\n",
       "      <td>Alonzo Menifield</td>\n",
       "      <td>Jimmy Crute</td>\n",
       "      <td>1</td>\n",
       "    </tr>\n",
       "    <tr>\n",
       "      <th>23</th>\n",
       "      <td>Islam Makhachev</td>\n",
       "      <td>Alexander Volkanovski</td>\n",
       "      <td>1</td>\n",
       "    </tr>\n",
       "  </tbody>\n",
       "</table>\n",
       "</div>"
      ],
      "text/plain": [
       "           fighter_name          opponent_name  predicted_win\n",
       "0      Punahele Soriano          Roman Kopylov              0\n",
       "1     Shavkat Rakhmonov             Geoff Neal              1\n",
       "2    Zhalgas Zhumagulov        Charles Johnson              0\n",
       "3         Damon Jackson                Dan Ige              1\n",
       "4       Kelvin Gastelum     Nassourdine Imavov              0\n",
       "5         Johnny Walker             Paul Craig              1\n",
       "6   Shamil Abdurakhimov        Jailton Almeida              0\n",
       "7   Deiveson Figueiredo         Brandon Moreno              0\n",
       "8          Mauricio Rua          Ihor Potieria              0\n",
       "9         Gilbert Burns             Neil Magny              0\n",
       "10    Guram Kutateladze          Thiago Moises              1\n",
       "11        Josiane Nunes            Zarah Fairn              1\n",
       "12      Glover Teixeira           Jamahal Hill              0\n",
       "13         Brad Tavares      Gregory Rodrigues              0\n",
       "14        Lauren Murphy        Jessica Andrade              0\n",
       "15        Nicolas Dalby          Warlley Alves              0\n",
       "16        Derrick Lewis         Serghei Spivac              0\n",
       "17  Melsik Baghdasaryan           Josh Culibao              1\n",
       "18        Parker Porter            Justin Tafa              0\n",
       "19       Yair Rodriguez            Josh Emmett              0\n",
       "20           Alex Perez        Kai Kara-France              0\n",
       "21          Paulo Costa       Robert Whittaker              0\n",
       "22     Alonzo Menifield            Jimmy Crute              1\n",
       "23      Islam Makhachev  Alexander Volkanovski              1"
      ]
     },
     "execution_count": 57,
     "metadata": {},
     "output_type": "execute_result"
    }
   ],
   "source": [
    "df[[\"fighter_name\", \"opponent_name\", \"predicted_win\"]]"
   ]
  },
  {
   "cell_type": "code",
   "execution_count": null,
   "id": "b0fcd1a8-74e5-4b9d-81fb-77c834cbc9eb",
   "metadata": {},
   "outputs": [],
   "source": []
  }
 ],
 "metadata": {
  "kernelspec": {
   "display_name": "Python 3 (ipykernel)",
   "language": "python",
   "name": "python3"
  },
  "language_info": {
   "codemirror_mode": {
    "name": "ipython",
    "version": 3
   },
   "file_extension": ".py",
   "mimetype": "text/x-python",
   "name": "python",
   "nbconvert_exporter": "python",
   "pygments_lexer": "ipython3",
   "version": "3.9.13"
  }
 },
 "nbformat": 4,
 "nbformat_minor": 5
}
