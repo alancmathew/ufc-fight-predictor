{
 "cells": [
  {
   "cell_type": "markdown",
   "id": "c475938d-ac51-4f2e-bc1b-4b180fc6921f",
   "metadata": {},
   "source": [
    "## Data Parsing"
   ]
  },
  {
   "cell_type": "code",
   "execution_count": 148,
   "id": "f300a41d-fdd5-43b8-8ef4-b56564da1132",
   "metadata": {},
   "outputs": [],
   "source": [
    "import os\n",
    "import re\n",
    "import time\n",
    "import json\n",
    "import httpx\n",
    "import random\n",
    "import pandas as pd\n",
    "from tqdm import tqdm\n",
    "from bs4 import BeautifulSoup\n",
    "from multiprocessing import Pool"
   ]
  },
  {
   "cell_type": "code",
   "execution_count": 138,
   "id": "581b28d5-4c40-4a24-9a3a-9ff96da93f09",
   "metadata": {},
   "outputs": [],
   "source": [
    "lmap = lambda funcion, iterable: list(map(funcion, iterable))\n",
    "lfilter = lambda funcion, iterable: list(filter(funcion, iterable))"
   ]
  },
  {
   "cell_type": "code",
   "execution_count": 139,
   "id": "738d6312-7ee9-43eb-8f1b-97a38a1fd708",
   "metadata": {},
   "outputs": [],
   "source": [
    "data_dir = \"../data/\"\n",
    "raw_dir = os.path.join(data_dir, \"raw\")\n",
    "raw_csv_dir = os.path.join(raw_dir, \"csv\")\n",
    "raw_json_dir = os.path.join(raw_dir, \"json\")\n",
    "html_dir = os.path.join(raw_dir, \"html\")\n",
    "completed_html_dir = os.path.join(html_dir, \"completed\")\n",
    "upcoming_html_dir = os.path.join(html_dir, \"upcoming\")\n",
    "fighterlist_html_dir = os.path.join(html_dir, \"fighterlist\")\n",
    "fighters_html_dir = os.path.join(html_dir, \"fighters\")\n",
    "completed_eventlist_html_dir = os.path.join(completed_html_dir, \"eventlist\")\n",
    "completed_events_html_dir = os.path.join(completed_html_dir, \"events\")\n",
    "completed_fights_html_dir = os.path.join(completed_html_dir, \"fights\")\n",
    "upcoming_eventlist_html_dir = os.path.join(upcoming_html_dir, \"eventlist\")\n",
    "upcoming_events_html_dir = os.path.join(upcoming_html_dir, \"events\")\n",
    "upcoming_fights_html_dir = os.path.join(upcoming_html_dir, \"fights\")"
   ]
  },
  {
   "cell_type": "code",
   "execution_count": 140,
   "id": "ca4afa0e-006b-4afa-89ab-a9583c0f34a3",
   "metadata": {},
   "outputs": [],
   "source": [
    "dirs = [raw_csv_dir, raw_json_dir, fighters_html_dir, fighterlist_html_dir,\n",
    "        completed_eventlist_html_dir, \n",
    "        completed_events_html_dir,\n",
    "        upcoming_eventlist_html_dir, upcoming_events_html_dir,\n",
    "       completed_fights_html_dir, upcoming_fights_html_dir]\n",
    "\n",
    "for folderpath in dirs:\n",
    "    os.makedirs(folderpath, exist_ok=True)"
   ]
  },
  {
   "cell_type": "markdown",
   "id": "ebc11ca7-91eb-4c15-81c4-78610418ff2d",
   "metadata": {},
   "source": [
    "### Parse Fight page"
   ]
  },
  {
   "cell_type": "code",
   "execution_count": 149,
   "id": "6bdbdc70-ea54-4b3d-95fc-f921ce2cbb21",
   "metadata": {},
   "outputs": [],
   "source": [
    "def indiv_fight_data_extractor(fight_id_html):\n",
    "    fight_id, fight_html = fight_id_html \n",
    "    fight_dict = {}\n",
    "\n",
    "    soup = BeautifulSoup(fight_html)\n",
    "    title_a_elem = soup.find(\"h2\", class_=\"b-content__title\").find(\"a\")\n",
    "    fight_dict[\"Event Name\"] = title_a_elem.text.strip()\n",
    "    fight_dict[\"Event Url\"] = title_a_elem[\"href\"]\n",
    "    fight_dict[\"Fight ID\"] = fight_id\n",
    "    fighters = soup.find_all(\"div\", class_=\"b-fight-details__person\")\n",
    "    for idx, fighter in enumerate(fighters, start=1):\n",
    "        fight_dict[f\"Fighter{idx} Status\"] = fighter.find(\"i\", class_=\"b-fight-details__person-status\").text.strip()\n",
    "\n",
    "        a_elem = fighter.find(\"a\", class_=\"b-link b-fight-details__person-link\")\n",
    "        fight_dict[f\"Fighter{idx} Name\"] = a_elem.text.strip()\n",
    "        fight_dict[f\"Fighter{idx} Url\"] = a_elem[\"href\"]\n",
    "\n",
    "    fight_dict[\"Bout\"] = soup.find(\"i\", class_=\"b-fight-details__fight-title\").text.strip()\n",
    "\n",
    "    fight_details_div = soup.find(\"div\", class_=\"b-fight-details__content\")\n",
    "\n",
    "    method_elem = fight_details_div.find(\"p\").find(\"i\", class_=\"b-fight-details__text-item_first\")\n",
    "\n",
    "    def get_details(i_elem):\n",
    "        i_text = i_elem.text.replace(\"\\n\", \"\").strip()\n",
    "        m = re.search(r\"(.*):\\s+(.*)\", i_text)\n",
    "        if m:\n",
    "            return (m.group(1), m.group(2))\n",
    "\n",
    "    label_elems = fight_details_div.find_all(\"i\", class_=\"b-fight-details__label\")\n",
    "    detail_elems = lmap(lambda e: e.parent, label_elems)\n",
    "    detail_tups = lfilter(lambda t: t != None, map(get_details, detail_elems))\n",
    "\n",
    "    for label, text in detail_tups:\n",
    "        fight_dict[label] = text\n",
    "\n",
    "    fight_dict\n",
    "\n",
    "    details_text = fight_details_div.find_all(\"p\")[1].text.replace(\"\\n\", \"\").strip()\n",
    "\n",
    "    m = re.search(r\"(.*):\\s+(.*)\", details_text)\n",
    "    if m:\n",
    "        fight_dict[m.group(1)] = m.group(2)\n",
    "\n",
    "    fight_dict\n",
    "\n",
    "    tables = soup.find_all(\"table\")\n",
    "\n",
    "    len(tables)\n",
    "\n",
    "    def fight_tables_to_dicts(page_html: str):\n",
    "\n",
    "        def extract_table(tables):\n",
    "            data_dict = {key:[] for key in map(lambda x: x.text.strip(), tables[0].find(\"thead\").find_all(\"th\"))}\n",
    "            data_dict[\"Round\"] = []\n",
    "\n",
    "            for i, table in enumerate(tables[:2]):\n",
    "                rows = table.find(\"tbody\").find_all(\"tr\")\n",
    "\n",
    "                for j, row in enumerate(rows, start=1):\n",
    "                    for col, elem in zip(data_dict.keys(), row.find_all(\"td\")):\n",
    "                        if col == \"Fighter\":\n",
    "                            for a_elem in elem.find_all(\"a\"):\n",
    "                                data_dict[col].append(a_elem.text.strip())\n",
    "                        else:\n",
    "                            for p_elem in elem.find_all(\"p\"):\n",
    "                                val = p_elem.text.strip()\n",
    "                                val = val if val != \"---\" else None\n",
    "                                data_dict[col].append(val)\n",
    "\n",
    "                    if i == 0:\n",
    "                        data_dict[\"Round\"].extend([\"Overall\", \"Overall\"])\n",
    "                    else:\n",
    "                        data_dict[\"Round\"].extend([f\"Round {j}\", f\"Round {j}\"])\n",
    "\n",
    "\n",
    "            return data_dict\n",
    "\n",
    "\n",
    "        soup = BeautifulSoup(page_html, features=\"lxml\")\n",
    "        tables = soup.find_all(\"table\")\n",
    "        \n",
    "        return extract_table(tables[:2]), extract_table(tables[2:])\n",
    "         \n",
    "\n",
    "    try:\n",
    "        fight_dict[\"Totals\"], fight_dict[\"Significant Strikes\"] = fight_tables_to_dicts(fight_html)\n",
    "    except IndexError:\n",
    "        print(\"Table IndexError\")\n",
    "        pass \n",
    "    \n",
    "    return fight_dict"
   ]
  },
  {
   "cell_type": "code",
   "execution_count": 152,
   "id": "6ef828bf-d5dc-4c95-bdf0-ba26a2794a60",
   "metadata": {},
   "outputs": [],
   "source": [
    "def all_fight_data_extractor(fights_html_dir):\n",
    "    fights_html_dict = {}\n",
    "\n",
    "    fight_files = lfilter(lambda x: x.endswith(\".html\"), os.listdir(fights_html_dir))\n",
    "    for filename in tqdm(fight_files):\n",
    "        filepath = os.path.join(fights_html_dir, filename)\n",
    "        with open(filepath, \"r\") as f:\n",
    "            html_str = f.read()\n",
    "            fight_id = filename.replace(\".html\",\"\")\n",
    "            fights_html_dict[fight_id] = html_str\n",
    "\n",
    "    # fights_dict_list = []\n",
    "    \n",
    "    # for fight_id, fight_html in tqdm(fights_html_dict.items()):\n",
    "    #     fights_dict_list.append(indiv_fight_data_extractor(fight_id, fight_html))\n",
    "    \n",
    "    with Pool(16) as p:\n",
    "        fights_dict_list = p.map(indiv_fight_data_extractor, fights_html_dict.items())\n",
    "        \n",
    "    return fights_dict_list"
   ]
  },
  {
   "cell_type": "code",
   "execution_count": 157,
   "id": "52c18ba9-5437-47ff-a923-ab700419c30a",
   "metadata": {},
   "outputs": [
    {
     "name": "stderr",
     "output_type": "stream",
     "text": [
      "100%|██████████| 6875/6875 [00:00<00:00, 26644.24it/s]\n"
     ]
    },
    {
     "name": "stdout",
     "output_type": "stream",
     "text": [
      "Table IndexError\n",
      "Table IndexError\n",
      "Table IndexError\n",
      "Table IndexError\n",
      "Table IndexError\n",
      "Table IndexError\n",
      "Table IndexError\n",
      "Table IndexError\n",
      "Table IndexError\n",
      "Table IndexError\n",
      "Table IndexError\n",
      "Table IndexError\n",
      "Table IndexError\n",
      "Table IndexError\n",
      "Table IndexError\n"
     ]
    }
   ],
   "source": [
    "completed_fights_dict_list = all_fight_data_extractor(completed_fights_html_dir)"
   ]
  },
  {
   "cell_type": "code",
   "execution_count": 158,
   "id": "fbcfa482-ac02-4424-80df-ca8dc50ffba8",
   "metadata": {},
   "outputs": [
    {
     "data": {
      "text/plain": [
       "6875"
      ]
     },
     "execution_count": 158,
     "metadata": {},
     "output_type": "execute_result"
    }
   ],
   "source": [
    "len(completed_fights_dict_list)"
   ]
  },
  {
   "cell_type": "code",
   "execution_count": 159,
   "id": "419177d2-9365-4060-a02a-0a6613391584",
   "metadata": {},
   "outputs": [],
   "source": [
    "filepath = os.path.join(raw_json_dir, \"completed_fights_data.json\")\n",
    "with open(filepath, \"w\") as f:\n",
    "    json.dump(completed_fights_dict_list, f, indent=4)"
   ]
  },
  {
   "cell_type": "code",
   "execution_count": null,
   "id": "18787bf1-be72-4716-a274-5167c65b23cc",
   "metadata": {},
   "outputs": [],
   "source": []
  }
 ],
 "metadata": {
  "kernelspec": {
   "display_name": "Python 3 (ipykernel)",
   "language": "python",
   "name": "python3"
  },
  "language_info": {
   "codemirror_mode": {
    "name": "ipython",
    "version": 3
   },
   "file_extension": ".py",
   "mimetype": "text/x-python",
   "name": "python",
   "nbconvert_exporter": "python",
   "pygments_lexer": "ipython3",
   "version": "3.9.13"
  }
 },
 "nbformat": 4,
 "nbformat_minor": 5
}
