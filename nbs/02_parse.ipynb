{
 "cells": [
  {
   "cell_type": "markdown",
   "id": "c475938d-ac51-4f2e-bc1b-4b180fc6921f",
   "metadata": {},
   "source": [
    "## Data Parsing"
   ]
  },
  {
   "cell_type": "code",
   "execution_count": 1,
   "id": "f300a41d-fdd5-43b8-8ef4-b56564da1132",
   "metadata": {},
   "outputs": [],
   "source": [
    "import os\n",
    "import re\n",
    "import time\n",
    "import json\n",
    "import random\n",
    "import pandas as pd\n",
    "from tqdm import tqdm\n",
    "from bs4 import BeautifulSoup\n",
    "from multiprocessing import Pool, cpu_count"
   ]
  },
  {
   "cell_type": "code",
   "execution_count": 2,
   "id": "581b28d5-4c40-4a24-9a3a-9ff96da93f09",
   "metadata": {},
   "outputs": [],
   "source": [
    "lmap = lambda funcion, iterable: list(map(funcion, iterable))\n",
    "lfilter = lambda funcion, iterable: list(filter(funcion, iterable))"
   ]
  },
  {
   "cell_type": "code",
   "execution_count": 3,
   "id": "738d6312-7ee9-43eb-8f1b-97a38a1fd708",
   "metadata": {},
   "outputs": [],
   "source": [
    "data_dir = \"../data/\"\n",
    "raw_dir = os.path.join(data_dir, \"raw\")\n",
    "raw_csv_dir = os.path.join(raw_dir, \"csv\")\n",
    "raw_json_dir = os.path.join(raw_dir, \"json\")\n",
    "html_dir = os.path.join(raw_dir, \"html\")\n",
    "completed_html_dir = os.path.join(html_dir, \"completed\")\n",
    "upcoming_html_dir = os.path.join(html_dir, \"upcoming\")\n",
    "fighterlist_html_dir = os.path.join(html_dir, \"fighterlist\")\n",
    "fighters_html_dir = os.path.join(html_dir, \"fighters\")\n",
    "completed_eventlist_html_dir = os.path.join(completed_html_dir, \"eventlist\")\n",
    "completed_events_html_dir = os.path.join(completed_html_dir, \"events\")\n",
    "completed_fights_html_dir = os.path.join(completed_html_dir, \"fights\")\n",
    "upcoming_eventlist_html_dir = os.path.join(upcoming_html_dir, \"eventlist\")\n",
    "upcoming_events_html_dir = os.path.join(upcoming_html_dir, \"events\")\n",
    "upcoming_fights_html_dir = os.path.join(upcoming_html_dir, \"fights\")"
   ]
  },
  {
   "cell_type": "code",
   "execution_count": 4,
   "id": "ca4afa0e-006b-4afa-89ab-a9583c0f34a3",
   "metadata": {},
   "outputs": [],
   "source": [
    "dirs = [raw_csv_dir, raw_json_dir, fighters_html_dir, fighterlist_html_dir,\n",
    "        completed_eventlist_html_dir, \n",
    "        completed_events_html_dir,\n",
    "        upcoming_eventlist_html_dir, upcoming_events_html_dir,\n",
    "       completed_fights_html_dir, upcoming_fights_html_dir]\n",
    "\n",
    "for folderpath in dirs:\n",
    "    os.makedirs(folderpath, exist_ok=True)"
   ]
  },
  {
   "cell_type": "markdown",
   "id": "ebc11ca7-91eb-4c15-81c4-78610418ff2d",
   "metadata": {},
   "source": [
    "### Parse Fight page"
   ]
  },
  {
   "cell_type": "code",
   "execution_count": 5,
   "id": "6bdbdc70-ea54-4b3d-95fc-f921ce2cbb21",
   "metadata": {},
   "outputs": [],
   "source": [
    "def indiv_fight_data_extractor(fight_id_html):\n",
    "    fight_id, fight_html = fight_id_html \n",
    "    fight_dict = {}\n",
    "\n",
    "    soup = BeautifulSoup(fight_html)\n",
    "    title_a_elem = soup.find(\"h2\", class_=\"b-content__title\").find(\"a\")\n",
    "    fight_dict[\"Event Name\"] = title_a_elem.text.strip()\n",
    "    fight_dict[\"Event Url\"] = title_a_elem[\"href\"]\n",
    "    fight_dict[\"Fight ID\"] = fight_id\n",
    "    fighters = soup.find_all(\"div\", class_=\"b-fight-details__person\")\n",
    "    for idx, fighter in enumerate(fighters, start=1):\n",
    "        fight_dict[f\"Fighter{idx} Status\"] = fighter.find(\"i\", class_=\"b-fight-details__person-status\").text.strip()\n",
    "\n",
    "        a_elem = fighter.find(\"a\", class_=\"b-link b-fight-details__person-link\")\n",
    "        fight_dict[f\"Fighter{idx} Name\"] = a_elem.text.strip()\n",
    "        fight_dict[f\"Fighter{idx} Url\"] = a_elem[\"href\"]\n",
    "\n",
    "    fight_dict[\"Bout\"] = soup.find(\"i\", class_=\"b-fight-details__fight-title\").text.strip()\n",
    "\n",
    "    fight_details_div = soup.find(\"div\", class_=\"b-fight-details__content\")\n",
    "\n",
    "    method_elem = fight_details_div.find(\"p\").find(\"i\", class_=\"b-fight-details__text-item_first\")\n",
    "\n",
    "    def get_details(i_elem):\n",
    "        i_text = i_elem.text.replace(\"\\n\", \"\").strip()\n",
    "        m = re.search(r\"(.*):\\s+(.*)\", i_text)\n",
    "        if m:\n",
    "            return (m.group(1), m.group(2))\n",
    "\n",
    "    label_elems = fight_details_div.find_all(\"i\", class_=\"b-fight-details__label\")\n",
    "    detail_elems = lmap(lambda e: e.parent, label_elems)\n",
    "    detail_tups = lfilter(lambda t: t != None, map(get_details, detail_elems))\n",
    "\n",
    "    for label, text in detail_tups:\n",
    "        fight_dict[label] = text\n",
    "\n",
    "    fight_dict\n",
    "\n",
    "    details_text = fight_details_div.find_all(\"p\")[1].text.replace(\"\\n\", \"\").strip()\n",
    "\n",
    "    m = re.search(r\"(.*):\\s+(.*)\", details_text)\n",
    "    if m:\n",
    "        fight_dict[m.group(1)] = m.group(2)\n",
    "\n",
    "    fight_dict\n",
    "\n",
    "    tables = soup.find_all(\"table\")\n",
    "\n",
    "    len(tables)\n",
    "\n",
    "    def fight_tables_to_dicts(page_html: str):\n",
    "\n",
    "        def extract_table(tables):\n",
    "            data_dict = {key:[] for key in map(lambda x: x.text.strip(), tables[0].find(\"thead\").find_all(\"th\"))}\n",
    "            data_dict[\"Round\"] = []\n",
    "\n",
    "            for i, table in enumerate(tables[:2]):\n",
    "                rows = table.find(\"tbody\").find_all(\"tr\")\n",
    "\n",
    "                for j, row in enumerate(rows, start=1):\n",
    "                    for col, elem in zip(data_dict.keys(), row.find_all(\"td\")):\n",
    "                        if col == \"Fighter\":\n",
    "                            for a_elem in elem.find_all(\"a\"):\n",
    "                                data_dict[col].append(a_elem.text.strip())\n",
    "                        else:\n",
    "                            for p_elem in elem.find_all(\"p\"):\n",
    "                                val = p_elem.text.strip()\n",
    "                                val = val if val != \"---\" else None\n",
    "                                data_dict[col].append(val)\n",
    "\n",
    "                    if i == 0:\n",
    "                        data_dict[\"Round\"].extend([\"Overall\", \"Overall\"])\n",
    "                    else:\n",
    "                        data_dict[\"Round\"].extend([f\"Round {j}\", f\"Round {j}\"])\n",
    "\n",
    "\n",
    "            return data_dict\n",
    "\n",
    "\n",
    "        soup = BeautifulSoup(page_html, features=\"lxml\")\n",
    "        tables = soup.find_all(\"table\")\n",
    "        \n",
    "        return extract_table(tables[:2]), extract_table(tables[2:])\n",
    "         \n",
    "\n",
    "    try:\n",
    "        fight_dict[\"Totals\"], fight_dict[\"Significant Strikes\"] = fight_tables_to_dicts(fight_html)\n",
    "    except IndexError:\n",
    "        print(\"Table IndexError\")\n",
    "        pass \n",
    "    \n",
    "    return fight_dict"
   ]
  },
  {
   "cell_type": "code",
   "execution_count": 6,
   "id": "6ef828bf-d5dc-4c95-bdf0-ba26a2794a60",
   "metadata": {},
   "outputs": [],
   "source": [
    "def all_fight_data_extractor(fights_html_dir):\n",
    "    fights_html_dict = {}\n",
    "\n",
    "    fight_files = lfilter(lambda x: x.endswith(\".html\"), os.listdir(fights_html_dir))\n",
    "    for filename in tqdm(fight_files):\n",
    "        filepath = os.path.join(fights_html_dir, filename)\n",
    "        with open(filepath, \"r\") as f:\n",
    "            html_str = f.read()\n",
    "            fight_id = filename.replace(\".html\",\"\")\n",
    "            fights_html_dict[fight_id] = html_str\n",
    "\n",
    "    # fights_dict_list = []\n",
    "    \n",
    "    # for fight_id, fight_html in tqdm(fights_html_dict.items()):\n",
    "    #     fights_dict_list.append(indiv_fight_data_extractor(fight_id, fight_html))\n",
    "    \n",
    "    with Pool(cpu_count()) as p:\n",
    "        fights_dict_list = p.map(indiv_fight_data_extractor, fights_html_dict.items())\n",
    "        \n",
    "    return fights_dict_list"
   ]
  },
  {
   "cell_type": "code",
   "execution_count": 7,
   "id": "52c18ba9-5437-47ff-a923-ab700419c30a",
   "metadata": {},
   "outputs": [
    {
     "name": "stderr",
     "output_type": "stream",
     "text": [
      "100%|██████████| 6875/6875 [00:01<00:00, 4298.42it/s]\n"
     ]
    },
    {
     "name": "stdout",
     "output_type": "stream",
     "text": [
      "Table IndexError\n",
      "Table IndexError\n",
      "Table IndexError\n",
      "Table IndexError\n",
      "Table IndexError\n",
      "Table IndexError\n",
      "Table IndexError\n",
      "Table IndexError\n",
      "Table IndexError\n",
      "Table IndexError\n",
      "Table IndexError\n",
      "Table IndexError\n",
      "Table IndexError\n",
      "Table IndexError\n",
      "Table IndexError\n"
     ]
    }
   ],
   "source": [
    "completed_fights_dict_list = all_fight_data_extractor(completed_fights_html_dir)"
   ]
  },
  {
   "cell_type": "code",
   "execution_count": 8,
   "id": "fbcfa482-ac02-4424-80df-ca8dc50ffba8",
   "metadata": {},
   "outputs": [
    {
     "data": {
      "text/plain": [
       "6875"
      ]
     },
     "execution_count": 8,
     "metadata": {},
     "output_type": "execute_result"
    }
   ],
   "source": [
    "len(completed_fights_dict_list)"
   ]
  },
  {
   "cell_type": "code",
   "execution_count": 9,
   "id": "419177d2-9365-4060-a02a-0a6613391584",
   "metadata": {},
   "outputs": [],
   "source": [
    "filepath = os.path.join(raw_json_dir, \"completed_fights_data.json\")\n",
    "with open(filepath, \"w\") as f:\n",
    "    json.dump(completed_fights_dict_list, f, indent=4)"
   ]
  },
  {
   "cell_type": "markdown",
   "id": "6ec1e9af-ee54-45be-9f6d-118adf578a52",
   "metadata": {},
   "source": [
    "### Parse Fighter pages"
   ]
  },
  {
   "cell_type": "code",
   "execution_count": 10,
   "id": "578b4c62-38ac-466e-8ecf-f02f258fbc25",
   "metadata": {},
   "outputs": [],
   "source": [
    "def extract_fighter_data(fighter_page_filepath):\n",
    "\n",
    "    with open(fighter_page_filepath, \"r\") as f:\n",
    "        html_str = f.read()\n",
    "\n",
    "    soup = BeautifulSoup(html_str)\n",
    "\n",
    "    fighter_dict = dict()\n",
    "\n",
    "    fighter_dict[\"Name\"] = soup.find(\"span\", class_=\"b-content__title-highlight\").text.strip() \n",
    "\n",
    "    fighter_dict[\"Fighter ID\"] = os.path.split(fighter_page_filepath)[1].replace(\".html\",\"\")\n",
    "    \n",
    "    fighter_dict[\"Record\"] = soup.find(\"span\", class_=\"b-content__title-record\").text.replace(\"Record:\",\"\").strip() \n",
    "\n",
    "    nn = soup.find(\"p\", class_=\"b-content__Nickname\").text.strip()\n",
    "    fighter_dict[\"Nickname\"] = nn if nn else None\n",
    "\n",
    "    fighter_dict\n",
    "\n",
    "    uls = soup.find_all(\"ul\", class_=\"b-list__box-list\")\n",
    "\n",
    "    info_list = [li.text.replace(\"\\n\",\"\").strip() for ul in uls for li in ul.find_all(\"li\")]\n",
    "\n",
    "    info_list = lfilter(lambda s: s, info_list)\n",
    "\n",
    "    for info in info_list:\n",
    "        m = re.search(r\"(.*):\\s+(.*)\", info)\n",
    "        if m:\n",
    "            key, val = m.group(1).strip(), m.group(2).strip()\n",
    "            if key == \"Height\":\n",
    "                val = val.replace(\" \",\"\")\n",
    "            if val == \"--\":\n",
    "                val = None\n",
    "            fighter_dict[key] = val\n",
    "\n",
    "    return fighter_dict"
   ]
  },
  {
   "cell_type": "code",
   "execution_count": 11,
   "id": "f6fccb4a-5316-4145-ac1b-e629c42f3c6b",
   "metadata": {
    "tags": []
   },
   "outputs": [],
   "source": [
    "def create_fighters_df(fighters_html_dir):\n",
    "    fighter_files = os.listdir(fighters_html_dir)\n",
    "    fighter_files = lfilter(lambda s: s.endswith(\".html\"), fighter_files)\n",
    "    fighter_filepaths = lmap(lambda s: os.path.join(fighters_html_dir, s), fighter_files)\n",
    "    \n",
    "    with Pool(cpu_count()) as p:\n",
    "        fighters_lod = p.map(extract_fighter_data, fighter_filepaths)\n",
    "        \n",
    "    return pd.DataFrame(fighters_lod)"
   ]
  },
  {
   "cell_type": "code",
   "execution_count": 12,
   "id": "cc3c1abd-59c5-4886-a9c0-060dcc34f0c5",
   "metadata": {},
   "outputs": [],
   "source": [
    "fighter_files = os.listdir(fighters_html_dir)"
   ]
  },
  {
   "cell_type": "code",
   "execution_count": 13,
   "id": "c83dd8d9-0f60-4b63-afad-0a33ba9b03ad",
   "metadata": {},
   "outputs": [
    {
     "data": {
      "text/plain": [
       "2390"
      ]
     },
     "execution_count": 13,
     "metadata": {},
     "output_type": "execute_result"
    }
   ],
   "source": [
    "len(fighter_files)"
   ]
  },
  {
   "cell_type": "code",
   "execution_count": 14,
   "id": "6c54450a-43ae-4f93-a51e-5f3dc16e0ebb",
   "metadata": {},
   "outputs": [],
   "source": [
    "fighters_df = create_fighters_df(fighters_html_dir)"
   ]
  },
  {
   "cell_type": "code",
   "execution_count": 15,
   "id": "2ac25c63-0d2a-478f-bc91-018b62d35491",
   "metadata": {},
   "outputs": [
    {
     "data": {
      "text/html": [
       "<div>\n",
       "<style scoped>\n",
       "    .dataframe tbody tr th:only-of-type {\n",
       "        vertical-align: middle;\n",
       "    }\n",
       "\n",
       "    .dataframe tbody tr th {\n",
       "        vertical-align: top;\n",
       "    }\n",
       "\n",
       "    .dataframe thead th {\n",
       "        text-align: right;\n",
       "    }\n",
       "</style>\n",
       "<table border=\"1\" class=\"dataframe\">\n",
       "  <thead>\n",
       "    <tr style=\"text-align: right;\">\n",
       "      <th></th>\n",
       "      <th>Name</th>\n",
       "      <th>Fighter ID</th>\n",
       "      <th>Record</th>\n",
       "      <th>Nickname</th>\n",
       "      <th>Height</th>\n",
       "      <th>Weight</th>\n",
       "      <th>Reach</th>\n",
       "      <th>STANCE</th>\n",
       "      <th>DOB</th>\n",
       "      <th>SLpM</th>\n",
       "      <th>Str. Acc.</th>\n",
       "      <th>SApM</th>\n",
       "      <th>Str. Def</th>\n",
       "      <th>TD Avg.</th>\n",
       "      <th>TD Acc.</th>\n",
       "      <th>TD Def.</th>\n",
       "      <th>Sub. Avg.</th>\n",
       "    </tr>\n",
       "  </thead>\n",
       "  <tbody>\n",
       "    <tr>\n",
       "      <th>0</th>\n",
       "      <td>Devin Clark</td>\n",
       "      <td>cc7040fe76f0ef91</td>\n",
       "      <td>13-7-0</td>\n",
       "      <td>Brown Bear</td>\n",
       "      <td>6'0\"</td>\n",
       "      <td>205 lbs.</td>\n",
       "      <td>75\"</td>\n",
       "      <td>Orthodox</td>\n",
       "      <td>Apr 12, 1990</td>\n",
       "      <td>2.94</td>\n",
       "      <td>55%</td>\n",
       "      <td>2.86</td>\n",
       "      <td>44%</td>\n",
       "      <td>2.30</td>\n",
       "      <td>35%</td>\n",
       "      <td>55%</td>\n",
       "      <td>0.1</td>\n",
       "    </tr>\n",
       "    <tr>\n",
       "      <th>1</th>\n",
       "      <td>Ketlen Vieira</td>\n",
       "      <td>b9706f80d005036c</td>\n",
       "      <td>13-2-0</td>\n",
       "      <td>Fenomeno</td>\n",
       "      <td>5'8\"</td>\n",
       "      <td>135 lbs.</td>\n",
       "      <td>68\"</td>\n",
       "      <td>Orthodox</td>\n",
       "      <td>Aug 26, 1991</td>\n",
       "      <td>3.13</td>\n",
       "      <td>41%</td>\n",
       "      <td>4.03</td>\n",
       "      <td>52%</td>\n",
       "      <td>1.51</td>\n",
       "      <td>40%</td>\n",
       "      <td>92%</td>\n",
       "      <td>0.4</td>\n",
       "    </tr>\n",
       "    <tr>\n",
       "      <th>2</th>\n",
       "      <td>Chuck Liddell</td>\n",
       "      <td>a390eb8a9b2df298</td>\n",
       "      <td>21-8-0</td>\n",
       "      <td>The Iceman</td>\n",
       "      <td>6'2\"</td>\n",
       "      <td>205 lbs.</td>\n",
       "      <td>76\"</td>\n",
       "      <td>Orthodox</td>\n",
       "      <td>Dec 17, 1969</td>\n",
       "      <td>2.97</td>\n",
       "      <td>35%</td>\n",
       "      <td>2.71</td>\n",
       "      <td>56%</td>\n",
       "      <td>0.44</td>\n",
       "      <td>75%</td>\n",
       "      <td>81%</td>\n",
       "      <td>0.0</td>\n",
       "    </tr>\n",
       "    <tr>\n",
       "      <th>3</th>\n",
       "      <td>Ronnie Lawrence</td>\n",
       "      <td>e7e01e266a9d4342</td>\n",
       "      <td>8-2-0</td>\n",
       "      <td>The Heat</td>\n",
       "      <td>5'8\"</td>\n",
       "      <td>135 lbs.</td>\n",
       "      <td>68\"</td>\n",
       "      <td>Switch</td>\n",
       "      <td>Jun 13, 1992</td>\n",
       "      <td>2.88</td>\n",
       "      <td>56%</td>\n",
       "      <td>1.75</td>\n",
       "      <td>53%</td>\n",
       "      <td>7.03</td>\n",
       "      <td>77%</td>\n",
       "      <td>47%</td>\n",
       "      <td>0.3</td>\n",
       "    </tr>\n",
       "    <tr>\n",
       "      <th>4</th>\n",
       "      <td>Chris Leben</td>\n",
       "      <td>d43a048a880efdff</td>\n",
       "      <td>22-11-0</td>\n",
       "      <td>The Crippler</td>\n",
       "      <td>5'11\"</td>\n",
       "      <td>185 lbs.</td>\n",
       "      <td>73\"</td>\n",
       "      <td>Southpaw</td>\n",
       "      <td>Jul 21, 1980</td>\n",
       "      <td>2.87</td>\n",
       "      <td>42%</td>\n",
       "      <td>2.87</td>\n",
       "      <td>52%</td>\n",
       "      <td>1.14</td>\n",
       "      <td>41%</td>\n",
       "      <td>53%</td>\n",
       "      <td>0.8</td>\n",
       "    </tr>\n",
       "  </tbody>\n",
       "</table>\n",
       "</div>"
      ],
      "text/plain": [
       "              Name        Fighter ID   Record      Nickname Height    Weight  \\\n",
       "0      Devin Clark  cc7040fe76f0ef91   13-7-0    Brown Bear   6'0\"  205 lbs.   \n",
       "1    Ketlen Vieira  b9706f80d005036c   13-2-0      Fenomeno   5'8\"  135 lbs.   \n",
       "2    Chuck Liddell  a390eb8a9b2df298   21-8-0    The Iceman   6'2\"  205 lbs.   \n",
       "3  Ronnie Lawrence  e7e01e266a9d4342    8-2-0      The Heat   5'8\"  135 lbs.   \n",
       "4      Chris Leben  d43a048a880efdff  22-11-0  The Crippler  5'11\"  185 lbs.   \n",
       "\n",
       "  Reach    STANCE           DOB  SLpM Str. Acc.  SApM Str. Def TD Avg.  \\\n",
       "0   75\"  Orthodox  Apr 12, 1990  2.94       55%  2.86      44%    2.30   \n",
       "1   68\"  Orthodox  Aug 26, 1991  3.13       41%  4.03      52%    1.51   \n",
       "2   76\"  Orthodox  Dec 17, 1969  2.97       35%  2.71      56%    0.44   \n",
       "3   68\"    Switch  Jun 13, 1992  2.88       56%  1.75      53%    7.03   \n",
       "4   73\"  Southpaw  Jul 21, 1980  2.87       42%  2.87      52%    1.14   \n",
       "\n",
       "  TD Acc. TD Def. Sub. Avg.  \n",
       "0     35%     55%       0.1  \n",
       "1     40%     92%       0.4  \n",
       "2     75%     81%       0.0  \n",
       "3     77%     47%       0.3  \n",
       "4     41%     53%       0.8  "
      ]
     },
     "execution_count": 15,
     "metadata": {},
     "output_type": "execute_result"
    }
   ],
   "source": [
    "fighters_df.head()"
   ]
  },
  {
   "cell_type": "code",
   "execution_count": 16,
   "id": "21ec6757-c6ab-4af7-86b8-3d4cea4f4ae0",
   "metadata": {},
   "outputs": [
    {
     "data": {
      "text/plain": [
       "(2389, 17)"
      ]
     },
     "execution_count": 16,
     "metadata": {},
     "output_type": "execute_result"
    }
   ],
   "source": [
    "fighters_df.shape"
   ]
  },
  {
   "cell_type": "code",
   "execution_count": 17,
   "id": "13e37835-3342-4139-a429-0d26150af771",
   "metadata": {},
   "outputs": [],
   "source": [
    "filepath = os.path.join(raw_csv_dir, \"fighters_data.csv\")\n",
    "fighters_df.to_csv(filepath, index=False)"
   ]
  },
  {
   "cell_type": "code",
   "execution_count": null,
   "id": "e690be6d-885f-4787-a894-1ac0a7452b56",
   "metadata": {},
   "outputs": [],
   "source": []
  }
 ],
 "metadata": {
  "kernelspec": {
   "display_name": "Python 3 (ipykernel)",
   "language": "python",
   "name": "python3"
  },
  "language_info": {
   "codemirror_mode": {
    "name": "ipython",
    "version": 3
   },
   "file_extension": ".py",
   "mimetype": "text/x-python",
   "name": "python",
   "nbconvert_exporter": "python",
   "pygments_lexer": "ipython3",
   "version": "3.9.15"
  }
 },
 "nbformat": 4,
 "nbformat_minor": 5
}
